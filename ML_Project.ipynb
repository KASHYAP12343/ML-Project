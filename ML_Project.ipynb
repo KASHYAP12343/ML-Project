{
 "cells": [
  {
   "cell_type": "code",
   "execution_count": null,
   "metadata": {},
   "outputs": [
    {
     "name": "stdout",
     "output_type": "stream",
     "text": [
      "Requirement already satisfied: optuna in /usr/local/lib/python3.12/dist-packages (4.5.0)\n",
      "Requirement already satisfied: alembic>=1.5.0 in /usr/local/lib/python3.12/dist-packages (from optuna) (1.17.0)\n",
      "Requirement already satisfied: colorlog in /usr/local/lib/python3.12/dist-packages (from optuna) (6.10.1)\n",
      "Requirement already satisfied: numpy in /usr/local/lib/python3.12/dist-packages (from optuna) (2.0.2)\n",
      "Requirement already satisfied: packaging>=20.0 in /usr/local/lib/python3.12/dist-packages (from optuna) (25.0)\n",
      "Requirement already satisfied: sqlalchemy>=1.4.2 in /usr/local/lib/python3.12/dist-packages (from optuna) (2.0.44)\n",
      "Requirement already satisfied: tqdm in /usr/local/lib/python3.12/dist-packages (from optuna) (4.67.1)\n",
      "Requirement already satisfied: PyYAML in /usr/local/lib/python3.12/dist-packages (from optuna) (6.0.3)\n",
      "Requirement already satisfied: Mako in /usr/local/lib/python3.12/dist-packages (from alembic>=1.5.0->optuna) (1.3.10)\n",
      "Requirement already satisfied: typing-extensions>=4.12 in /usr/local/lib/python3.12/dist-packages (from alembic>=1.5.0->optuna) (4.15.0)\n",
      "Requirement already satisfied: greenlet>=1 in /usr/local/lib/python3.12/dist-packages (from sqlalchemy>=1.4.2->optuna) (3.2.4)\n",
      "Requirement already satisfied: MarkupSafe>=0.9.2 in /usr/local/lib/python3.12/dist-packages (from Mako->alembic>=1.5.0->optuna) (3.0.3)\n",
      "Requirement already satisfied: xgboost in /usr/local/lib/python3.12/dist-packages (3.1.1)\n",
      "Requirement already satisfied: numpy in /usr/local/lib/python3.12/dist-packages (from xgboost) (2.0.2)\n",
      "Requirement already satisfied: nvidia-nccl-cu12 in /usr/local/lib/python3.12/dist-packages (from xgboost) (2.27.3)\n",
      "Requirement already satisfied: scipy in /usr/local/lib/python3.12/dist-packages (from xgboost) (1.16.2)\n"
     ]
    }
   ],
   "source": [
    "!pip install optuna\n",
    "!pip install -U xgboost"
   ]
  },
  {
   "cell_type": "code",
   "execution_count": 7,
   "metadata": {},
   "outputs": [
    {
     "name": "stderr",
     "output_type": "stream",
     "text": [
      "[I 2025-10-27 04:05:44,254] A new study created in memory with name: no-name-1ccc1eab-2e2e-4e16-b23b-d27266f44950\n"
     ]
    },
    {
     "name": "stdout",
     "output_type": "stream",
     "text": [
      "Train Shape: (15533, 18)\n",
      "Test Shape: (5225, 17)\n",
      "\n",
      "Encoded Train Shape: (15533, 30)\n",
      "Encoded Test Shape: (5225, 30)\n",
      "\n",
      " Running Optuna optimization (this may take a few minutes)...\n"
     ]
    },
    {
     "data": {
      "application/vnd.jupyter.widget-view+json": {
       "model_id": "6dc8cebfdc544f0fa187bd8128b2a3aa",
       "version_major": 2,
       "version_minor": 0
      },
      "text/plain": [
       "  0%|          | 0/130 [00:00<?, ?it/s]"
      ]
     },
     "metadata": {},
     "output_type": "display_data"
    },
    {
     "name": "stderr",
     "output_type": "stream",
     "text": [
      "/usr/local/lib/python3.12/dist-packages/xgboost/training.py:199: UserWarning: [04:05:44] WARNING: /workspace/src/learner.cc:790: \n",
      "Parameters: { \"use_label_encoder\" } are not used.\n",
      "\n",
      "  bst.update(dtrain, iteration=i, fobj=obj)\n",
      "/usr/local/lib/python3.12/dist-packages/xgboost/training.py:199: UserWarning: [04:05:56] WARNING: /workspace/src/learner.cc:790: \n",
      "Parameters: { \"use_label_encoder\" } are not used.\n",
      "\n",
      "  bst.update(dtrain, iteration=i, fobj=obj)\n",
      "/usr/local/lib/python3.12/dist-packages/xgboost/training.py:199: UserWarning: [04:06:07] WARNING: /workspace/src/learner.cc:790: \n",
      "Parameters: { \"use_label_encoder\" } are not used.\n",
      "\n",
      "  bst.update(dtrain, iteration=i, fobj=obj)\n"
     ]
    },
    {
     "name": "stdout",
     "output_type": "stream",
     "text": [
      "[I 2025-10-27 04:06:18,859] Trial 0 finished with value: 0.8797400029181971 and parameters: {'n_estimators': 929, 'learning_rate': 0.006244009626830618, 'max_depth': 3, 'subsample': 0.942464485958811, 'colsample_bytree': 0.967061695227497}. Best is trial 0 with value: 0.8797400029181971.\n"
     ]
    },
    {
     "name": "stderr",
     "output_type": "stream",
     "text": [
      "/usr/local/lib/python3.12/dist-packages/xgboost/training.py:199: UserWarning: [04:06:18] WARNING: /workspace/src/learner.cc:790: \n",
      "Parameters: { \"use_label_encoder\" } are not used.\n",
      "\n",
      "  bst.update(dtrain, iteration=i, fobj=obj)\n",
      "/usr/local/lib/python3.12/dist-packages/xgboost/training.py:199: UserWarning: [04:06:49] WARNING: /workspace/src/learner.cc:790: \n",
      "Parameters: { \"use_label_encoder\" } are not used.\n",
      "\n",
      "  bst.update(dtrain, iteration=i, fobj=obj)\n",
      "/usr/local/lib/python3.12/dist-packages/xgboost/training.py:199: UserWarning: [04:07:25] WARNING: /workspace/src/learner.cc:790: \n",
      "Parameters: { \"use_label_encoder\" } are not used.\n",
      "\n",
      "  bst.update(dtrain, iteration=i, fobj=obj)\n"
     ]
    },
    {
     "name": "stdout",
     "output_type": "stream",
     "text": [
      "[I 2025-10-27 04:07:56,358] Trial 1 finished with value: 0.8939031069547072 and parameters: {'n_estimators': 2384, 'learning_rate': 0.41004758349635667, 'max_depth': 7, 'subsample': 0.9513901031129666, 'colsample_bytree': 0.9783782857900984}. Best is trial 1 with value: 0.8939031069547072.\n"
     ]
    },
    {
     "name": "stderr",
     "output_type": "stream",
     "text": [
      "/usr/local/lib/python3.12/dist-packages/xgboost/training.py:199: UserWarning: [04:07:56] WARNING: /workspace/src/learner.cc:790: \n",
      "Parameters: { \"use_label_encoder\" } are not used.\n",
      "\n",
      "  bst.update(dtrain, iteration=i, fobj=obj)\n",
      "/usr/local/lib/python3.12/dist-packages/xgboost/training.py:199: UserWarning: [04:08:21] WARNING: /workspace/src/learner.cc:790: \n",
      "Parameters: { \"use_label_encoder\" } are not used.\n",
      "\n",
      "  bst.update(dtrain, iteration=i, fobj=obj)\n",
      "/usr/local/lib/python3.12/dist-packages/xgboost/training.py:199: UserWarning: [04:08:46] WARNING: /workspace/src/learner.cc:790: \n",
      "Parameters: { \"use_label_encoder\" } are not used.\n",
      "\n",
      "  bst.update(dtrain, iteration=i, fobj=obj)\n"
     ]
    },
    {
     "name": "stdout",
     "output_type": "stream",
     "text": [
      "[I 2025-10-27 04:09:11,261] Trial 2 finished with value: 0.8982809123526456 and parameters: {'n_estimators': 1086, 'learning_rate': 0.07770985268006421, 'max_depth': 8, 'subsample': 0.9035827338775639, 'colsample_bytree': 0.94007744122383}. Best is trial 2 with value: 0.8982809123526456.\n"
     ]
    },
    {
     "name": "stderr",
     "output_type": "stream",
     "text": [
      "/usr/local/lib/python3.12/dist-packages/xgboost/training.py:199: UserWarning: [04:09:11] WARNING: /workspace/src/learner.cc:790: \n",
      "Parameters: { \"use_label_encoder\" } are not used.\n",
      "\n",
      "  bst.update(dtrain, iteration=i, fobj=obj)\n",
      "/usr/local/lib/python3.12/dist-packages/xgboost/training.py:199: UserWarning: [04:09:35] WARNING: /workspace/src/learner.cc:790: \n",
      "Parameters: { \"use_label_encoder\" } are not used.\n",
      "\n",
      "  bst.update(dtrain, iteration=i, fobj=obj)\n",
      "/usr/local/lib/python3.12/dist-packages/xgboost/training.py:199: UserWarning: [04:09:59] WARNING: /workspace/src/learner.cc:790: \n",
      "Parameters: { \"use_label_encoder\" } are not used.\n",
      "\n",
      "  bst.update(dtrain, iteration=i, fobj=obj)\n"
     ]
    },
    {
     "name": "stdout",
     "output_type": "stream",
     "text": [
      "[I 2025-10-27 04:10:21,650] Trial 3 finished with value: 0.8996972724954656 and parameters: {'n_estimators': 2075, 'learning_rate': 0.056320379948413504, 'max_depth': 3, 'subsample': 0.940066004682304, 'colsample_bytree': 0.944371969044725}. Best is trial 3 with value: 0.8996972724954656.\n"
     ]
    },
    {
     "name": "stderr",
     "output_type": "stream",
     "text": [
      "/usr/local/lib/python3.12/dist-packages/xgboost/training.py:199: UserWarning: [04:10:21] WARNING: /workspace/src/learner.cc:790: \n",
      "Parameters: { \"use_label_encoder\" } are not used.\n",
      "\n",
      "  bst.update(dtrain, iteration=i, fobj=obj)\n",
      "/usr/local/lib/python3.12/dist-packages/xgboost/training.py:199: UserWarning: [04:10:54] WARNING: /workspace/src/learner.cc:790: \n",
      "Parameters: { \"use_label_encoder\" } are not used.\n",
      "\n",
      "  bst.update(dtrain, iteration=i, fobj=obj)\n",
      "/usr/local/lib/python3.12/dist-packages/xgboost/training.py:199: UserWarning: [04:11:26] WARNING: /workspace/src/learner.cc:790: \n",
      "Parameters: { \"use_label_encoder\" } are not used.\n",
      "\n",
      "  bst.update(dtrain, iteration=i, fobj=obj)\n"
     ]
    },
    {
     "name": "stdout",
     "output_type": "stream",
     "text": [
      "[I 2025-10-27 04:11:56,992] Trial 4 finished with value: 0.8996972600606733 and parameters: {'n_estimators': 1305, 'learning_rate': 0.014708461246067955, 'max_depth': 7, 'subsample': 0.9585227542693728, 'colsample_bytree': 0.9407264959462001}. Best is trial 3 with value: 0.8996972724954656.\n"
     ]
    },
    {
     "name": "stderr",
     "output_type": "stream",
     "text": [
      "/usr/local/lib/python3.12/dist-packages/xgboost/training.py:199: UserWarning: [04:11:57] WARNING: /workspace/src/learner.cc:790: \n",
      "Parameters: { \"use_label_encoder\" } are not used.\n",
      "\n",
      "  bst.update(dtrain, iteration=i, fobj=obj)\n",
      "/usr/local/lib/python3.12/dist-packages/xgboost/training.py:199: UserWarning: [04:12:14] WARNING: /workspace/src/learner.cc:790: \n",
      "Parameters: { \"use_label_encoder\" } are not used.\n",
      "\n",
      "  bst.update(dtrain, iteration=i, fobj=obj)\n",
      "/usr/local/lib/python3.12/dist-packages/xgboost/training.py:199: UserWarning: [04:12:30] WARNING: /workspace/src/learner.cc:790: \n",
      "Parameters: { \"use_label_encoder\" } are not used.\n",
      "\n",
      "  bst.update(dtrain, iteration=i, fobj=obj)\n"
     ]
    },
    {
     "name": "stdout",
     "output_type": "stream",
     "text": [
      "[I 2025-10-27 04:12:45,749] Trial 5 finished with value: 0.8968644776010719 and parameters: {'n_estimators': 989, 'learning_rate': 0.16647739831010688, 'max_depth': 5, 'subsample': 0.9527984928954658, 'colsample_bytree': 0.9250524504782893}. Best is trial 3 with value: 0.8996972724954656.\n"
     ]
    },
    {
     "name": "stderr",
     "output_type": "stream",
     "text": [
      "/usr/local/lib/python3.12/dist-packages/xgboost/training.py:199: UserWarning: [04:12:45] WARNING: /workspace/src/learner.cc:790: \n",
      "Parameters: { \"use_label_encoder\" } are not used.\n",
      "\n",
      "  bst.update(dtrain, iteration=i, fobj=obj)\n",
      "/usr/local/lib/python3.12/dist-packages/xgboost/training.py:199: UserWarning: [04:13:33] WARNING: /workspace/src/learner.cc:790: \n",
      "Parameters: { \"use_label_encoder\" } are not used.\n",
      "\n",
      "  bst.update(dtrain, iteration=i, fobj=obj)\n",
      "/usr/local/lib/python3.12/dist-packages/xgboost/training.py:199: UserWarning: [04:14:19] WARNING: /workspace/src/learner.cc:790: \n",
      "Parameters: { \"use_label_encoder\" } are not used.\n",
      "\n",
      "  bst.update(dtrain, iteration=i, fobj=obj)\n"
     ]
    },
    {
     "name": "stdout",
     "output_type": "stream",
     "text": [
      "[I 2025-10-27 04:15:08,363] Trial 6 finished with value: 0.8989246118087899 and parameters: {'n_estimators': 2045, 'learning_rate': 0.034246523782514596, 'max_depth': 8, 'subsample': 0.9187307762087001, 'colsample_bytree': 0.9916158507167891}. Best is trial 3 with value: 0.8996972724954656.\n"
     ]
    },
    {
     "name": "stderr",
     "output_type": "stream",
     "text": [
      "/usr/local/lib/python3.12/dist-packages/xgboost/training.py:199: UserWarning: [04:15:08] WARNING: /workspace/src/learner.cc:790: \n",
      "Parameters: { \"use_label_encoder\" } are not used.\n",
      "\n",
      "  bst.update(dtrain, iteration=i, fobj=obj)\n",
      "/usr/local/lib/python3.12/dist-packages/xgboost/training.py:199: UserWarning: [04:15:20] WARNING: /workspace/src/learner.cc:790: \n",
      "Parameters: { \"use_label_encoder\" } are not used.\n",
      "\n",
      "  bst.update(dtrain, iteration=i, fobj=obj)\n",
      "/usr/local/lib/python3.12/dist-packages/xgboost/training.py:199: UserWarning: [04:15:31] WARNING: /workspace/src/learner.cc:790: \n",
      "Parameters: { \"use_label_encoder\" } are not used.\n",
      "\n",
      "  bst.update(dtrain, iteration=i, fobj=obj)\n"
     ]
    },
    {
     "name": "stdout",
     "output_type": "stream",
     "text": [
      "[I 2025-10-27 04:15:43,158] Trial 7 finished with value: 0.9049763640712195 and parameters: {'n_estimators': 980, 'learning_rate': 0.03860992908265193, 'max_depth': 3, 'subsample': 0.965803823403633, 'colsample_bytree': 0.9204035883304628}. Best is trial 7 with value: 0.9049763640712195.\n"
     ]
    },
    {
     "name": "stderr",
     "output_type": "stream",
     "text": [
      "/usr/local/lib/python3.12/dist-packages/xgboost/training.py:199: UserWarning: [04:15:43] WARNING: /workspace/src/learner.cc:790: \n",
      "Parameters: { \"use_label_encoder\" } are not used.\n",
      "\n",
      "  bst.update(dtrain, iteration=i, fobj=obj)\n",
      "/usr/local/lib/python3.12/dist-packages/xgboost/training.py:199: UserWarning: [04:16:17] WARNING: /workspace/src/learner.cc:790: \n",
      "Parameters: { \"use_label_encoder\" } are not used.\n",
      "\n",
      "  bst.update(dtrain, iteration=i, fobj=obj)\n",
      "/usr/local/lib/python3.12/dist-packages/xgboost/training.py:199: UserWarning: [04:16:55] WARNING: /workspace/src/learner.cc:790: \n",
      "Parameters: { \"use_label_encoder\" } are not used.\n",
      "\n",
      "  bst.update(dtrain, iteration=i, fobj=obj)\n"
     ]
    },
    {
     "name": "stdout",
     "output_type": "stream",
     "text": [
      "[I 2025-10-27 04:17:32,420] Trial 8 finished with value: 0.8972509012053517 and parameters: {'n_estimators': 2986, 'learning_rate': 0.07758056292674818, 'max_depth': 3, 'subsample': 0.9153149448241571, 'colsample_bytree': 0.9983008625111511}. Best is trial 7 with value: 0.9049763640712195.\n"
     ]
    },
    {
     "name": "stderr",
     "output_type": "stream",
     "text": [
      "/usr/local/lib/python3.12/dist-packages/xgboost/training.py:199: UserWarning: [04:17:32] WARNING: /workspace/src/learner.cc:790: \n",
      "Parameters: { \"use_label_encoder\" } are not used.\n",
      "\n",
      "  bst.update(dtrain, iteration=i, fobj=obj)\n",
      "/usr/local/lib/python3.12/dist-packages/xgboost/training.py:199: UserWarning: [04:17:56] WARNING: /workspace/src/learner.cc:790: \n",
      "Parameters: { \"use_label_encoder\" } are not used.\n",
      "\n",
      "  bst.update(dtrain, iteration=i, fobj=obj)\n",
      "/usr/local/lib/python3.12/dist-packages/xgboost/training.py:199: UserWarning: [04:18:19] WARNING: /workspace/src/learner.cc:790: \n",
      "Parameters: { \"use_label_encoder\" } are not used.\n",
      "\n",
      "  bst.update(dtrain, iteration=i, fobj=obj)\n"
     ]
    },
    {
     "name": "stdout",
     "output_type": "stream",
     "text": [
      "[I 2025-10-27 04:18:41,414] Trial 9 finished with value: 0.8995684977868184 and parameters: {'n_estimators': 1036, 'learning_rate': 0.019483007726904998, 'max_depth': 7, 'subsample': 0.9943412583878382, 'colsample_bytree': 0.9224317222017702}. Best is trial 7 with value: 0.9049763640712195.\n"
     ]
    },
    {
     "name": "stderr",
     "output_type": "stream",
     "text": [
      "/usr/local/lib/python3.12/dist-packages/xgboost/training.py:199: UserWarning: [04:18:41] WARNING: /workspace/src/learner.cc:790: \n",
      "Parameters: { \"use_label_encoder\" } are not used.\n",
      "\n",
      "  bst.update(dtrain, iteration=i, fobj=obj)\n",
      "/usr/local/lib/python3.12/dist-packages/xgboost/training.py:199: UserWarning: [04:18:52] WARNING: /workspace/src/learner.cc:790: \n",
      "Parameters: { \"use_label_encoder\" } are not used.\n",
      "\n",
      "  bst.update(dtrain, iteration=i, fobj=obj)\n",
      "/usr/local/lib/python3.12/dist-packages/xgboost/training.py:199: UserWarning: [04:19:04] WARNING: /workspace/src/learner.cc:790: \n",
      "Parameters: { \"use_label_encoder\" } are not used.\n",
      "\n",
      "  bst.update(dtrain, iteration=i, fobj=obj)\n"
     ]
    },
    {
     "name": "stdout",
     "output_type": "stream",
     "text": [
      "[I 2025-10-27 04:19:15,316] Trial 10 finished with value: 0.8893967631091746 and parameters: {'n_estimators': 625, 'learning_rate': 0.005426095150044036, 'max_depth': 5, 'subsample': 0.9844888271624227, 'colsample_bytree': 0.9015192702117747}. Best is trial 7 with value: 0.9049763640712195.\n"
     ]
    },
    {
     "name": "stderr",
     "output_type": "stream",
     "text": [
      "/usr/local/lib/python3.12/dist-packages/xgboost/training.py:199: UserWarning: [04:19:15] WARNING: /workspace/src/learner.cc:790: \n",
      "Parameters: { \"use_label_encoder\" } are not used.\n",
      "\n",
      "  bst.update(dtrain, iteration=i, fobj=obj)\n",
      "/usr/local/lib/python3.12/dist-packages/xgboost/training.py:199: UserWarning: [04:19:38] WARNING: /workspace/src/learner.cc:790: \n",
      "Parameters: { \"use_label_encoder\" } are not used.\n",
      "\n",
      "  bst.update(dtrain, iteration=i, fobj=obj)\n",
      "/usr/local/lib/python3.12/dist-packages/xgboost/training.py:199: UserWarning: [04:20:00] WARNING: /workspace/src/learner.cc:790: \n",
      "Parameters: { \"use_label_encoder\" } are not used.\n",
      "\n",
      "  bst.update(dtrain, iteration=i, fobj=obj)\n"
     ]
    },
    {
     "name": "stdout",
     "output_type": "stream",
     "text": [
      "[I 2025-10-27 04:20:23,619] Trial 11 finished with value: 0.9007272214687981 and parameters: {'n_estimators': 1702, 'learning_rate': 0.03915235110827848, 'max_depth': 4, 'subsample': 0.9733078151634438, 'colsample_bytree': 0.9574775331576201}. Best is trial 7 with value: 0.9049763640712195.\n"
     ]
    },
    {
     "name": "stderr",
     "output_type": "stream",
     "text": [
      "/usr/local/lib/python3.12/dist-packages/xgboost/training.py:199: UserWarning: [04:20:23] WARNING: /workspace/src/learner.cc:790: \n",
      "Parameters: { \"use_label_encoder\" } are not used.\n",
      "\n",
      "  bst.update(dtrain, iteration=i, fobj=obj)\n",
      "/usr/local/lib/python3.12/dist-packages/xgboost/training.py:199: UserWarning: [04:20:46] WARNING: /workspace/src/learner.cc:790: \n",
      "Parameters: { \"use_label_encoder\" } are not used.\n",
      "\n",
      "  bst.update(dtrain, iteration=i, fobj=obj)\n",
      "/usr/local/lib/python3.12/dist-packages/xgboost/training.py:199: UserWarning: [04:21:07] WARNING: /workspace/src/learner.cc:790: \n",
      "Parameters: { \"use_label_encoder\" } are not used.\n",
      "\n",
      "  bst.update(dtrain, iteration=i, fobj=obj)\n"
     ]
    },
    {
     "name": "stdout",
     "output_type": "stream",
     "text": [
      "[I 2025-10-27 04:21:29,674] Trial 12 finished with value: 0.9028517927700089 and parameters: {'n_estimators': 1636, 'learning_rate': 0.026212778409004697, 'max_depth': 4, 'subsample': 0.9703569718634875, 'colsample_bytree': 0.9583955627062551}. Best is trial 7 with value: 0.9049763640712195.\n"
     ]
    },
    {
     "name": "stderr",
     "output_type": "stream",
     "text": [
      "/usr/local/lib/python3.12/dist-packages/xgboost/training.py:199: UserWarning: [04:21:29] WARNING: /workspace/src/learner.cc:790: \n",
      "Parameters: { \"use_label_encoder\" } are not used.\n",
      "\n",
      "  bst.update(dtrain, iteration=i, fobj=obj)\n",
      "/usr/local/lib/python3.12/dist-packages/xgboost/training.py:199: UserWarning: [04:21:53] WARNING: /workspace/src/learner.cc:790: \n",
      "Parameters: { \"use_label_encoder\" } are not used.\n",
      "\n",
      "  bst.update(dtrain, iteration=i, fobj=obj)\n",
      "/usr/local/lib/python3.12/dist-packages/xgboost/training.py:199: UserWarning: [04:22:17] WARNING: /workspace/src/learner.cc:790: \n",
      "Parameters: { \"use_label_encoder\" } are not used.\n",
      "\n",
      "  bst.update(dtrain, iteration=i, fobj=obj)\n"
     ]
    },
    {
     "name": "stdout",
     "output_type": "stream",
     "text": [
      "[I 2025-10-27 04:22:40,026] Trial 13 finished with value: 0.9045900648148625 and parameters: {'n_estimators': 1720, 'learning_rate': 0.016710989494308045, 'max_depth': 4, 'subsample': 0.970876753719311, 'colsample_bytree': 0.9035278292282013}. Best is trial 7 with value: 0.9049763640712195.\n"
     ]
    },
    {
     "name": "stderr",
     "output_type": "stream",
     "text": [
      "/usr/local/lib/python3.12/dist-packages/xgboost/training.py:199: UserWarning: [04:22:40] WARNING: /workspace/src/learner.cc:790: \n",
      "Parameters: { \"use_label_encoder\" } are not used.\n",
      "\n",
      "  bst.update(dtrain, iteration=i, fobj=obj)\n",
      "/usr/local/lib/python3.12/dist-packages/xgboost/training.py:199: UserWarning: [04:22:59] WARNING: /workspace/src/learner.cc:790: \n",
      "Parameters: { \"use_label_encoder\" } are not used.\n",
      "\n",
      "  bst.update(dtrain, iteration=i, fobj=obj)\n",
      "/usr/local/lib/python3.12/dist-packages/xgboost/training.py:199: UserWarning: [04:23:17] WARNING: /workspace/src/learner.cc:790: \n",
      "Parameters: { \"use_label_encoder\" } are not used.\n",
      "\n",
      "  bst.update(dtrain, iteration=i, fobj=obj)\n"
     ]
    },
    {
     "name": "stdout",
     "output_type": "stream",
     "text": [
      "[I 2025-10-27 04:23:37,198] Trial 14 finished with value: 0.9038174911717327 and parameters: {'n_estimators': 1388, 'learning_rate': 0.01168176545618932, 'max_depth': 4, 'subsample': 0.9703463468512865, 'colsample_bytree': 0.9021213865897358}. Best is trial 7 with value: 0.9049763640712195.\n"
     ]
    },
    {
     "name": "stderr",
     "output_type": "stream",
     "text": [
      "/usr/local/lib/python3.12/dist-packages/xgboost/training.py:199: UserWarning: [04:23:37] WARNING: /workspace/src/learner.cc:790: \n",
      "Parameters: { \"use_label_encoder\" } are not used.\n",
      "\n",
      "  bst.update(dtrain, iteration=i, fobj=obj)\n",
      "/usr/local/lib/python3.12/dist-packages/xgboost/training.py:199: UserWarning: [04:23:44] WARNING: /workspace/src/learner.cc:790: \n",
      "Parameters: { \"use_label_encoder\" } are not used.\n",
      "\n",
      "  bst.update(dtrain, iteration=i, fobj=obj)\n",
      "/usr/local/lib/python3.12/dist-packages/xgboost/training.py:199: UserWarning: [04:23:53] WARNING: /workspace/src/learner.cc:790: \n",
      "Parameters: { \"use_label_encoder\" } are not used.\n",
      "\n",
      "  bst.update(dtrain, iteration=i, fobj=obj)\n"
     ]
    },
    {
     "name": "stdout",
     "output_type": "stream",
     "text": [
      "[I 2025-10-27 04:24:02,634] Trial 15 finished with value: 0.8998904096888519 and parameters: {'n_estimators': 616, 'learning_rate': 0.14507899574462893, 'max_depth': 4, 'subsample': 0.9822914738001003, 'colsample_bytree': 0.9205767831755794}. Best is trial 7 with value: 0.9049763640712195.\n"
     ]
    },
    {
     "name": "stderr",
     "output_type": "stream",
     "text": [
      "/usr/local/lib/python3.12/dist-packages/xgboost/training.py:199: UserWarning: [04:24:02] WARNING: /workspace/src/learner.cc:790: \n",
      "Parameters: { \"use_label_encoder\" } are not used.\n",
      "\n",
      "  bst.update(dtrain, iteration=i, fobj=obj)\n",
      "/usr/local/lib/python3.12/dist-packages/xgboost/training.py:199: UserWarning: [04:24:44] WARNING: /workspace/src/learner.cc:790: \n",
      "Parameters: { \"use_label_encoder\" } are not used.\n",
      "\n",
      "  bst.update(dtrain, iteration=i, fobj=obj)\n",
      "/usr/local/lib/python3.12/dist-packages/xgboost/training.py:199: UserWarning: [04:25:25] WARNING: /workspace/src/learner.cc:790: \n",
      "Parameters: { \"use_label_encoder\" } are not used.\n",
      "\n",
      "  bst.update(dtrain, iteration=i, fobj=obj)\n"
     ]
    },
    {
     "name": "stdout",
     "output_type": "stream",
     "text": [
      "[I 2025-10-27 04:26:05,750] Trial 16 finished with value: 0.9023367561093814 and parameters: {'n_estimators': 2568, 'learning_rate': 0.01038953720835597, 'max_depth': 5, 'subsample': 0.9975985197521302, 'colsample_bytree': 0.9133103274822115}. Best is trial 7 with value: 0.9049763640712195.\n"
     ]
    },
    {
     "name": "stderr",
     "output_type": "stream",
     "text": [
      "/usr/local/lib/python3.12/dist-packages/xgboost/training.py:199: UserWarning: [04:26:05] WARNING: /workspace/src/learner.cc:790: \n",
      "Parameters: { \"use_label_encoder\" } are not used.\n",
      "\n",
      "  bst.update(dtrain, iteration=i, fobj=obj)\n",
      "/usr/local/lib/python3.12/dist-packages/xgboost/training.py:199: UserWarning: [04:26:27] WARNING: /workspace/src/learner.cc:790: \n",
      "Parameters: { \"use_label_encoder\" } are not used.\n",
      "\n",
      "  bst.update(dtrain, iteration=i, fobj=obj)\n",
      "/usr/local/lib/python3.12/dist-packages/xgboost/training.py:199: UserWarning: [04:26:48] WARNING: /workspace/src/learner.cc:790: \n",
      "Parameters: { \"use_label_encoder\" } are not used.\n",
      "\n",
      "  bst.update(dtrain, iteration=i, fobj=obj)\n"
     ]
    },
    {
     "name": "stdout",
     "output_type": "stream",
     "text": [
      "[I 2025-10-27 04:27:09,658] Trial 17 finished with value: 0.9040106656694958 and parameters: {'n_estimators': 1957, 'learning_rate': 0.022207543553976125, 'max_depth': 3, 'subsample': 0.9619560494771862, 'colsample_bytree': 0.9305176029730118}. Best is trial 7 with value: 0.9049763640712195.\n"
     ]
    },
    {
     "name": "stderr",
     "output_type": "stream",
     "text": [
      "/usr/local/lib/python3.12/dist-packages/xgboost/training.py:199: UserWarning: [04:27:09] WARNING: /workspace/src/learner.cc:790: \n",
      "Parameters: { \"use_label_encoder\" } are not used.\n",
      "\n",
      "  bst.update(dtrain, iteration=i, fobj=obj)\n",
      "/usr/local/lib/python3.12/dist-packages/xgboost/training.py:199: UserWarning: [04:27:38] WARNING: /workspace/src/learner.cc:790: \n",
      "Parameters: { \"use_label_encoder\" } are not used.\n",
      "\n",
      "  bst.update(dtrain, iteration=i, fobj=obj)\n",
      "/usr/local/lib/python3.12/dist-packages/xgboost/training.py:199: UserWarning: [04:28:06] WARNING: /workspace/src/learner.cc:790: \n",
      "Parameters: { \"use_label_encoder\" } are not used.\n",
      "\n",
      "  bst.update(dtrain, iteration=i, fobj=obj)\n"
     ]
    },
    {
     "name": "stdout",
     "output_type": "stream",
     "text": [
      "[I 2025-10-27 04:28:34,910] Trial 18 finished with value: 0.9030450667461101 and parameters: {'n_estimators': 1434, 'learning_rate': 0.008404490356784356, 'max_depth': 6, 'subsample': 0.9339236178438083, 'colsample_bytree': 0.9114022673751602}. Best is trial 7 with value: 0.9049763640712195.\n"
     ]
    },
    {
     "name": "stderr",
     "output_type": "stream",
     "text": [
      "/usr/local/lib/python3.12/dist-packages/xgboost/training.py:199: UserWarning: [04:28:35] WARNING: /workspace/src/learner.cc:790: \n",
      "Parameters: { \"use_label_encoder\" } are not used.\n",
      "\n",
      "  bst.update(dtrain, iteration=i, fobj=obj)\n",
      "/usr/local/lib/python3.12/dist-packages/xgboost/training.py:199: UserWarning: [04:29:07] WARNING: /workspace/src/learner.cc:790: \n",
      "Parameters: { \"use_label_encoder\" } are not used.\n",
      "\n",
      "  bst.update(dtrain, iteration=i, fobj=obj)\n",
      "/usr/local/lib/python3.12/dist-packages/xgboost/training.py:199: UserWarning: [04:29:40] WARNING: /workspace/src/learner.cc:790: \n",
      "Parameters: { \"use_label_encoder\" } are not used.\n",
      "\n",
      "  bst.update(dtrain, iteration=i, fobj=obj)\n"
     ]
    },
    {
     "name": "stdout",
     "output_type": "stream",
     "text": [
      "[I 2025-10-27 04:30:12,116] Trial 19 finished with value: 0.8925511341662108 and parameters: {'n_estimators': 2490, 'learning_rate': 0.16136961147235188, 'max_depth': 4, 'subsample': 0.9795071173192763, 'colsample_bytree': 0.9114765473414543}. Best is trial 7 with value: 0.9049763640712195.\n"
     ]
    },
    {
     "name": "stderr",
     "output_type": "stream",
     "text": [
      "/usr/local/lib/python3.12/dist-packages/xgboost/training.py:199: UserWarning: [04:30:12] WARNING: /workspace/src/learner.cc:790: \n",
      "Parameters: { \"use_label_encoder\" } are not used.\n",
      "\n",
      "  bst.update(dtrain, iteration=i, fobj=obj)\n",
      "/usr/local/lib/python3.12/dist-packages/xgboost/training.py:199: UserWarning: [04:30:27] WARNING: /workspace/src/learner.cc:790: \n",
      "Parameters: { \"use_label_encoder\" } are not used.\n",
      "\n",
      "  bst.update(dtrain, iteration=i, fobj=obj)\n",
      "/usr/local/lib/python3.12/dist-packages/xgboost/training.py:199: UserWarning: [04:30:42] WARNING: /workspace/src/learner.cc:790: \n",
      "Parameters: { \"use_label_encoder\" } are not used.\n",
      "\n",
      "  bst.update(dtrain, iteration=i, fobj=obj)\n"
     ]
    },
    {
     "name": "stdout",
     "output_type": "stream",
     "text": [
      "[I 2025-10-27 04:30:59,816] Trial 20 finished with value: 0.9001478596278082 and parameters: {'n_estimators': 811, 'learning_rate': 0.056602817856011754, 'max_depth': 6, 'subsample': 0.9617175150727303, 'colsample_bytree': 0.932654055774092}. Best is trial 7 with value: 0.9049763640712195.\n"
     ]
    },
    {
     "name": "stderr",
     "output_type": "stream",
     "text": [
      "/usr/local/lib/python3.12/dist-packages/xgboost/training.py:199: UserWarning: [04:30:59] WARNING: /workspace/src/learner.cc:790: \n",
      "Parameters: { \"use_label_encoder\" } are not used.\n",
      "\n",
      "  bst.update(dtrain, iteration=i, fobj=obj)\n",
      "/usr/local/lib/python3.12/dist-packages/xgboost/training.py:199: UserWarning: [04:31:20] WARNING: /workspace/src/learner.cc:790: \n",
      "Parameters: { \"use_label_encoder\" } are not used.\n",
      "\n",
      "  bst.update(dtrain, iteration=i, fobj=obj)\n",
      "/usr/local/lib/python3.12/dist-packages/xgboost/training.py:199: UserWarning: [04:31:44] WARNING: /workspace/src/learner.cc:790: \n",
      "Parameters: { \"use_label_encoder\" } are not used.\n",
      "\n",
      "  bst.update(dtrain, iteration=i, fobj=obj)\n"
     ]
    },
    {
     "name": "stdout",
     "output_type": "stream",
     "text": [
      "[I 2025-10-27 04:32:07,506] Trial 21 finished with value: 0.9040750530238193 and parameters: {'n_estimators': 2032, 'learning_rate': 0.022593766578159986, 'max_depth': 3, 'subsample': 0.9632511883051597, 'colsample_bytree': 0.9302349784518398}. Best is trial 7 with value: 0.9049763640712195.\n"
     ]
    },
    {
     "name": "stderr",
     "output_type": "stream",
     "text": [
      "/usr/local/lib/python3.12/dist-packages/xgboost/training.py:199: UserWarning: [04:32:07] WARNING: /workspace/src/learner.cc:790: \n",
      "Parameters: { \"use_label_encoder\" } are not used.\n",
      "\n",
      "  bst.update(dtrain, iteration=i, fobj=obj)\n",
      "/usr/local/lib/python3.12/dist-packages/xgboost/training.py:199: UserWarning: [04:32:33] WARNING: /workspace/src/learner.cc:790: \n",
      "Parameters: { \"use_label_encoder\" } are not used.\n",
      "\n",
      "  bst.update(dtrain, iteration=i, fobj=obj)\n",
      "/usr/local/lib/python3.12/dist-packages/xgboost/training.py:199: UserWarning: [04:32:58] WARNING: /workspace/src/learner.cc:790: \n",
      "Parameters: { \"use_label_encoder\" } are not used.\n",
      "\n",
      "  bst.update(dtrain, iteration=i, fobj=obj)\n"
     ]
    },
    {
     "name": "stdout",
     "output_type": "stream",
     "text": [
      "[I 2025-10-27 04:33:22,448] Trial 22 finished with value: 0.9042682399563747 and parameters: {'n_estimators': 2242, 'learning_rate': 0.016458178294388403, 'max_depth': 3, 'subsample': 0.9662374460026483, 'colsample_bytree': 0.9148508650239559}. Best is trial 7 with value: 0.9049763640712195.\n"
     ]
    },
    {
     "name": "stderr",
     "output_type": "stream",
     "text": [
      "/usr/local/lib/python3.12/dist-packages/xgboost/training.py:199: UserWarning: [04:33:22] WARNING: /workspace/src/learner.cc:790: \n",
      "Parameters: { \"use_label_encoder\" } are not used.\n",
      "\n",
      "  bst.update(dtrain, iteration=i, fobj=obj)\n",
      "/usr/local/lib/python3.12/dist-packages/xgboost/training.py:199: UserWarning: [04:33:46] WARNING: /workspace/src/learner.cc:790: \n",
      "Parameters: { \"use_label_encoder\" } are not used.\n",
      "\n",
      "  bst.update(dtrain, iteration=i, fobj=obj)\n",
      "/usr/local/lib/python3.12/dist-packages/xgboost/training.py:199: UserWarning: [04:34:12] WARNING: /workspace/src/learner.cc:790: \n",
      "Parameters: { \"use_label_encoder\" } are not used.\n",
      "\n",
      "  bst.update(dtrain, iteration=i, fobj=obj)\n"
     ]
    },
    {
     "name": "stdout",
     "output_type": "stream",
     "text": [
      "[I 2025-10-27 04:34:37,169] Trial 23 finished with value: 0.9043969276214762 and parameters: {'n_estimators': 2285, 'learning_rate': 0.016194783357599263, 'max_depth': 3, 'subsample': 0.9889134606126083, 'colsample_bytree': 0.9078548312878706}. Best is trial 7 with value: 0.9049763640712195.\n"
     ]
    },
    {
     "name": "stderr",
     "output_type": "stream",
     "text": [
      "/usr/local/lib/python3.12/dist-packages/xgboost/training.py:199: UserWarning: [04:34:37] WARNING: /workspace/src/learner.cc:790: \n",
      "Parameters: { \"use_label_encoder\" } are not used.\n",
      "\n",
      "  bst.update(dtrain, iteration=i, fobj=obj)\n",
      "/usr/local/lib/python3.12/dist-packages/xgboost/training.py:199: UserWarning: [04:35:17] WARNING: /workspace/src/learner.cc:790: \n",
      "Parameters: { \"use_label_encoder\" } are not used.\n",
      "\n",
      "  bst.update(dtrain, iteration=i, fobj=obj)\n",
      "/usr/local/lib/python3.12/dist-packages/xgboost/training.py:199: UserWarning: [04:35:57] WARNING: /workspace/src/learner.cc:790: \n",
      "Parameters: { \"use_label_encoder\" } are not used.\n",
      "\n",
      "  bst.update(dtrain, iteration=i, fobj=obj)\n"
     ]
    },
    {
     "name": "stdout",
     "output_type": "stream",
     "text": [
      "[I 2025-10-27 04:36:39,182] Trial 24 finished with value: 0.8989890737718672 and parameters: {'n_estimators': 2909, 'learning_rate': 0.03106359821474649, 'max_depth': 4, 'subsample': 0.9896712270149302, 'colsample_bytree': 0.9000708289921816}. Best is trial 7 with value: 0.9049763640712195.\n"
     ]
    },
    {
     "name": "stderr",
     "output_type": "stream",
     "text": [
      "/usr/local/lib/python3.12/dist-packages/xgboost/training.py:199: UserWarning: [04:36:39] WARNING: /workspace/src/learner.cc:790: \n",
      "Parameters: { \"use_label_encoder\" } are not used.\n",
      "\n",
      "  bst.update(dtrain, iteration=i, fobj=obj)\n",
      "/usr/local/lib/python3.12/dist-packages/xgboost/training.py:199: UserWarning: [04:37:09] WARNING: /workspace/src/learner.cc:790: \n",
      "Parameters: { \"use_label_encoder\" } are not used.\n",
      "\n",
      "  bst.update(dtrain, iteration=i, fobj=obj)\n",
      "/usr/local/lib/python3.12/dist-packages/xgboost/training.py:199: UserWarning: [04:37:37] WARNING: /workspace/src/learner.cc:790: \n",
      "Parameters: { \"use_label_encoder\" } are not used.\n",
      "\n",
      "  bst.update(dtrain, iteration=i, fobj=obj)\n"
     ]
    },
    {
     "name": "stdout",
     "output_type": "stream",
     "text": [
      "[I 2025-10-27 04:38:06,505] Trial 25 finished with value: 0.9043969276214762 and parameters: {'n_estimators': 2682, 'learning_rate': 0.013423048601861368, 'max_depth': 3, 'subsample': 0.9805373829291647, 'colsample_bytree': 0.9097098841879749}. Best is trial 7 with value: 0.9049763640712195.\n"
     ]
    },
    {
     "name": "stderr",
     "output_type": "stream",
     "text": [
      "/usr/local/lib/python3.12/dist-packages/xgboost/training.py:199: UserWarning: [04:38:06] WARNING: /workspace/src/learner.cc:790: \n",
      "Parameters: { \"use_label_encoder\" } are not used.\n",
      "\n",
      "  bst.update(dtrain, iteration=i, fobj=obj)\n",
      "/usr/local/lib/python3.12/dist-packages/xgboost/training.py:199: UserWarning: [04:38:31] WARNING: /workspace/src/learner.cc:790: \n",
      "Parameters: { \"use_label_encoder\" } are not used.\n",
      "\n",
      "  bst.update(dtrain, iteration=i, fobj=obj)\n",
      "/usr/local/lib/python3.12/dist-packages/xgboost/training.py:199: UserWarning: [04:38:57] WARNING: /workspace/src/learner.cc:790: \n",
      "Parameters: { \"use_label_encoder\" } are not used.\n",
      "\n",
      "  bst.update(dtrain, iteration=i, fobj=obj)\n"
     ]
    },
    {
     "name": "stdout",
     "output_type": "stream",
     "text": [
      "[I 2025-10-27 04:39:22,578] Trial 26 finished with value: 0.9034956414436605 and parameters: {'n_estimators': 1867, 'learning_rate': 0.007824136382719667, 'max_depth': 4, 'subsample': 0.9763937205673506, 'colsample_bytree': 0.9072140742465644}. Best is trial 7 with value: 0.9049763640712195.\n"
     ]
    },
    {
     "name": "stderr",
     "output_type": "stream",
     "text": [
      "/usr/local/lib/python3.12/dist-packages/xgboost/training.py:199: UserWarning: [04:39:22] WARNING: /workspace/src/learner.cc:790: \n",
      "Parameters: { \"use_label_encoder\" } are not used.\n",
      "\n",
      "  bst.update(dtrain, iteration=i, fobj=obj)\n",
      "/usr/local/lib/python3.12/dist-packages/xgboost/training.py:199: UserWarning: [04:40:00] WARNING: /workspace/src/learner.cc:790: \n",
      "Parameters: { \"use_label_encoder\" } are not used.\n",
      "\n",
      "  bst.update(dtrain, iteration=i, fobj=obj)\n",
      "/usr/local/lib/python3.12/dist-packages/xgboost/training.py:199: UserWarning: [04:40:39] WARNING: /workspace/src/learner.cc:790: \n",
      "Parameters: { \"use_label_encoder\" } are not used.\n",
      "\n",
      "  bst.update(dtrain, iteration=i, fobj=obj)\n"
     ]
    },
    {
     "name": "stdout",
     "output_type": "stream",
     "text": [
      "[I 2025-10-27 04:41:16,576] Trial 27 finished with value: 0.8971220021487819 and parameters: {'n_estimators': 2285, 'learning_rate': 0.04765931753100908, 'max_depth': 5, 'subsample': 0.9873469924326822, 'colsample_bytree': 0.9186208122858177}. Best is trial 7 with value: 0.9049763640712195.\n"
     ]
    },
    {
     "name": "stderr",
     "output_type": "stream",
     "text": [
      "/usr/local/lib/python3.12/dist-packages/xgboost/training.py:199: UserWarning: [04:41:16] WARNING: /workspace/src/learner.cc:790: \n",
      "Parameters: { \"use_label_encoder\" } are not used.\n",
      "\n",
      "  bst.update(dtrain, iteration=i, fobj=obj)\n",
      "/usr/local/lib/python3.12/dist-packages/xgboost/training.py:199: UserWarning: [04:41:33] WARNING: /workspace/src/learner.cc:790: \n",
      "Parameters: { \"use_label_encoder\" } are not used.\n",
      "\n",
      "  bst.update(dtrain, iteration=i, fobj=obj)\n",
      "/usr/local/lib/python3.12/dist-packages/xgboost/training.py:199: UserWarning: [04:41:50] WARNING: /workspace/src/learner.cc:790: \n",
      "Parameters: { \"use_label_encoder\" } are not used.\n",
      "\n",
      "  bst.update(dtrain, iteration=i, fobj=obj)\n"
     ]
    },
    {
     "name": "stdout",
     "output_type": "stream",
     "text": [
      "[I 2025-10-27 04:42:08,842] Trial 28 finished with value: 0.89911782361093 and parameters: {'n_estimators': 1515, 'learning_rate': 0.10177171693785589, 'max_depth': 3, 'subsample': 0.9993024050217701, 'colsample_bytree': 0.906207663739055}. Best is trial 7 with value: 0.9049763640712195.\n"
     ]
    },
    {
     "name": "stderr",
     "output_type": "stream",
     "text": [
      "/usr/local/lib/python3.12/dist-packages/xgboost/training.py:199: UserWarning: [04:42:08] WARNING: /workspace/src/learner.cc:790: \n",
      "Parameters: { \"use_label_encoder\" } are not used.\n",
      "\n",
      "  bst.update(dtrain, iteration=i, fobj=obj)\n",
      "/usr/local/lib/python3.12/dist-packages/xgboost/training.py:199: UserWarning: [04:42:22] WARNING: /workspace/src/learner.cc:790: \n",
      "Parameters: { \"use_label_encoder\" } are not used.\n",
      "\n",
      "  bst.update(dtrain, iteration=i, fobj=obj)\n",
      "/usr/local/lib/python3.12/dist-packages/xgboost/training.py:199: UserWarning: [04:42:35] WARNING: /workspace/src/learner.cc:790: \n",
      "Parameters: { \"use_label_encoder\" } are not used.\n",
      "\n",
      "  bst.update(dtrain, iteration=i, fobj=obj)\n"
     ]
    },
    {
     "name": "stdout",
     "output_type": "stream",
     "text": [
      "[I 2025-10-27 04:42:48,638] Trial 29 finished with value: 0.8950621788108702 and parameters: {'n_estimators': 1163, 'learning_rate': 0.007902948002833856, 'max_depth': 3, 'subsample': 0.9398182973679967, 'colsample_bytree': 0.9739445068649117}. Best is trial 7 with value: 0.9049763640712195.\n"
     ]
    },
    {
     "name": "stderr",
     "output_type": "stream",
     "text": [
      "/usr/local/lib/python3.12/dist-packages/xgboost/training.py:199: UserWarning: [04:42:48] WARNING: /workspace/src/learner.cc:790: \n",
      "Parameters: { \"use_label_encoder\" } are not used.\n",
      "\n",
      "  bst.update(dtrain, iteration=i, fobj=obj)\n",
      "/usr/local/lib/python3.12/dist-packages/xgboost/training.py:199: UserWarning: [04:43:00] WARNING: /workspace/src/learner.cc:790: \n",
      "Parameters: { \"use_label_encoder\" } are not used.\n",
      "\n",
      "  bst.update(dtrain, iteration=i, fobj=obj)\n",
      "/usr/local/lib/python3.12/dist-packages/xgboost/training.py:199: UserWarning: [04:43:09] WARNING: /workspace/src/learner.cc:790: \n",
      "Parameters: { \"use_label_encoder\" } are not used.\n",
      "\n",
      "  bst.update(dtrain, iteration=i, fobj=obj)\n"
     ]
    },
    {
     "name": "stdout",
     "output_type": "stream",
     "text": [
      "[I 2025-10-27 04:43:21,994] Trial 30 finished with value: 0.8913278739124002 and parameters: {'n_estimators': 796, 'learning_rate': 0.4998721703644977, 'max_depth': 4, 'subsample': 0.9914563057689978, 'colsample_bytree': 0.950506107554261}. Best is trial 7 with value: 0.9049763640712195.\n"
     ]
    },
    {
     "name": "stderr",
     "output_type": "stream",
     "text": [
      "/usr/local/lib/python3.12/dist-packages/xgboost/training.py:199: UserWarning: [04:43:22] WARNING: /workspace/src/learner.cc:790: \n",
      "Parameters: { \"use_label_encoder\" } are not used.\n",
      "\n",
      "  bst.update(dtrain, iteration=i, fobj=obj)\n",
      "/usr/local/lib/python3.12/dist-packages/xgboost/training.py:199: UserWarning: [04:43:52] WARNING: /workspace/src/learner.cc:790: \n",
      "Parameters: { \"use_label_encoder\" } are not used.\n",
      "\n",
      "  bst.update(dtrain, iteration=i, fobj=obj)\n",
      "/usr/local/lib/python3.12/dist-packages/xgboost/training.py:199: UserWarning: [04:44:21] WARNING: /workspace/src/learner.cc:790: \n",
      "Parameters: { \"use_label_encoder\" } are not used.\n",
      "\n",
      "  bst.update(dtrain, iteration=i, fobj=obj)\n"
     ]
    },
    {
     "name": "stdout",
     "output_type": "stream",
     "text": [
      "[I 2025-10-27 04:44:50,388] Trial 31 finished with value: 0.9049763765060118 and parameters: {'n_estimators': 2690, 'learning_rate': 0.013245863748606725, 'max_depth': 3, 'subsample': 0.9784501675689088, 'colsample_bytree': 0.9079452924784414}. Best is trial 31 with value: 0.9049763765060118.\n"
     ]
    },
    {
     "name": "stderr",
     "output_type": "stream",
     "text": [
      "/usr/local/lib/python3.12/dist-packages/xgboost/training.py:199: UserWarning: [04:44:50] WARNING: /workspace/src/learner.cc:790: \n",
      "Parameters: { \"use_label_encoder\" } are not used.\n",
      "\n",
      "  bst.update(dtrain, iteration=i, fobj=obj)\n",
      "/usr/local/lib/python3.12/dist-packages/xgboost/training.py:199: UserWarning: [04:45:21] WARNING: /workspace/src/learner.cc:790: \n",
      "Parameters: { \"use_label_encoder\" } are not used.\n",
      "\n",
      "  bst.update(dtrain, iteration=i, fobj=obj)\n",
      "/usr/local/lib/python3.12/dist-packages/xgboost/training.py:199: UserWarning: [04:45:52] WARNING: /workspace/src/learner.cc:790: \n",
      "Parameters: { \"use_label_encoder\" } are not used.\n",
      "\n",
      "  bst.update(dtrain, iteration=i, fobj=obj)\n"
     ]
    },
    {
     "name": "stdout",
     "output_type": "stream",
     "text": [
      "[I 2025-10-27 04:46:21,737] Trial 32 finished with value: 0.9043324905279834 and parameters: {'n_estimators': 2749, 'learning_rate': 0.01755869646482997, 'max_depth': 3, 'subsample': 0.9748491414063459, 'colsample_bytree': 0.9155174401795619}. Best is trial 31 with value: 0.9049763765060118.\n"
     ]
    },
    {
     "name": "stderr",
     "output_type": "stream",
     "text": [
      "/usr/local/lib/python3.12/dist-packages/xgboost/training.py:199: UserWarning: [04:46:21] WARNING: /workspace/src/learner.cc:790: \n",
      "Parameters: { \"use_label_encoder\" } are not used.\n",
      "\n",
      "  bst.update(dtrain, iteration=i, fobj=obj)\n",
      "/usr/local/lib/python3.12/dist-packages/xgboost/training.py:199: UserWarning: [04:46:48] WARNING: /workspace/src/learner.cc:790: \n",
      "Parameters: { \"use_label_encoder\" } are not used.\n",
      "\n",
      "  bst.update(dtrain, iteration=i, fobj=obj)\n",
      "/usr/local/lib/python3.12/dist-packages/xgboost/training.py:199: UserWarning: [04:47:15] WARNING: /workspace/src/learner.cc:790: \n",
      "Parameters: { \"use_label_encoder\" } are not used.\n",
      "\n",
      "  bst.update(dtrain, iteration=i, fobj=obj)\n"
     ]
    },
    {
     "name": "stdout",
     "output_type": "stream",
     "text": [
      "[I 2025-10-27 04:47:40,977] Trial 33 finished with value: 0.9046544646039784 and parameters: {'n_estimators': 2277, 'learning_rate': 0.011042528878673177, 'max_depth': 3, 'subsample': 0.9553503169617344, 'colsample_bytree': 0.9268481456446922}. Best is trial 31 with value: 0.9049763765060118.\n"
     ]
    },
    {
     "name": "stderr",
     "output_type": "stream",
     "text": [
      "/usr/local/lib/python3.12/dist-packages/xgboost/training.py:199: UserWarning: [04:47:41] WARNING: /workspace/src/learner.cc:790: \n",
      "Parameters: { \"use_label_encoder\" } are not used.\n",
      "\n",
      "  bst.update(dtrain, iteration=i, fobj=obj)\n",
      "/usr/local/lib/python3.12/dist-packages/xgboost/training.py:199: UserWarning: [04:48:11] WARNING: /workspace/src/learner.cc:790: \n",
      "Parameters: { \"use_label_encoder\" } are not used.\n",
      "\n",
      "  bst.update(dtrain, iteration=i, fobj=obj)\n",
      "/usr/local/lib/python3.12/dist-packages/xgboost/training.py:199: UserWarning: [04:48:46] WARNING: /workspace/src/learner.cc:790: \n",
      "Parameters: { \"use_label_encoder\" } are not used.\n",
      "\n",
      "  bst.update(dtrain, iteration=i, fobj=obj)\n"
     ]
    },
    {
     "name": "stdout",
     "output_type": "stream",
     "text": [
      "[I 2025-10-27 04:49:17,578] Trial 34 finished with value: 0.9051694888298137 and parameters: {'n_estimators': 2747, 'learning_rate': 0.010853457361224693, 'max_depth': 3, 'subsample': 0.9483976867373916, 'colsample_bytree': 0.9261250882678865}. Best is trial 34 with value: 0.9051694888298137.\n"
     ]
    },
    {
     "name": "stderr",
     "output_type": "stream",
     "text": [
      "/usr/local/lib/python3.12/dist-packages/xgboost/training.py:199: UserWarning: [04:49:17] WARNING: /workspace/src/learner.cc:790: \n",
      "Parameters: { \"use_label_encoder\" } are not used.\n",
      "\n",
      "  bst.update(dtrain, iteration=i, fobj=obj)\n",
      "/usr/local/lib/python3.12/dist-packages/xgboost/training.py:199: UserWarning: [04:49:50] WARNING: /workspace/src/learner.cc:790: \n",
      "Parameters: { \"use_label_encoder\" } are not used.\n",
      "\n",
      "  bst.update(dtrain, iteration=i, fobj=obj)\n",
      "/usr/local/lib/python3.12/dist-packages/xgboost/training.py:199: UserWarning: [04:50:20] WARNING: /workspace/src/learner.cc:790: \n",
      "Parameters: { \"use_label_encoder\" } are not used.\n",
      "\n",
      "  bst.update(dtrain, iteration=i, fobj=obj)\n"
     ]
    },
    {
     "name": "stdout",
     "output_type": "stream",
     "text": [
      "[I 2025-10-27 04:50:52,012] Trial 35 finished with value: 0.9027232170180378 and parameters: {'n_estimators': 2739, 'learning_rate': 0.006300404646245779, 'max_depth': 3, 'subsample': 0.9476962130099248, 'colsample_bytree': 0.9355385159401577}. Best is trial 34 with value: 0.9051694888298137.\n"
     ]
    },
    {
     "name": "stderr",
     "output_type": "stream",
     "text": [
      "/usr/local/lib/python3.12/dist-packages/xgboost/training.py:199: UserWarning: [04:50:52] WARNING: /workspace/src/learner.cc:790: \n",
      "Parameters: { \"use_label_encoder\" } are not used.\n",
      "\n",
      "  bst.update(dtrain, iteration=i, fobj=obj)\n",
      "/usr/local/lib/python3.12/dist-packages/xgboost/training.py:199: UserWarning: [04:51:21] WARNING: /workspace/src/learner.cc:790: \n",
      "Parameters: { \"use_label_encoder\" } are not used.\n",
      "\n",
      "  bst.update(dtrain, iteration=i, fobj=obj)\n",
      "/usr/local/lib/python3.12/dist-packages/xgboost/training.py:199: UserWarning: [04:51:50] WARNING: /workspace/src/learner.cc:790: \n",
      "Parameters: { \"use_label_encoder\" } are not used.\n",
      "\n",
      "  bst.update(dtrain, iteration=i, fobj=obj)\n"
     ]
    },
    {
     "name": "stdout",
     "output_type": "stream",
     "text": [
      "[I 2025-10-27 04:52:19,060] Trial 36 finished with value: 0.904911976716896 and parameters: {'n_estimators': 2650, 'learning_rate': 0.010039375292751979, 'max_depth': 3, 'subsample': 0.9559542629485649, 'colsample_bytree': 0.9250552528167121}. Best is trial 34 with value: 0.9051694888298137.\n"
     ]
    },
    {
     "name": "stderr",
     "output_type": "stream",
     "text": [
      "/usr/local/lib/python3.12/dist-packages/xgboost/training.py:199: UserWarning: [04:52:19] WARNING: /workspace/src/learner.cc:790: \n",
      "Parameters: { \"use_label_encoder\" } are not used.\n",
      "\n",
      "  bst.update(dtrain, iteration=i, fobj=obj)\n",
      "/usr/local/lib/python3.12/dist-packages/xgboost/training.py:199: UserWarning: [04:52:48] WARNING: /workspace/src/learner.cc:790: \n",
      "Parameters: { \"use_label_encoder\" } are not used.\n",
      "\n",
      "  bst.update(dtrain, iteration=i, fobj=obj)\n",
      "/usr/local/lib/python3.12/dist-packages/xgboost/training.py:199: UserWarning: [04:53:19] WARNING: /workspace/src/learner.cc:790: \n",
      "Parameters: { \"use_label_encoder\" } are not used.\n",
      "\n",
      "  bst.update(dtrain, iteration=i, fobj=obj)\n"
     ]
    },
    {
     "name": "stdout",
     "output_type": "stream",
     "text": [
      "[I 2025-10-27 04:53:48,339] Trial 37 finished with value: 0.9022081679226179 and parameters: {'n_estimators': 2584, 'learning_rate': 0.006127207406721625, 'max_depth': 3, 'subsample': 0.9472790358385322, 'colsample_bytree': 0.9449686705732973}. Best is trial 34 with value: 0.9051694888298137.\n"
     ]
    },
    {
     "name": "stderr",
     "output_type": "stream",
     "text": [
      "/usr/local/lib/python3.12/dist-packages/xgboost/training.py:199: UserWarning: [04:53:48] WARNING: /workspace/src/learner.cc:790: \n",
      "Parameters: { \"use_label_encoder\" } are not used.\n",
      "\n",
      "  bst.update(dtrain, iteration=i, fobj=obj)\n",
      "/usr/local/lib/python3.12/dist-packages/xgboost/training.py:199: UserWarning: [04:54:19] WARNING: /workspace/src/learner.cc:790: \n",
      "Parameters: { \"use_label_encoder\" } are not used.\n",
      "\n",
      "  bst.update(dtrain, iteration=i, fobj=obj)\n",
      "/usr/local/lib/python3.12/dist-packages/xgboost/training.py:199: UserWarning: [04:54:53] WARNING: /workspace/src/learner.cc:790: \n",
      "Parameters: { \"use_label_encoder\" } are not used.\n",
      "\n",
      "  bst.update(dtrain, iteration=i, fobj=obj)\n"
     ]
    },
    {
     "name": "stdout",
     "output_type": "stream",
     "text": [
      "[I 2025-10-27 04:55:24,187] Trial 38 finished with value: 0.8911347367190139 and parameters: {'n_estimators': 2437, 'learning_rate': 0.3020032163141899, 'max_depth': 4, 'subsample': 0.9307327777177885, 'colsample_bytree': 0.9373175175858882}. Best is trial 34 with value: 0.9051694888298137.\n"
     ]
    },
    {
     "name": "stderr",
     "output_type": "stream",
     "text": [
      "/usr/local/lib/python3.12/dist-packages/xgboost/training.py:199: UserWarning: [04:55:24] WARNING: /workspace/src/learner.cc:790: \n",
      "Parameters: { \"use_label_encoder\" } are not used.\n",
      "\n",
      "  bst.update(dtrain, iteration=i, fobj=obj)\n",
      "/usr/local/lib/python3.12/dist-packages/xgboost/training.py:199: UserWarning: [04:55:56] WARNING: /workspace/src/learner.cc:790: \n",
      "Parameters: { \"use_label_encoder\" } are not used.\n",
      "\n",
      "  bst.update(dtrain, iteration=i, fobj=obj)\n",
      "/usr/local/lib/python3.12/dist-packages/xgboost/training.py:199: UserWarning: [04:56:27] WARNING: /workspace/src/learner.cc:790: \n",
      "Parameters: { \"use_label_encoder\" } are not used.\n",
      "\n",
      "  bst.update(dtrain, iteration=i, fobj=obj)\n"
     ]
    },
    {
     "name": "stdout",
     "output_type": "stream",
     "text": [
      "[I 2025-10-27 04:56:57,769] Trial 39 finished with value: 0.9052338264449683 and parameters: {'n_estimators': 2901, 'learning_rate': 0.009485977177462081, 'max_depth': 3, 'subsample': 0.9561227018147497, 'colsample_bytree': 0.9246266785718765}. Best is trial 39 with value: 0.9052338264449683.\n"
     ]
    },
    {
     "name": "stderr",
     "output_type": "stream",
     "text": [
      "/usr/local/lib/python3.12/dist-packages/xgboost/training.py:199: UserWarning: [04:56:57] WARNING: /workspace/src/learner.cc:790: \n",
      "Parameters: { \"use_label_encoder\" } are not used.\n",
      "\n",
      "  bst.update(dtrain, iteration=i, fobj=obj)\n",
      "/usr/local/lib/python3.12/dist-packages/xgboost/training.py:199: UserWarning: [04:57:45] WARNING: /workspace/src/learner.cc:790: \n",
      "Parameters: { \"use_label_encoder\" } are not used.\n",
      "\n",
      "  bst.update(dtrain, iteration=i, fobj=obj)\n",
      "/usr/local/lib/python3.12/dist-packages/xgboost/training.py:199: UserWarning: [04:58:33] WARNING: /workspace/src/learner.cc:790: \n",
      "Parameters: { \"use_label_encoder\" } are not used.\n",
      "\n",
      "  bst.update(dtrain, iteration=i, fobj=obj)\n"
     ]
    },
    {
     "name": "stdout",
     "output_type": "stream",
     "text": [
      "[I 2025-10-27 04:59:20,174] Trial 40 finished with value: 0.8993753232890552 and parameters: {'n_estimators': 2824, 'learning_rate': 0.02854811839298558, 'max_depth': 5, 'subsample': 0.9439793444020677, 'colsample_bytree': 0.9427822013807399}. Best is trial 39 with value: 0.9052338264449683.\n"
     ]
    },
    {
     "name": "stderr",
     "output_type": "stream",
     "text": [
      "/usr/local/lib/python3.12/dist-packages/xgboost/training.py:199: UserWarning: [04:59:20] WARNING: /workspace/src/learner.cc:790: \n",
      "Parameters: { \"use_label_encoder\" } are not used.\n",
      "\n",
      "  bst.update(dtrain, iteration=i, fobj=obj)\n",
      "/usr/local/lib/python3.12/dist-packages/xgboost/training.py:199: UserWarning: [04:59:53] WARNING: /workspace/src/learner.cc:790: \n",
      "Parameters: { \"use_label_encoder\" } are not used.\n",
      "\n",
      "  bst.update(dtrain, iteration=i, fobj=obj)\n",
      "/usr/local/lib/python3.12/dist-packages/xgboost/training.py:199: UserWarning: [05:00:25] WARNING: /workspace/src/learner.cc:790: \n",
      "Parameters: { \"use_label_encoder\" } are not used.\n",
      "\n",
      "  bst.update(dtrain, iteration=i, fobj=obj)\n"
     ]
    },
    {
     "name": "stdout",
     "output_type": "stream",
     "text": [
      "[I 2025-10-27 05:00:59,347] Trial 41 finished with value: 0.9056844633164801 and parameters: {'n_estimators': 2950, 'learning_rate': 0.009315057916276525, 'max_depth': 3, 'subsample': 0.9558414636269361, 'colsample_bytree': 0.9257045475188785}. Best is trial 41 with value: 0.9056844633164801.\n"
     ]
    },
    {
     "name": "stderr",
     "output_type": "stream",
     "text": [
      "/usr/local/lib/python3.12/dist-packages/xgboost/training.py:199: UserWarning: [05:00:59] WARNING: /workspace/src/learner.cc:790: \n",
      "Parameters: { \"use_label_encoder\" } are not used.\n",
      "\n",
      "  bst.update(dtrain, iteration=i, fobj=obj)\n",
      "/usr/local/lib/python3.12/dist-packages/xgboost/training.py:199: UserWarning: [05:01:32] WARNING: /workspace/src/learner.cc:790: \n",
      "Parameters: { \"use_label_encoder\" } are not used.\n",
      "\n",
      "  bst.update(dtrain, iteration=i, fobj=obj)\n",
      "/usr/local/lib/python3.12/dist-packages/xgboost/training.py:199: UserWarning: [05:02:07] WARNING: /workspace/src/learner.cc:790: \n",
      "Parameters: { \"use_label_encoder\" } are not used.\n",
      "\n",
      "  bst.update(dtrain, iteration=i, fobj=obj)\n"
     ]
    },
    {
     "name": "stdout",
     "output_type": "stream",
     "text": [
      "[I 2025-10-27 05:02:40,844] Trial 42 finished with value: 0.9040751400673653 and parameters: {'n_estimators': 2994, 'learning_rate': 0.007141544519636679, 'max_depth': 3, 'subsample': 0.9576379404499465, 'colsample_bytree': 0.9188909882314384}. Best is trial 41 with value: 0.9056844633164801.\n"
     ]
    },
    {
     "name": "stderr",
     "output_type": "stream",
     "text": [
      "/usr/local/lib/python3.12/dist-packages/xgboost/training.py:199: UserWarning: [05:02:40] WARNING: /workspace/src/learner.cc:790: \n",
      "Parameters: { \"use_label_encoder\" } are not used.\n",
      "\n",
      "  bst.update(dtrain, iteration=i, fobj=obj)\n",
      "/usr/local/lib/python3.12/dist-packages/xgboost/training.py:199: UserWarning: [05:03:52] WARNING: /workspace/src/learner.cc:790: \n",
      "Parameters: { \"use_label_encoder\" } are not used.\n",
      "\n",
      "  bst.update(dtrain, iteration=i, fobj=obj)\n",
      "/usr/local/lib/python3.12/dist-packages/xgboost/training.py:199: UserWarning: [05:05:04] WARNING: /workspace/src/learner.cc:790: \n",
      "Parameters: { \"use_label_encoder\" } are not used.\n",
      "\n",
      "  bst.update(dtrain, iteration=i, fobj=obj)\n"
     ]
    },
    {
     "name": "stdout",
     "output_type": "stream",
     "text": [
      "[I 2025-10-27 05:06:16,550] Trial 43 finished with value: 0.8997615852410356 and parameters: {'n_estimators': 2867, 'learning_rate': 0.01210333709039751, 'max_depth': 8, 'subsample': 0.9500573033053547, 'colsample_bytree': 0.9256674033402652}. Best is trial 41 with value: 0.9056844633164801.\n"
     ]
    },
    {
     "name": "stderr",
     "output_type": "stream",
     "text": [
      "/usr/local/lib/python3.12/dist-packages/xgboost/training.py:199: UserWarning: [05:06:16] WARNING: /workspace/src/learner.cc:790: \n",
      "Parameters: { \"use_label_encoder\" } are not used.\n",
      "\n",
      "  bst.update(dtrain, iteration=i, fobj=obj)\n",
      "/usr/local/lib/python3.12/dist-packages/xgboost/training.py:199: UserWarning: [05:06:47] WARNING: /workspace/src/learner.cc:790: \n",
      "Parameters: { \"use_label_encoder\" } are not used.\n",
      "\n",
      "  bst.update(dtrain, iteration=i, fobj=obj)\n",
      "/usr/local/lib/python3.12/dist-packages/xgboost/training.py:199: UserWarning: [05:07:22] WARNING: /workspace/src/learner.cc:790: \n",
      "Parameters: { \"use_label_encoder\" } are not used.\n",
      "\n",
      "  bst.update(dtrain, iteration=i, fobj=obj)\n"
     ]
    },
    {
     "name": "stdout",
     "output_type": "stream",
     "text": [
      "[I 2025-10-27 05:07:53,498] Trial 44 finished with value: 0.9016287936468359 and parameters: {'n_estimators': 2834, 'learning_rate': 0.00512113454105166, 'max_depth': 3, 'subsample': 0.9364055017439135, 'colsample_bytree': 0.9218384839679827}. Best is trial 41 with value: 0.9056844633164801.\n"
     ]
    },
    {
     "name": "stderr",
     "output_type": "stream",
     "text": [
      "/usr/local/lib/python3.12/dist-packages/xgboost/training.py:199: UserWarning: [05:07:53] WARNING: /workspace/src/learner.cc:790: \n",
      "Parameters: { \"use_label_encoder\" } are not used.\n",
      "\n",
      "  bst.update(dtrain, iteration=i, fobj=obj)\n",
      "/usr/local/lib/python3.12/dist-packages/xgboost/training.py:199: UserWarning: [05:08:21] WARNING: /workspace/src/learner.cc:790: \n",
      "Parameters: { \"use_label_encoder\" } are not used.\n",
      "\n",
      "  bst.update(dtrain, iteration=i, fobj=obj)\n",
      "/usr/local/lib/python3.12/dist-packages/xgboost/training.py:199: UserWarning: [05:08:50] WARNING: /workspace/src/learner.cc:790: \n",
      "Parameters: { \"use_label_encoder\" } are not used.\n",
      "\n",
      "  bst.update(dtrain, iteration=i, fobj=obj)\n"
     ]
    },
    {
     "name": "stdout",
     "output_type": "stream",
     "text": [
      "[I 2025-10-27 05:09:18,151] Trial 45 finished with value: 0.9025943677006371 and parameters: {'n_estimators': 1170, 'learning_rate': 0.008841343306823346, 'max_depth': 7, 'subsample': 0.9259290482754723, 'colsample_bytree': 0.9515495560609856}. Best is trial 41 with value: 0.9056844633164801.\n"
     ]
    },
    {
     "name": "stderr",
     "output_type": "stream",
     "text": [
      "/usr/local/lib/python3.12/dist-packages/xgboost/training.py:199: UserWarning: [05:09:18] WARNING: /workspace/src/learner.cc:790: \n",
      "Parameters: { \"use_label_encoder\" } are not used.\n",
      "\n",
      "  bst.update(dtrain, iteration=i, fobj=obj)\n",
      "/usr/local/lib/python3.12/dist-packages/xgboost/training.py:199: UserWarning: [05:09:58] WARNING: /workspace/src/learner.cc:790: \n",
      "Parameters: { \"use_label_encoder\" } are not used.\n",
      "\n",
      "  bst.update(dtrain, iteration=i, fobj=obj)\n",
      "/usr/local/lib/python3.12/dist-packages/xgboost/training.py:199: UserWarning: [05:10:38] WARNING: /workspace/src/learner.cc:790: \n",
      "Parameters: { \"use_label_encoder\" } are not used.\n",
      "\n",
      "  bst.update(dtrain, iteration=i, fobj=obj)\n"
     ]
    },
    {
     "name": "stdout",
     "output_type": "stream",
     "text": [
      "[I 2025-10-27 05:11:18,936] Trial 46 finished with value: 0.9033024545111051 and parameters: {'n_estimators': 2981, 'learning_rate': 0.014139887954160995, 'max_depth': 4, 'subsample': 0.9529225767616208, 'colsample_bytree': 0.9376394931368303}. Best is trial 41 with value: 0.9056844633164801.\n"
     ]
    },
    {
     "name": "stderr",
     "output_type": "stream",
     "text": [
      "/usr/local/lib/python3.12/dist-packages/xgboost/training.py:199: UserWarning: [05:11:19] WARNING: /workspace/src/learner.cc:790: \n",
      "Parameters: { \"use_label_encoder\" } are not used.\n",
      "\n",
      "  bst.update(dtrain, iteration=i, fobj=obj)\n",
      "/usr/local/lib/python3.12/dist-packages/xgboost/training.py:199: UserWarning: [05:11:47] WARNING: /workspace/src/learner.cc:790: \n",
      "Parameters: { \"use_label_encoder\" } are not used.\n",
      "\n",
      "  bst.update(dtrain, iteration=i, fobj=obj)\n",
      "/usr/local/lib/python3.12/dist-packages/xgboost/training.py:199: UserWarning: [05:12:14] WARNING: /workspace/src/learner.cc:790: \n",
      "Parameters: { \"use_label_encoder\" } are not used.\n",
      "\n",
      "  bst.update(dtrain, iteration=i, fobj=obj)\n"
     ]
    },
    {
     "name": "stdout",
     "output_type": "stream",
     "text": [
      "[I 2025-10-27 05:12:42,500] Trial 47 finished with value: 0.9017574067031836 and parameters: {'n_estimators': 2506, 'learning_rate': 0.03833553182749304, 'max_depth': 3, 'subsample': 0.9665563000527834, 'colsample_bytree': 0.9291220224954503}. Best is trial 41 with value: 0.9056844633164801.\n"
     ]
    },
    {
     "name": "stderr",
     "output_type": "stream",
     "text": [
      "/usr/local/lib/python3.12/dist-packages/xgboost/training.py:199: UserWarning: [05:12:42] WARNING: /workspace/src/learner.cc:790: \n",
      "Parameters: { \"use_label_encoder\" } are not used.\n",
      "\n",
      "  bst.update(dtrain, iteration=i, fobj=obj)\n",
      "/usr/local/lib/python3.12/dist-packages/xgboost/training.py:199: UserWarning: [05:13:14] WARNING: /workspace/src/learner.cc:790: \n",
      "Parameters: { \"use_label_encoder\" } are not used.\n",
      "\n",
      "  bst.update(dtrain, iteration=i, fobj=obj)\n",
      "/usr/local/lib/python3.12/dist-packages/xgboost/training.py:199: UserWarning: [05:13:44] WARNING: /workspace/src/learner.cc:790: \n",
      "Parameters: { \"use_label_encoder\" } are not used.\n",
      "\n",
      "  bst.update(dtrain, iteration=i, fobj=obj)\n"
     ]
    },
    {
     "name": "stdout",
     "output_type": "stream",
     "text": [
      "[I 2025-10-27 05:14:13,072] Trial 48 finished with value: 0.9036887786370468 and parameters: {'n_estimators': 2739, 'learning_rate': 0.02169180759323138, 'max_depth': 3, 'subsample': 0.9665601120902233, 'colsample_bytree': 0.9174702666714729}. Best is trial 41 with value: 0.9056844633164801.\n"
     ]
    },
    {
     "name": "stderr",
     "output_type": "stream",
     "text": [
      "/usr/local/lib/python3.12/dist-packages/xgboost/training.py:199: UserWarning: [05:14:13] WARNING: /workspace/src/learner.cc:790: \n",
      "Parameters: { \"use_label_encoder\" } are not used.\n",
      "\n",
      "  bst.update(dtrain, iteration=i, fobj=obj)\n",
      "/usr/local/lib/python3.12/dist-packages/xgboost/training.py:199: UserWarning: [05:14:43] WARNING: /workspace/src/learner.cc:790: \n",
      "Parameters: { \"use_label_encoder\" } are not used.\n",
      "\n",
      "  bst.update(dtrain, iteration=i, fobj=obj)\n",
      "/usr/local/lib/python3.12/dist-packages/xgboost/training.py:199: UserWarning: [05:15:11] WARNING: /workspace/src/learner.cc:790: \n",
      "Parameters: { \"use_label_encoder\" } are not used.\n",
      "\n",
      "  bst.update(dtrain, iteration=i, fobj=obj)\n"
     ]
    },
    {
     "name": "stdout",
     "output_type": "stream",
     "text": [
      "[I 2025-10-27 05:15:41,281] Trial 49 finished with value: 0.9051052009538282 and parameters: {'n_estimators': 2168, 'learning_rate': 0.009372430110614676, 'max_depth': 4, 'subsample': 0.9104183472122032, 'colsample_bytree': 0.9227537103811062}. Best is trial 41 with value: 0.9056844633164801.\n"
     ]
    },
    {
     "name": "stderr",
     "output_type": "stream",
     "text": [
      "/usr/local/lib/python3.12/dist-packages/xgboost/training.py:199: UserWarning: [05:15:41] WARNING: /workspace/src/learner.cc:790: \n",
      "Parameters: { \"use_label_encoder\" } are not used.\n",
      "\n",
      "  bst.update(dtrain, iteration=i, fobj=obj)\n",
      "/usr/local/lib/python3.12/dist-packages/xgboost/training.py:199: UserWarning: [05:16:13] WARNING: /workspace/src/learner.cc:790: \n",
      "Parameters: { \"use_label_encoder\" } are not used.\n",
      "\n",
      "  bst.update(dtrain, iteration=i, fobj=obj)\n",
      "/usr/local/lib/python3.12/dist-packages/xgboost/training.py:199: UserWarning: [05:16:45] WARNING: /workspace/src/learner.cc:790: \n",
      "Parameters: { \"use_label_encoder\" } are not used.\n",
      "\n",
      "  bst.update(dtrain, iteration=i, fobj=obj)\n"
     ]
    },
    {
     "name": "stdout",
     "output_type": "stream",
     "text": [
      "[I 2025-10-27 05:17:19,032] Trial 50 finished with value: 0.9047833139213791 and parameters: {'n_estimators': 2388, 'learning_rate': 0.00924490300382254, 'max_depth': 4, 'subsample': 0.9187630463330034, 'colsample_bytree': 0.934042762599109}. Best is trial 41 with value: 0.9056844633164801.\n"
     ]
    },
    {
     "name": "stderr",
     "output_type": "stream",
     "text": [
      "/usr/local/lib/python3.12/dist-packages/xgboost/training.py:199: UserWarning: [05:17:19] WARNING: /workspace/src/learner.cc:790: \n",
      "Parameters: { \"use_label_encoder\" } are not used.\n",
      "\n",
      "  bst.update(dtrain, iteration=i, fobj=obj)\n",
      "/usr/local/lib/python3.12/dist-packages/xgboost/training.py:199: UserWarning: [05:17:43] WARNING: /workspace/src/learner.cc:790: \n",
      "Parameters: { \"use_label_encoder\" } are not used.\n",
      "\n",
      "  bst.update(dtrain, iteration=i, fobj=obj)\n",
      "/usr/local/lib/python3.12/dist-packages/xgboost/training.py:199: UserWarning: [05:18:07] WARNING: /workspace/src/learner.cc:790: \n",
      "Parameters: { \"use_label_encoder\" } are not used.\n",
      "\n",
      "  bst.update(dtrain, iteration=i, fobj=obj)\n"
     ]
    },
    {
     "name": "stdout",
     "output_type": "stream",
     "text": [
      "[I 2025-10-27 05:18:32,168] Trial 51 finished with value: 0.9015644062925122 and parameters: {'n_estimators': 2168, 'learning_rate': 0.006909367144345109, 'max_depth': 3, 'subsample': 0.9019651875450313, 'colsample_bytree': 0.9231676156764532}. Best is trial 41 with value: 0.9056844633164801.\n"
     ]
    },
    {
     "name": "stderr",
     "output_type": "stream",
     "text": [
      "/usr/local/lib/python3.12/dist-packages/xgboost/training.py:199: UserWarning: [05:18:32] WARNING: /workspace/src/learner.cc:790: \n",
      "Parameters: { \"use_label_encoder\" } are not used.\n",
      "\n",
      "  bst.update(dtrain, iteration=i, fobj=obj)\n",
      "/usr/local/lib/python3.12/dist-packages/xgboost/training.py:199: UserWarning: [05:18:40] WARNING: /workspace/src/learner.cc:790: \n",
      "Parameters: { \"use_label_encoder\" } are not used.\n",
      "\n",
      "  bst.update(dtrain, iteration=i, fobj=obj)\n",
      "/usr/local/lib/python3.12/dist-packages/xgboost/training.py:199: UserWarning: [05:18:46] WARNING: /workspace/src/learner.cc:790: \n",
      "Parameters: { \"use_label_encoder\" } are not used.\n",
      "\n",
      "  bst.update(dtrain, iteration=i, fobj=obj)\n"
     ]
    },
    {
     "name": "stdout",
     "output_type": "stream",
     "text": [
      "[I 2025-10-27 05:18:55,286] Trial 52 finished with value: 0.8960277404298792 and parameters: {'n_estimators': 519, 'learning_rate': 0.012376891743359476, 'max_depth': 4, 'subsample': 0.9094599806719869, 'colsample_bytree': 0.9141686459168792}. Best is trial 41 with value: 0.9056844633164801.\n"
     ]
    },
    {
     "name": "stderr",
     "output_type": "stream",
     "text": [
      "/usr/local/lib/python3.12/dist-packages/xgboost/training.py:199: UserWarning: [05:18:55] WARNING: /workspace/src/learner.cc:790: \n",
      "Parameters: { \"use_label_encoder\" } are not used.\n",
      "\n",
      "  bst.update(dtrain, iteration=i, fobj=obj)\n",
      "/usr/local/lib/python3.12/dist-packages/xgboost/training.py:199: UserWarning: [05:19:24] WARNING: /workspace/src/learner.cc:790: \n",
      "Parameters: { \"use_label_encoder\" } are not used.\n",
      "\n",
      "  bst.update(dtrain, iteration=i, fobj=obj)\n",
      "/usr/local/lib/python3.12/dist-packages/xgboost/training.py:199: UserWarning: [05:19:54] WARNING: /workspace/src/learner.cc:790: \n",
      "Parameters: { \"use_label_encoder\" } are not used.\n",
      "\n",
      "  bst.update(dtrain, iteration=i, fobj=obj)\n"
     ]
    },
    {
     "name": "stdout",
     "output_type": "stream",
     "text": [
      "[I 2025-10-27 05:20:24,232] Trial 53 finished with value: 0.897057652098835 and parameters: {'n_estimators': 2606, 'learning_rate': 0.07587188538247756, 'max_depth': 3, 'subsample': 0.9075027328819308, 'colsample_bytree': 0.9207134219523866}. Best is trial 41 with value: 0.9056844633164801.\n"
     ]
    },
    {
     "name": "stderr",
     "output_type": "stream",
     "text": [
      "/usr/local/lib/python3.12/dist-packages/xgboost/training.py:199: UserWarning: [05:20:24] WARNING: /workspace/src/learner.cc:790: \n",
      "Parameters: { \"use_label_encoder\" } are not used.\n",
      "\n",
      "  bst.update(dtrain, iteration=i, fobj=obj)\n",
      "/usr/local/lib/python3.12/dist-packages/xgboost/training.py:199: UserWarning: [05:21:02] WARNING: /workspace/src/learner.cc:790: \n",
      "Parameters: { \"use_label_encoder\" } are not used.\n",
      "\n",
      "  bst.update(dtrain, iteration=i, fobj=obj)\n",
      "/usr/local/lib/python3.12/dist-packages/xgboost/training.py:199: UserWarning: [05:21:42] WARNING: /workspace/src/learner.cc:790: \n",
      "Parameters: { \"use_label_encoder\" } are not used.\n",
      "\n",
      "  bst.update(dtrain, iteration=i, fobj=obj)\n"
     ]
    },
    {
     "name": "stdout",
     "output_type": "stream",
     "text": [
      "[I 2025-10-27 05:22:23,611] Trial 54 finished with value: 0.9043325527019448 and parameters: {'n_estimators': 2917, 'learning_rate': 0.010448459061128021, 'max_depth': 4, 'subsample': 0.9603384278217537, 'colsample_bytree': 0.983699608545201}. Best is trial 41 with value: 0.9056844633164801.\n"
     ]
    },
    {
     "name": "stderr",
     "output_type": "stream",
     "text": [
      "/usr/local/lib/python3.12/dist-packages/xgboost/training.py:199: UserWarning: [05:22:23] WARNING: /workspace/src/learner.cc:790: \n",
      "Parameters: { \"use_label_encoder\" } are not used.\n",
      "\n",
      "  bst.update(dtrain, iteration=i, fobj=obj)\n",
      "/usr/local/lib/python3.12/dist-packages/xgboost/training.py:199: UserWarning: [05:22:55] WARNING: /workspace/src/learner.cc:790: \n",
      "Parameters: { \"use_label_encoder\" } are not used.\n",
      "\n",
      "  bst.update(dtrain, iteration=i, fobj=obj)\n",
      "/usr/local/lib/python3.12/dist-packages/xgboost/training.py:199: UserWarning: [05:23:26] WARNING: /workspace/src/learner.cc:790: \n",
      "Parameters: { \"use_label_encoder\" } are not used.\n",
      "\n",
      "  bst.update(dtrain, iteration=i, fobj=obj)\n"
     ]
    },
    {
     "name": "stdout",
     "output_type": "stream",
     "text": [
      "[I 2025-10-27 05:23:59,373] Trial 55 finished with value: 0.9027875795027769 and parameters: {'n_estimators': 2790, 'learning_rate': 0.00581698770248411, 'max_depth': 3, 'subsample': 0.9242870993798804, 'colsample_bytree': 0.9283252867956197}. Best is trial 41 with value: 0.9056844633164801.\n"
     ]
    },
    {
     "name": "stderr",
     "output_type": "stream",
     "text": [
      "/usr/local/lib/python3.12/dist-packages/xgboost/training.py:199: UserWarning: [05:23:59] WARNING: /workspace/src/learner.cc:790: \n",
      "Parameters: { \"use_label_encoder\" } are not used.\n",
      "\n",
      "  bst.update(dtrain, iteration=i, fobj=obj)\n",
      "/usr/local/lib/python3.12/dist-packages/xgboost/training.py:199: UserWarning: [05:24:36] WARNING: /workspace/src/learner.cc:790: \n",
      "Parameters: { \"use_label_encoder\" } are not used.\n",
      "\n",
      "  bst.update(dtrain, iteration=i, fobj=obj)\n",
      "/usr/local/lib/python3.12/dist-packages/xgboost/training.py:199: UserWarning: [05:25:15] WARNING: /workspace/src/learner.cc:790: \n",
      "Parameters: { \"use_label_encoder\" } are not used.\n",
      "\n",
      "  bst.update(dtrain, iteration=i, fobj=obj)\n"
     ]
    },
    {
     "name": "stdout",
     "output_type": "stream",
     "text": [
      "[I 2025-10-27 05:25:52,386] Trial 56 finished with value: 0.8998259725953592 and parameters: {'n_estimators': 1885, 'learning_rate': 0.014709514487488553, 'max_depth': 6, 'subsample': 0.9438973256108397, 'colsample_bytree': 0.9651906090678226}. Best is trial 41 with value: 0.9056844633164801.\n"
     ]
    },
    {
     "name": "stderr",
     "output_type": "stream",
     "text": [
      "/usr/local/lib/python3.12/dist-packages/xgboost/training.py:199: UserWarning: [05:25:52] WARNING: /workspace/src/learner.cc:790: \n",
      "Parameters: { \"use_label_encoder\" } are not used.\n",
      "\n",
      "  bst.update(dtrain, iteration=i, fobj=obj)\n",
      "/usr/local/lib/python3.12/dist-packages/xgboost/training.py:199: UserWarning: [05:26:27] WARNING: /workspace/src/learner.cc:790: \n",
      "Parameters: { \"use_label_encoder\" } are not used.\n",
      "\n",
      "  bst.update(dtrain, iteration=i, fobj=obj)\n",
      "/usr/local/lib/python3.12/dist-packages/xgboost/training.py:199: UserWarning: [05:27:01] WARNING: /workspace/src/learner.cc:790: \n",
      "Parameters: { \"use_label_encoder\" } are not used.\n",
      "\n",
      "  bst.update(dtrain, iteration=i, fobj=obj)\n"
     ]
    },
    {
     "name": "stdout",
     "output_type": "stream",
     "text": [
      "[I 2025-10-27 05:27:34,264] Trial 57 finished with value: 0.9027874551548543 and parameters: {'n_estimators': 2523, 'learning_rate': 0.019138093758902755, 'max_depth': 4, 'subsample': 0.9696395400038957, 'colsample_bytree': 0.9320642031922813}. Best is trial 41 with value: 0.9056844633164801.\n"
     ]
    },
    {
     "name": "stderr",
     "output_type": "stream",
     "text": [
      "/usr/local/lib/python3.12/dist-packages/xgboost/training.py:199: UserWarning: [05:27:34] WARNING: /workspace/src/learner.cc:790: \n",
      "Parameters: { \"use_label_encoder\" } are not used.\n",
      "\n",
      "  bst.update(dtrain, iteration=i, fobj=obj)\n",
      "/usr/local/lib/python3.12/dist-packages/xgboost/training.py:199: UserWarning: [05:27:51] WARNING: /workspace/src/learner.cc:790: \n",
      "Parameters: { \"use_label_encoder\" } are not used.\n",
      "\n",
      "  bst.update(dtrain, iteration=i, fobj=obj)\n",
      "/usr/local/lib/python3.12/dist-packages/xgboost/training.py:199: UserWarning: [05:28:09] WARNING: /workspace/src/learner.cc:790: \n",
      "Parameters: { \"use_label_encoder\" } are not used.\n",
      "\n",
      "  bst.update(dtrain, iteration=i, fobj=obj)\n"
     ]
    },
    {
     "name": "stdout",
     "output_type": "stream",
     "text": [
      "[I 2025-10-27 05:28:26,040] Trial 58 finished with value: 0.9043325651367371 and parameters: {'n_estimators': 1569, 'learning_rate': 0.025735150416534302, 'max_depth': 3, 'subsample': 0.9781688571984595, 'colsample_bytree': 0.9044144514053661}. Best is trial 41 with value: 0.9056844633164801.\n"
     ]
    },
    {
     "name": "stderr",
     "output_type": "stream",
     "text": [
      "/usr/local/lib/python3.12/dist-packages/xgboost/training.py:199: UserWarning: [05:28:26] WARNING: /workspace/src/learner.cc:790: \n",
      "Parameters: { \"use_label_encoder\" } are not used.\n",
      "\n",
      "  bst.update(dtrain, iteration=i, fobj=obj)\n",
      "/usr/local/lib/python3.12/dist-packages/xgboost/training.py:199: UserWarning: [05:29:00] WARNING: /workspace/src/learner.cc:790: \n",
      "Parameters: { \"use_label_encoder\" } are not used.\n",
      "\n",
      "  bst.update(dtrain, iteration=i, fobj=obj)\n",
      "/usr/local/lib/python3.12/dist-packages/xgboost/training.py:199: UserWarning: [05:29:29] WARNING: /workspace/src/learner.cc:790: \n",
      "Parameters: { \"use_label_encoder\" } are not used.\n",
      "\n",
      "  bst.update(dtrain, iteration=i, fobj=obj)\n"
     ]
    },
    {
     "name": "stdout",
     "output_type": "stream",
     "text": [
      "[I 2025-10-27 05:29:58,293] Trial 59 finished with value: 0.9040107154086648 and parameters: {'n_estimators': 2691, 'learning_rate': 0.008640922345409308, 'max_depth': 3, 'subsample': 0.9847897332029946, 'colsample_bytree': 0.9109344248553313}. Best is trial 41 with value: 0.9056844633164801.\n"
     ]
    },
    {
     "name": "stderr",
     "output_type": "stream",
     "text": [
      "/usr/local/lib/python3.12/dist-packages/xgboost/training.py:199: UserWarning: [05:29:58] WARNING: /workspace/src/learner.cc:790: \n",
      "Parameters: { \"use_label_encoder\" } are not used.\n",
      "\n",
      "  bst.update(dtrain, iteration=i, fobj=obj)\n",
      "/usr/local/lib/python3.12/dist-packages/xgboost/training.py:199: UserWarning: [05:30:29] WARNING: /workspace/src/learner.cc:790: \n",
      "Parameters: { \"use_label_encoder\" } are not used.\n",
      "\n",
      "  bst.update(dtrain, iteration=i, fobj=obj)\n",
      "/usr/local/lib/python3.12/dist-packages/xgboost/training.py:199: UserWarning: [05:31:00] WARNING: /workspace/src/learner.cc:790: \n",
      "Parameters: { \"use_label_encoder\" } are not used.\n",
      "\n",
      "  bst.update(dtrain, iteration=i, fobj=obj)\n"
     ]
    },
    {
     "name": "stdout",
     "output_type": "stream",
     "text": [
      "[I 2025-10-27 05:31:30,840] Trial 60 finished with value: 0.8936454953634515 and parameters: {'n_estimators': 2105, 'learning_rate': 0.20588906558175027, 'max_depth': 5, 'subsample': 0.9530754144084701, 'colsample_bytree': 0.9406355168750298}. Best is trial 41 with value: 0.9056844633164801.\n"
     ]
    },
    {
     "name": "stderr",
     "output_type": "stream",
     "text": [
      "/usr/local/lib/python3.12/dist-packages/xgboost/training.py:199: UserWarning: [05:31:30] WARNING: /workspace/src/learner.cc:790: \n",
      "Parameters: { \"use_label_encoder\" } are not used.\n",
      "\n",
      "  bst.update(dtrain, iteration=i, fobj=obj)\n",
      "/usr/local/lib/python3.12/dist-packages/xgboost/training.py:199: UserWarning: [05:31:59] WARNING: /workspace/src/learner.cc:790: \n",
      "Parameters: { \"use_label_encoder\" } are not used.\n",
      "\n",
      "  bst.update(dtrain, iteration=i, fobj=obj)\n",
      "/usr/local/lib/python3.12/dist-packages/xgboost/training.py:199: UserWarning: [05:32:29] WARNING: /workspace/src/learner.cc:790: \n",
      "Parameters: { \"use_label_encoder\" } are not used.\n",
      "\n",
      "  bst.update(dtrain, iteration=i, fobj=obj)\n"
     ]
    },
    {
     "name": "stdout",
     "output_type": "stream",
     "text": [
      "[I 2025-10-27 05:32:57,548] Trial 61 finished with value: 0.9049119394125192 and parameters: {'n_estimators': 2656, 'learning_rate': 0.010415374457743149, 'max_depth': 3, 'subsample': 0.9573022242468693, 'colsample_bytree': 0.9242420791196839}. Best is trial 41 with value: 0.9056844633164801.\n"
     ]
    },
    {
     "name": "stderr",
     "output_type": "stream",
     "text": [
      "/usr/local/lib/python3.12/dist-packages/xgboost/training.py:199: UserWarning: [05:32:57] WARNING: /workspace/src/learner.cc:790: \n",
      "Parameters: { \"use_label_encoder\" } are not used.\n",
      "\n",
      "  bst.update(dtrain, iteration=i, fobj=obj)\n",
      "/usr/local/lib/python3.12/dist-packages/xgboost/training.py:199: UserWarning: [05:33:23] WARNING: /workspace/src/learner.cc:790: \n",
      "Parameters: { \"use_label_encoder\" } are not used.\n",
      "\n",
      "  bst.update(dtrain, iteration=i, fobj=obj)\n",
      "/usr/local/lib/python3.12/dist-packages/xgboost/training.py:199: UserWarning: [05:33:49] WARNING: /workspace/src/learner.cc:790: \n",
      "Parameters: { \"use_label_encoder\" } are not used.\n",
      "\n",
      "  bst.update(dtrain, iteration=i, fobj=obj)\n"
     ]
    },
    {
     "name": "stdout",
     "output_type": "stream",
     "text": [
      "[I 2025-10-27 05:34:15,121] Trial 62 finished with value: 0.9042038526020512 and parameters: {'n_estimators': 2393, 'learning_rate': 0.00970517248606567, 'max_depth': 3, 'subsample': 0.9643342754672346, 'colsample_bytree': 0.9253946298915163}. Best is trial 41 with value: 0.9056844633164801.\n"
     ]
    },
    {
     "name": "stderr",
     "output_type": "stream",
     "text": [
      "/usr/local/lib/python3.12/dist-packages/xgboost/training.py:199: UserWarning: [05:34:15] WARNING: /workspace/src/learner.cc:790: \n",
      "Parameters: { \"use_label_encoder\" } are not used.\n",
      "\n",
      "  bst.update(dtrain, iteration=i, fobj=obj)\n",
      "/usr/local/lib/python3.12/dist-packages/xgboost/training.py:199: UserWarning: [05:34:46] WARNING: /workspace/src/learner.cc:790: \n",
      "Parameters: { \"use_label_encoder\" } are not used.\n",
      "\n",
      "  bst.update(dtrain, iteration=i, fobj=obj)\n",
      "/usr/local/lib/python3.12/dist-packages/xgboost/training.py:199: UserWarning: [05:35:17] WARNING: /workspace/src/learner.cc:790: \n",
      "Parameters: { \"use_label_encoder\" } are not used.\n",
      "\n",
      "  bst.update(dtrain, iteration=i, fobj=obj)\n"
     ]
    },
    {
     "name": "stdout",
     "output_type": "stream",
     "text": [
      "[I 2025-10-27 05:35:48,689] Trial 63 finished with value: 0.9041395398564811 and parameters: {'n_estimators': 2911, 'learning_rate': 0.007267099480923727, 'max_depth': 3, 'subsample': 0.9721128990858547, 'colsample_bytree': 0.9174068721018799}. Best is trial 41 with value: 0.9056844633164801.\n"
     ]
    },
    {
     "name": "stderr",
     "output_type": "stream",
     "text": [
      "/usr/local/lib/python3.12/dist-packages/xgboost/training.py:199: UserWarning: [05:35:48] WARNING: /workspace/src/learner.cc:790: \n",
      "Parameters: { \"use_label_encoder\" } are not used.\n",
      "\n",
      "  bst.update(dtrain, iteration=i, fobj=obj)\n",
      "/usr/local/lib/python3.12/dist-packages/xgboost/training.py:199: UserWarning: [05:36:17] WARNING: /workspace/src/learner.cc:790: \n",
      "Parameters: { \"use_label_encoder\" } are not used.\n",
      "\n",
      "  bst.update(dtrain, iteration=i, fobj=obj)\n",
      "/usr/local/lib/python3.12/dist-packages/xgboost/training.py:199: UserWarning: [05:36:45] WARNING: /workspace/src/learner.cc:790: \n",
      "Parameters: { \"use_label_encoder\" } are not used.\n",
      "\n",
      "  bst.update(dtrain, iteration=i, fobj=obj)\n"
     ]
    },
    {
     "name": "stdout",
     "output_type": "stream",
     "text": [
      "[I 2025-10-27 05:37:14,139] Trial 64 finished with value: 0.904718851958302 and parameters: {'n_estimators': 2603, 'learning_rate': 0.013451945773289129, 'max_depth': 3, 'subsample': 0.9474711404826951, 'colsample_bytree': 0.9316720438203581}. Best is trial 41 with value: 0.9056844633164801.\n"
     ]
    },
    {
     "name": "stderr",
     "output_type": "stream",
     "text": [
      "/usr/local/lib/python3.12/dist-packages/xgboost/training.py:199: UserWarning: [05:37:14] WARNING: /workspace/src/learner.cc:790: \n",
      "Parameters: { \"use_label_encoder\" } are not used.\n",
      "\n",
      "  bst.update(dtrain, iteration=i, fobj=obj)\n",
      "/usr/local/lib/python3.12/dist-packages/xgboost/training.py:199: UserWarning: [05:37:51] WARNING: /workspace/src/learner.cc:790: \n",
      "Parameters: { \"use_label_encoder\" } are not used.\n",
      "\n",
      "  bst.update(dtrain, iteration=i, fobj=obj)\n",
      "/usr/local/lib/python3.12/dist-packages/xgboost/training.py:199: UserWarning: [05:38:28] WARNING: /workspace/src/learner.cc:790: \n",
      "Parameters: { \"use_label_encoder\" } are not used.\n",
      "\n",
      "  bst.update(dtrain, iteration=i, fobj=obj)\n"
     ]
    },
    {
     "name": "stdout",
     "output_type": "stream",
     "text": [
      "[I 2025-10-27 05:39:06,901] Trial 65 finished with value: 0.9043969649258531 and parameters: {'n_estimators': 2805, 'learning_rate': 0.01192520734069618, 'max_depth': 4, 'subsample': 0.9592219252176979, 'colsample_bytree': 0.9145298355369506}. Best is trial 41 with value: 0.9056844633164801.\n"
     ]
    },
    {
     "name": "stderr",
     "output_type": "stream",
     "text": [
      "/usr/local/lib/python3.12/dist-packages/xgboost/training.py:199: UserWarning: [05:39:06] WARNING: /workspace/src/learner.cc:790: \n",
      "Parameters: { \"use_label_encoder\" } are not used.\n",
      "\n",
      "  bst.update(dtrain, iteration=i, fobj=obj)\n",
      "/usr/local/lib/python3.12/dist-packages/xgboost/training.py:199: UserWarning: [05:39:40] WARNING: /workspace/src/learner.cc:790: \n",
      "Parameters: { \"use_label_encoder\" } are not used.\n",
      "\n",
      "  bst.update(dtrain, iteration=i, fobj=obj)\n",
      "/usr/local/lib/python3.12/dist-packages/xgboost/training.py:199: UserWarning: [05:40:12] WARNING: /workspace/src/learner.cc:790: \n",
      "Parameters: { \"use_label_encoder\" } are not used.\n",
      "\n",
      "  bst.update(dtrain, iteration=i, fobj=obj)\n"
     ]
    },
    {
     "name": "stdout",
     "output_type": "stream",
     "text": [
      "[I 2025-10-27 05:40:46,527] Trial 66 finished with value: 0.8970577142727963 and parameters: {'n_estimators': 2945, 'learning_rate': 0.06177056903257484, 'max_depth': 3, 'subsample': 0.9552265871565846, 'colsample_bytree': 0.920467921506297}. Best is trial 41 with value: 0.9056844633164801.\n"
     ]
    },
    {
     "name": "stderr",
     "output_type": "stream",
     "text": [
      "/usr/local/lib/python3.12/dist-packages/xgboost/training.py:199: UserWarning: [05:40:46] WARNING: /workspace/src/learner.cc:790: \n",
      "Parameters: { \"use_label_encoder\" } are not used.\n",
      "\n",
      "  bst.update(dtrain, iteration=i, fobj=obj)\n",
      "/usr/local/lib/python3.12/dist-packages/xgboost/training.py:199: UserWarning: [05:41:05] WARNING: /workspace/src/learner.cc:790: \n",
      "Parameters: { \"use_label_encoder\" } are not used.\n",
      "\n",
      "  bst.update(dtrain, iteration=i, fobj=obj)\n",
      "/usr/local/lib/python3.12/dist-packages/xgboost/training.py:199: UserWarning: [05:41:26] WARNING: /workspace/src/learner.cc:790: \n",
      "Parameters: { \"use_label_encoder\" } are not used.\n",
      "\n",
      "  bst.update(dtrain, iteration=i, fobj=obj)\n"
     ]
    },
    {
     "name": "stdout",
     "output_type": "stream",
     "text": [
      "[I 2025-10-27 05:41:45,440] Trial 67 finished with value: 0.9048476515365337 and parameters: {'n_estimators': 1790, 'learning_rate': 0.01560836886965263, 'max_depth': 3, 'subsample': 0.9399157295356929, 'colsample_bytree': 0.9284492704596408}. Best is trial 41 with value: 0.9056844633164801.\n"
     ]
    },
    {
     "name": "stderr",
     "output_type": "stream",
     "text": [
      "/usr/local/lib/python3.12/dist-packages/xgboost/training.py:199: UserWarning: [05:41:45] WARNING: /workspace/src/learner.cc:790: \n",
      "Parameters: { \"use_label_encoder\" } are not used.\n",
      "\n",
      "  bst.update(dtrain, iteration=i, fobj=obj)\n",
      "/usr/local/lib/python3.12/dist-packages/xgboost/training.py:199: UserWarning: [05:42:16] WARNING: /workspace/src/learner.cc:790: \n",
      "Parameters: { \"use_label_encoder\" } are not used.\n",
      "\n",
      "  bst.update(dtrain, iteration=i, fobj=obj)\n",
      "/usr/local/lib/python3.12/dist-packages/xgboost/training.py:199: UserWarning: [05:42:48] WARNING: /workspace/src/learner.cc:790: \n",
      "Parameters: { \"use_label_encoder\" } are not used.\n",
      "\n",
      "  bst.update(dtrain, iteration=i, fobj=obj)\n"
     ]
    },
    {
     "name": "stdout",
     "output_type": "stream",
     "text": [
      "[I 2025-10-27 05:43:17,287] Trial 68 finished with value: 0.9036244037175155 and parameters: {'n_estimators': 2691, 'learning_rate': 0.019442321417136935, 'max_depth': 3, 'subsample': 0.9680824212257366, 'colsample_bytree': 0.9096446736500092}. Best is trial 41 with value: 0.9056844633164801.\n"
     ]
    },
    {
     "name": "stderr",
     "output_type": "stream",
     "text": [
      "/usr/local/lib/python3.12/dist-packages/xgboost/training.py:199: UserWarning: [05:43:17] WARNING: /workspace/src/learner.cc:790: \n",
      "Parameters: { \"use_label_encoder\" } are not used.\n",
      "\n",
      "  bst.update(dtrain, iteration=i, fobj=obj)\n",
      "/usr/local/lib/python3.12/dist-packages/xgboost/training.py:199: UserWarning: [05:43:52] WARNING: /workspace/src/learner.cc:790: \n",
      "Parameters: { \"use_label_encoder\" } are not used.\n",
      "\n",
      "  bst.update(dtrain, iteration=i, fobj=obj)\n",
      "/usr/local/lib/python3.12/dist-packages/xgboost/training.py:199: UserWarning: [05:44:24] WARNING: /workspace/src/learner.cc:790: \n",
      "Parameters: { \"use_label_encoder\" } are not used.\n",
      "\n",
      "  bst.update(dtrain, iteration=i, fobj=obj)\n"
     ]
    },
    {
     "name": "stdout",
     "output_type": "stream",
     "text": [
      "[I 2025-10-27 05:45:00,654] Trial 69 finished with value: 0.9040750654586116 and parameters: {'n_estimators': 2481, 'learning_rate': 0.006587637456536431, 'max_depth': 4, 'subsample': 0.963467643257655, 'colsample_bytree': 0.9463694609000372}. Best is trial 41 with value: 0.9056844633164801.\n"
     ]
    },
    {
     "name": "stderr",
     "output_type": "stream",
     "text": [
      "/usr/local/lib/python3.12/dist-packages/xgboost/training.py:199: UserWarning: [05:45:00] WARNING: /workspace/src/learner.cc:790: \n",
      "Parameters: { \"use_label_encoder\" } are not used.\n",
      "\n",
      "  bst.update(dtrain, iteration=i, fobj=obj)\n",
      "/usr/local/lib/python3.12/dist-packages/xgboost/training.py:199: UserWarning: [05:45:12] WARNING: /workspace/src/learner.cc:790: \n",
      "Parameters: { \"use_label_encoder\" } are not used.\n",
      "\n",
      "  bst.update(dtrain, iteration=i, fobj=obj)\n",
      "/usr/local/lib/python3.12/dist-packages/xgboost/training.py:199: UserWarning: [05:45:23] WARNING: /workspace/src/learner.cc:790: \n",
      "Parameters: { \"use_label_encoder\" } are not used.\n",
      "\n",
      "  bst.update(dtrain, iteration=i, fobj=obj)\n"
     ]
    },
    {
     "name": "stdout",
     "output_type": "stream",
     "text": [
      "[I 2025-10-27 05:45:31,866] Trial 70 finished with value: 0.8704051173248762 and parameters: {'n_estimators': 902, 'learning_rate': 0.005025361453727626, 'max_depth': 3, 'subsample': 0.9742883399627359, 'colsample_bytree': 0.9224866329526291}. Best is trial 41 with value: 0.9056844633164801.\n"
     ]
    },
    {
     "name": "stderr",
     "output_type": "stream",
     "text": [
      "/usr/local/lib/python3.12/dist-packages/xgboost/training.py:199: UserWarning: [05:45:32] WARNING: /workspace/src/learner.cc:790: \n",
      "Parameters: { \"use_label_encoder\" } are not used.\n",
      "\n",
      "  bst.update(dtrain, iteration=i, fobj=obj)\n",
      "/usr/local/lib/python3.12/dist-packages/xgboost/training.py:199: UserWarning: [05:46:03] WARNING: /workspace/src/learner.cc:790: \n",
      "Parameters: { \"use_label_encoder\" } are not used.\n",
      "\n",
      "  bst.update(dtrain, iteration=i, fobj=obj)\n",
      "/usr/local/lib/python3.12/dist-packages/xgboost/training.py:199: UserWarning: [05:46:32] WARNING: /workspace/src/learner.cc:790: \n",
      "Parameters: { \"use_label_encoder\" } are not used.\n",
      "\n",
      "  bst.update(dtrain, iteration=i, fobj=obj)\n"
     ]
    },
    {
     "name": "stdout",
     "output_type": "stream",
     "text": [
      "[I 2025-10-27 05:47:02,007] Trial 71 finished with value: 0.905040738990751 and parameters: {'n_estimators': 2692, 'learning_rate': 0.009582658867444234, 'max_depth': 3, 'subsample': 0.9565201326570564, 'colsample_bytree': 0.9235075253819682}. Best is trial 41 with value: 0.9056844633164801.\n"
     ]
    },
    {
     "name": "stderr",
     "output_type": "stream",
     "text": [
      "/usr/local/lib/python3.12/dist-packages/xgboost/training.py:199: UserWarning: [05:47:02] WARNING: /workspace/src/learner.cc:790: \n",
      "Parameters: { \"use_label_encoder\" } are not used.\n",
      "\n",
      "  bst.update(dtrain, iteration=i, fobj=obj)\n",
      "/usr/local/lib/python3.12/dist-packages/xgboost/training.py:199: UserWarning: [05:47:42] WARNING: /workspace/src/learner.cc:790: \n",
      "Parameters: { \"use_label_encoder\" } are not used.\n",
      "\n",
      "  bst.update(dtrain, iteration=i, fobj=obj)\n",
      "/usr/local/lib/python3.12/dist-packages/xgboost/training.py:199: UserWarning: [05:48:16] WARNING: /workspace/src/learner.cc:790: \n",
      "Parameters: { \"use_label_encoder\" } are not used.\n",
      "\n",
      "  bst.update(dtrain, iteration=i, fobj=obj)\n"
     ]
    },
    {
     "name": "stdout",
     "output_type": "stream",
     "text": [
      "[I 2025-10-27 05:48:46,703] Trial 72 finished with value: 0.9044613522801767 and parameters: {'n_estimators': 2858, 'learning_rate': 0.008292415042158734, 'max_depth': 3, 'subsample': 0.9552896660551913, 'colsample_bytree': 0.9255292459193135}. Best is trial 41 with value: 0.9056844633164801.\n"
     ]
    },
    {
     "name": "stderr",
     "output_type": "stream",
     "text": [
      "/usr/local/lib/python3.12/dist-packages/xgboost/training.py:199: UserWarning: [05:48:46] WARNING: /workspace/src/learner.cc:790: \n",
      "Parameters: { \"use_label_encoder\" } are not used.\n",
      "\n",
      "  bst.update(dtrain, iteration=i, fobj=obj)\n",
      "/usr/local/lib/python3.12/dist-packages/xgboost/training.py:199: UserWarning: [05:49:22] WARNING: /workspace/src/learner.cc:790: \n",
      "Parameters: { \"use_label_encoder\" } are not used.\n",
      "\n",
      "  bst.update(dtrain, iteration=i, fobj=obj)\n",
      "/usr/local/lib/python3.12/dist-packages/xgboost/training.py:199: UserWarning: [05:49:51] WARNING: /workspace/src/learner.cc:790: \n",
      "Parameters: { \"use_label_encoder\" } are not used.\n",
      "\n",
      "  bst.update(dtrain, iteration=i, fobj=obj)\n"
     ]
    },
    {
     "name": "stdout",
     "output_type": "stream",
     "text": [
      "[I 2025-10-27 05:50:24,308] Trial 73 finished with value: 0.9052982635384609 and parameters: {'n_estimators': 2652, 'learning_rate': 0.009683984941762222, 'max_depth': 3, 'subsample': 0.951391048515121, 'colsample_bytree': 0.916279732888714}. Best is trial 41 with value: 0.9056844633164801.\n"
     ]
    },
    {
     "name": "stderr",
     "output_type": "stream",
     "text": [
      "/usr/local/lib/python3.12/dist-packages/xgboost/training.py:199: UserWarning: [05:50:24] WARNING: /workspace/src/learner.cc:790: \n",
      "Parameters: { \"use_label_encoder\" } are not used.\n",
      "\n",
      "  bst.update(dtrain, iteration=i, fobj=obj)\n",
      "/usr/local/lib/python3.12/dist-packages/xgboost/training.py:199: UserWarning: [05:50:55] WARNING: /workspace/src/learner.cc:790: \n",
      "Parameters: { \"use_label_encoder\" } are not used.\n",
      "\n",
      "  bst.update(dtrain, iteration=i, fobj=obj)\n",
      "/usr/local/lib/python3.12/dist-packages/xgboost/training.py:199: UserWarning: [05:51:25] WARNING: /workspace/src/learner.cc:790: \n",
      "Parameters: { \"use_label_encoder\" } are not used.\n",
      "\n",
      "  bst.update(dtrain, iteration=i, fobj=obj)\n"
     ]
    },
    {
     "name": "stdout",
     "output_type": "stream",
     "text": [
      "[I 2025-10-27 05:51:56,711] Trial 74 finished with value: 0.8946113056783056 and parameters: {'n_estimators': 2740, 'learning_rate': 0.11519446063459439, 'max_depth': 3, 'subsample': 0.9510380086947602, 'colsample_bytree': 0.9172225924186521}. Best is trial 41 with value: 0.9056844633164801.\n"
     ]
    },
    {
     "name": "stderr",
     "output_type": "stream",
     "text": [
      "/usr/local/lib/python3.12/dist-packages/xgboost/training.py:199: UserWarning: [05:51:56] WARNING: /workspace/src/learner.cc:790: \n",
      "Parameters: { \"use_label_encoder\" } are not used.\n",
      "\n",
      "  bst.update(dtrain, iteration=i, fobj=obj)\n",
      "/usr/local/lib/python3.12/dist-packages/xgboost/training.py:199: UserWarning: [05:52:11] WARNING: /workspace/src/learner.cc:790: \n",
      "Parameters: { \"use_label_encoder\" } are not used.\n",
      "\n",
      "  bst.update(dtrain, iteration=i, fobj=obj)\n",
      "/usr/local/lib/python3.12/dist-packages/xgboost/training.py:199: UserWarning: [05:52:26] WARNING: /workspace/src/learner.cc:790: \n",
      "Parameters: { \"use_label_encoder\" } are not used.\n",
      "\n",
      "  bst.update(dtrain, iteration=i, fobj=obj)\n"
     ]
    },
    {
     "name": "stdout",
     "output_type": "stream",
     "text": [
      "[I 2025-10-27 05:52:40,540] Trial 75 finished with value: 0.902208217661787 and parameters: {'n_estimators': 1325, 'learning_rate': 0.01128048477530211, 'max_depth': 3, 'subsample': 0.9456419752247256, 'colsample_bytree': 0.905784195961664}. Best is trial 41 with value: 0.9056844633164801.\n"
     ]
    },
    {
     "name": "stderr",
     "output_type": "stream",
     "text": [
      "/usr/local/lib/python3.12/dist-packages/xgboost/training.py:199: UserWarning: [05:52:40] WARNING: /workspace/src/learner.cc:790: \n",
      "Parameters: { \"use_label_encoder\" } are not used.\n",
      "\n",
      "  bst.update(dtrain, iteration=i, fobj=obj)\n",
      "/usr/local/lib/python3.12/dist-packages/xgboost/training.py:199: UserWarning: [05:53:11] WARNING: /workspace/src/learner.cc:790: \n",
      "Parameters: { \"use_label_encoder\" } are not used.\n",
      "\n",
      "  bst.update(dtrain, iteration=i, fobj=obj)\n",
      "/usr/local/lib/python3.12/dist-packages/xgboost/training.py:199: UserWarning: [05:53:43] WARNING: /workspace/src/learner.cc:790: \n",
      "Parameters: { \"use_label_encoder\" } are not used.\n",
      "\n",
      "  bst.update(dtrain, iteration=i, fobj=obj)\n"
     ]
    },
    {
     "name": "stdout",
     "output_type": "stream",
     "text": [
      "[I 2025-10-27 05:54:13,952] Trial 76 finished with value: 0.905040738990751 and parameters: {'n_estimators': 2342, 'learning_rate': 0.007811966561575413, 'max_depth': 4, 'subsample': 0.960975642832258, 'colsample_bytree': 0.9122362544365401}. Best is trial 41 with value: 0.9056844633164801.\n"
     ]
    },
    {
     "name": "stderr",
     "output_type": "stream",
     "text": [
      "/usr/local/lib/python3.12/dist-packages/xgboost/training.py:199: UserWarning: [05:54:14] WARNING: /workspace/src/learner.cc:790: \n",
      "Parameters: { \"use_label_encoder\" } are not used.\n",
      "\n",
      "  bst.update(dtrain, iteration=i, fobj=obj)\n",
      "/usr/local/lib/python3.12/dist-packages/xgboost/training.py:199: UserWarning: [05:54:43] WARNING: /workspace/src/learner.cc:790: \n",
      "Parameters: { \"use_label_encoder\" } are not used.\n",
      "\n",
      "  bst.update(dtrain, iteration=i, fobj=obj)\n",
      "/usr/local/lib/python3.12/dist-packages/xgboost/training.py:199: UserWarning: [05:55:14] WARNING: /workspace/src/learner.cc:790: \n",
      "Parameters: { \"use_label_encoder\" } are not used.\n",
      "\n",
      "  bst.update(dtrain, iteration=i, fobj=obj)\n"
     ]
    },
    {
     "name": "stdout",
     "output_type": "stream",
     "text": [
      "[I 2025-10-27 05:55:43,533] Trial 77 finished with value: 0.9044613025410074 and parameters: {'n_estimators': 2206, 'learning_rate': 0.0076937946470968105, 'max_depth': 4, 'subsample': 0.9607363562740798, 'colsample_bytree': 0.9122841880369473}. Best is trial 41 with value: 0.9056844633164801.\n"
     ]
    },
    {
     "name": "stderr",
     "output_type": "stream",
     "text": [
      "/usr/local/lib/python3.12/dist-packages/xgboost/training.py:199: UserWarning: [05:55:43] WARNING: /workspace/src/learner.cc:790: \n",
      "Parameters: { \"use_label_encoder\" } are not used.\n",
      "\n",
      "  bst.update(dtrain, iteration=i, fobj=obj)\n",
      "/usr/local/lib/python3.12/dist-packages/xgboost/training.py:199: UserWarning: [05:56:14] WARNING: /workspace/src/learner.cc:790: \n",
      "Parameters: { \"use_label_encoder\" } are not used.\n",
      "\n",
      "  bst.update(dtrain, iteration=i, fobj=obj)\n",
      "/usr/local/lib/python3.12/dist-packages/xgboost/training.py:199: UserWarning: [05:56:47] WARNING: /workspace/src/learner.cc:790: \n",
      "Parameters: { \"use_label_encoder\" } are not used.\n",
      "\n",
      "  bst.update(dtrain, iteration=i, fobj=obj)\n"
     ]
    },
    {
     "name": "stdout",
     "output_type": "stream",
     "text": [
      "[I 2025-10-27 05:57:17,668] Trial 78 finished with value: 0.9033024918154821 and parameters: {'n_estimators': 2319, 'learning_rate': 0.005887860378259588, 'max_depth': 4, 'subsample': 0.9366649281333503, 'colsample_bytree': 0.902990206586537}. Best is trial 41 with value: 0.9056844633164801.\n"
     ]
    },
    {
     "name": "stderr",
     "output_type": "stream",
     "text": [
      "/usr/local/lib/python3.12/dist-packages/xgboost/training.py:199: UserWarning: [05:57:17] WARNING: /workspace/src/learner.cc:790: \n",
      "Parameters: { \"use_label_encoder\" } are not used.\n",
      "\n",
      "  bst.update(dtrain, iteration=i, fobj=obj)\n",
      "/usr/local/lib/python3.12/dist-packages/xgboost/training.py:199: UserWarning: [05:58:06] WARNING: /workspace/src/learner.cc:790: \n",
      "Parameters: { \"use_label_encoder\" } are not used.\n",
      "\n",
      "  bst.update(dtrain, iteration=i, fobj=obj)\n",
      "/usr/local/lib/python3.12/dist-packages/xgboost/training.py:199: UserWarning: [05:58:54] WARNING: /workspace/src/learner.cc:790: \n",
      "Parameters: { \"use_label_encoder\" } are not used.\n",
      "\n",
      "  bst.update(dtrain, iteration=i, fobj=obj)\n"
     ]
    },
    {
     "name": "stdout",
     "output_type": "stream",
     "text": [
      "[I 2025-10-27 05:59:42,574] Trial 79 finished with value: 0.9014354201923966 and parameters: {'n_estimators': 2435, 'learning_rate': 0.009576579891673749, 'max_depth': 6, 'subsample': 0.9494350735320115, 'colsample_bytree': 0.907253279491531}. Best is trial 41 with value: 0.9056844633164801.\n"
     ]
    },
    {
     "name": "stderr",
     "output_type": "stream",
     "text": [
      "/usr/local/lib/python3.12/dist-packages/xgboost/training.py:199: UserWarning: [05:59:42] WARNING: /workspace/src/learner.cc:790: \n",
      "Parameters: { \"use_label_encoder\" } are not used.\n",
      "\n",
      "  bst.update(dtrain, iteration=i, fobj=obj)\n",
      "/usr/local/lib/python3.12/dist-packages/xgboost/training.py:199: UserWarning: [06:00:27] WARNING: /workspace/src/learner.cc:790: \n",
      "Parameters: { \"use_label_encoder\" } are not used.\n",
      "\n",
      "  bst.update(dtrain, iteration=i, fobj=obj)\n",
      "/usr/local/lib/python3.12/dist-packages/xgboost/training.py:199: UserWarning: [06:01:12] WARNING: /workspace/src/learner.cc:790: \n",
      "Parameters: { \"use_label_encoder\" } are not used.\n",
      "\n",
      "  bst.update(dtrain, iteration=i, fobj=obj)\n"
     ]
    },
    {
     "name": "stdout",
     "output_type": "stream",
     "text": [
      "[I 2025-10-27 06:01:54,318] Trial 80 finished with value: 0.9015642197706283 and parameters: {'n_estimators': 2564, 'learning_rate': 0.012920897737619823, 'max_depth': 5, 'subsample': 0.9528205508319793, 'colsample_bytree': 0.9153306663240833}. Best is trial 41 with value: 0.9056844633164801.\n"
     ]
    },
    {
     "name": "stderr",
     "output_type": "stream",
     "text": [
      "/usr/local/lib/python3.12/dist-packages/xgboost/training.py:199: UserWarning: [06:01:54] WARNING: /workspace/src/learner.cc:790: \n",
      "Parameters: { \"use_label_encoder\" } are not used.\n",
      "\n",
      "  bst.update(dtrain, iteration=i, fobj=obj)\n",
      "/usr/local/lib/python3.12/dist-packages/xgboost/training.py:199: UserWarning: [06:02:26] WARNING: /workspace/src/learner.cc:790: \n",
      "Parameters: { \"use_label_encoder\" } are not used.\n",
      "\n",
      "  bst.update(dtrain, iteration=i, fobj=obj)\n",
      "/usr/local/lib/python3.12/dist-packages/xgboost/training.py:199: UserWarning: [06:02:57] WARNING: /workspace/src/learner.cc:790: \n",
      "Parameters: { \"use_label_encoder\" } are not used.\n",
      "\n",
      "  bst.update(dtrain, iteration=i, fobj=obj)\n"
     ]
    },
    {
     "name": "stdout",
     "output_type": "stream",
     "text": [
      "[I 2025-10-27 06:03:28,754] Trial 81 finished with value: 0.90504078872992 and parameters: {'n_estimators': 2887, 'learning_rate': 0.008948361935838532, 'max_depth': 3, 'subsample': 0.9638945315922534, 'colsample_bytree': 0.9189454952350679}. Best is trial 41 with value: 0.9056844633164801.\n"
     ]
    },
    {
     "name": "stderr",
     "output_type": "stream",
     "text": [
      "/usr/local/lib/python3.12/dist-packages/xgboost/training.py:199: UserWarning: [06:03:28] WARNING: /workspace/src/learner.cc:790: \n",
      "Parameters: { \"use_label_encoder\" } are not used.\n",
      "\n",
      "  bst.update(dtrain, iteration=i, fobj=obj)\n",
      "/usr/local/lib/python3.12/dist-packages/xgboost/training.py:199: UserWarning: [06:04:05] WARNING: /workspace/src/learner.cc:790: \n",
      "Parameters: { \"use_label_encoder\" } are not used.\n",
      "\n",
      "  bst.update(dtrain, iteration=i, fobj=obj)\n",
      "/usr/local/lib/python3.12/dist-packages/xgboost/training.py:199: UserWarning: [06:04:38] WARNING: /workspace/src/learner.cc:790: \n",
      "Parameters: { \"use_label_encoder\" } are not used.\n",
      "\n",
      "  bst.update(dtrain, iteration=i, fobj=obj)\n"
     ]
    },
    {
     "name": "stdout",
     "output_type": "stream",
     "text": [
      "[I 2025-10-27 06:05:10,242] Trial 82 finished with value: 0.9052338761841373 and parameters: {'n_estimators': 3000, 'learning_rate': 0.008253720275067768, 'max_depth': 3, 'subsample': 0.9624984978732464, 'colsample_bytree': 0.9194676538508934}. Best is trial 41 with value: 0.9056844633164801.\n"
     ]
    },
    {
     "name": "stderr",
     "output_type": "stream",
     "text": [
      "/usr/local/lib/python3.12/dist-packages/xgboost/training.py:199: UserWarning: [06:05:10] WARNING: /workspace/src/learner.cc:790: \n",
      "Parameters: { \"use_label_encoder\" } are not used.\n",
      "\n",
      "  bst.update(dtrain, iteration=i, fobj=obj)\n",
      "/usr/local/lib/python3.12/dist-packages/xgboost/training.py:199: UserWarning: [06:05:40] WARNING: /workspace/src/learner.cc:790: \n",
      "Parameters: { \"use_label_encoder\" } are not used.\n",
      "\n",
      "  bst.update(dtrain, iteration=i, fobj=obj)\n",
      "/usr/local/lib/python3.12/dist-packages/xgboost/training.py:199: UserWarning: [06:06:13] WARNING: /workspace/src/learner.cc:790: \n",
      "Parameters: { \"use_label_encoder\" } are not used.\n",
      "\n",
      "  bst.update(dtrain, iteration=i, fobj=obj)\n"
     ]
    },
    {
     "name": "stdout",
     "output_type": "stream",
     "text": [
      "[I 2025-10-27 06:06:43,994] Trial 83 finished with value: 0.9045257520692925 and parameters: {'n_estimators': 2874, 'learning_rate': 0.008047203467695881, 'max_depth': 3, 'subsample': 0.9627049669919657, 'colsample_bytree': 0.9194892807275005}. Best is trial 41 with value: 0.9056844633164801.\n"
     ]
    },
    {
     "name": "stderr",
     "output_type": "stream",
     "text": [
      "/usr/local/lib/python3.12/dist-packages/xgboost/training.py:199: UserWarning: [06:06:44] WARNING: /workspace/src/learner.cc:790: \n",
      "Parameters: { \"use_label_encoder\" } are not used.\n",
      "\n",
      "  bst.update(dtrain, iteration=i, fobj=obj)\n",
      "/usr/local/lib/python3.12/dist-packages/xgboost/training.py:199: UserWarning: [06:07:17] WARNING: /workspace/src/learner.cc:790: \n",
      "Parameters: { \"use_label_encoder\" } are not used.\n",
      "\n",
      "  bst.update(dtrain, iteration=i, fobj=obj)\n",
      "/usr/local/lib/python3.12/dist-packages/xgboost/training.py:199: UserWarning: [06:07:49] WARNING: /workspace/src/learner.cc:790: \n",
      "Parameters: { \"use_label_encoder\" } are not used.\n",
      "\n",
      "  bst.update(dtrain, iteration=i, fobj=obj)\n"
     ]
    },
    {
     "name": "stdout",
     "output_type": "stream",
     "text": [
      "[I 2025-10-27 06:08:23,558] Trial 84 finished with value: 0.9055557259122095 and parameters: {'n_estimators': 2956, 'learning_rate': 0.008998754275682488, 'max_depth': 3, 'subsample': 0.9579392793153882, 'colsample_bytree': 0.9351744474981828}. Best is trial 41 with value: 0.9056844633164801.\n"
     ]
    },
    {
     "name": "stderr",
     "output_type": "stream",
     "text": [
      "/usr/local/lib/python3.12/dist-packages/xgboost/training.py:199: UserWarning: [06:08:23] WARNING: /workspace/src/learner.cc:790: \n",
      "Parameters: { \"use_label_encoder\" } are not used.\n",
      "\n",
      "  bst.update(dtrain, iteration=i, fobj=obj)\n",
      "/usr/local/lib/python3.12/dist-packages/xgboost/training.py:199: UserWarning: [06:08:55] WARNING: /workspace/src/learner.cc:790: \n",
      "Parameters: { \"use_label_encoder\" } are not used.\n",
      "\n",
      "  bst.update(dtrain, iteration=i, fobj=obj)\n",
      "/usr/local/lib/python3.12/dist-packages/xgboost/training.py:199: UserWarning: [06:09:29] WARNING: /workspace/src/learner.cc:790: \n",
      "Parameters: { \"use_label_encoder\" } are not used.\n",
      "\n",
      "  bst.update(dtrain, iteration=i, fobj=obj)\n"
     ]
    },
    {
     "name": "stdout",
     "output_type": "stream",
     "text": [
      "[I 2025-10-27 06:10:00,800] Trial 85 finished with value: 0.9053625887188232 and parameters: {'n_estimators': 2953, 'learning_rate': 0.009067332108956482, 'max_depth': 3, 'subsample': 0.9582259935865636, 'colsample_bytree': 0.9379608738524573}. Best is trial 41 with value: 0.9056844633164801.\n"
     ]
    },
    {
     "name": "stderr",
     "output_type": "stream",
     "text": [
      "/usr/local/lib/python3.12/dist-packages/xgboost/training.py:199: UserWarning: [06:10:00] WARNING: /workspace/src/learner.cc:790: \n",
      "Parameters: { \"use_label_encoder\" } are not used.\n",
      "\n",
      "  bst.update(dtrain, iteration=i, fobj=obj)\n",
      "/usr/local/lib/python3.12/dist-packages/xgboost/training.py:199: UserWarning: [06:10:35] WARNING: /workspace/src/learner.cc:790: \n",
      "Parameters: { \"use_label_encoder\" } are not used.\n",
      "\n",
      "  bst.update(dtrain, iteration=i, fobj=obj)\n",
      "/usr/local/lib/python3.12/dist-packages/xgboost/training.py:199: UserWarning: [06:11:07] WARNING: /workspace/src/learner.cc:790: \n",
      "Parameters: { \"use_label_encoder\" } are not used.\n",
      "\n",
      "  bst.update(dtrain, iteration=i, fobj=obj)\n"
     ]
    },
    {
     "name": "stdout",
     "output_type": "stream",
     "text": [
      "[I 2025-10-27 06:11:41,575] Trial 86 finished with value: 0.9036245280654379 and parameters: {'n_estimators': 2995, 'learning_rate': 0.0069294391241868395, 'max_depth': 3, 'subsample': 0.9537124690194199, 'colsample_bytree': 0.9375396645449765}. Best is trial 41 with value: 0.9056844633164801.\n"
     ]
    },
    {
     "name": "stderr",
     "output_type": "stream",
     "text": [
      "/usr/local/lib/python3.12/dist-packages/xgboost/training.py:199: UserWarning: [06:11:41] WARNING: /workspace/src/learner.cc:790: \n",
      "Parameters: { \"use_label_encoder\" } are not used.\n",
      "\n",
      "  bst.update(dtrain, iteration=i, fobj=obj)\n",
      "/usr/local/lib/python3.12/dist-packages/xgboost/training.py:199: UserWarning: [06:12:14] WARNING: /workspace/src/learner.cc:790: \n",
      "Parameters: { \"use_label_encoder\" } are not used.\n",
      "\n",
      "  bst.update(dtrain, iteration=i, fobj=obj)\n",
      "/usr/local/lib/python3.12/dist-packages/xgboost/training.py:199: UserWarning: [06:12:48] WARNING: /workspace/src/learner.cc:790: \n",
      "Parameters: { \"use_label_encoder\" } are not used.\n",
      "\n",
      "  bst.update(dtrain, iteration=i, fobj=obj)\n"
     ]
    },
    {
     "name": "stdout",
     "output_type": "stream",
     "text": [
      "[I 2025-10-27 06:13:20,742] Trial 87 finished with value: 0.9048475271886112 and parameters: {'n_estimators': 2946, 'learning_rate': 0.011089683593956432, 'max_depth': 3, 'subsample': 0.9581487783595186, 'colsample_bytree': 0.9344311306594709}. Best is trial 41 with value: 0.9056844633164801.\n"
     ]
    },
    {
     "name": "stderr",
     "output_type": "stream",
     "text": [
      "/usr/local/lib/python3.12/dist-packages/xgboost/training.py:199: UserWarning: [06:13:20] WARNING: /workspace/src/learner.cc:790: \n",
      "Parameters: { \"use_label_encoder\" } are not used.\n",
      "\n",
      "  bst.update(dtrain, iteration=i, fobj=obj)\n",
      "/usr/local/lib/python3.12/dist-packages/xgboost/training.py:199: UserWarning: [06:13:53] WARNING: /workspace/src/learner.cc:790: \n",
      "Parameters: { \"use_label_encoder\" } are not used.\n",
      "\n",
      "  bst.update(dtrain, iteration=i, fobj=obj)\n",
      "/usr/local/lib/python3.12/dist-packages/xgboost/training.py:199: UserWarning: [06:14:30] WARNING: /workspace/src/learner.cc:790: \n",
      "Parameters: { \"use_label_encoder\" } are not used.\n",
      "\n",
      "  bst.update(dtrain, iteration=i, fobj=obj)\n"
     ]
    },
    {
     "name": "stdout",
     "output_type": "stream",
     "text": [
      "[I 2025-10-27 06:15:05,033] Trial 88 finished with value: 0.9042038152976745 and parameters: {'n_estimators': 2794, 'learning_rate': 0.008601512253966145, 'max_depth': 3, 'subsample': 0.9647845162184181, 'colsample_bytree': 0.9306922176646562}. Best is trial 41 with value: 0.9056844633164801.\n"
     ]
    },
    {
     "name": "stderr",
     "output_type": "stream",
     "text": [
      "/usr/local/lib/python3.12/dist-packages/xgboost/training.py:199: UserWarning: [06:15:05] WARNING: /workspace/src/learner.cc:790: \n",
      "Parameters: { \"use_label_encoder\" } are not used.\n",
      "\n",
      "  bst.update(dtrain, iteration=i, fobj=obj)\n",
      "/usr/local/lib/python3.12/dist-packages/xgboost/training.py:199: UserWarning: [06:15:41] WARNING: /workspace/src/learner.cc:790: \n",
      "Parameters: { \"use_label_encoder\" } are not used.\n",
      "\n",
      "  bst.update(dtrain, iteration=i, fobj=obj)\n",
      "/usr/local/lib/python3.12/dist-packages/xgboost/training.py:199: UserWarning: [06:16:15] WARNING: /workspace/src/learner.cc:790: \n",
      "Parameters: { \"use_label_encoder\" } are not used.\n",
      "\n",
      "  bst.update(dtrain, iteration=i, fobj=obj)\n"
     ]
    },
    {
     "name": "stdout",
     "output_type": "stream",
     "text": [
      "[I 2025-10-27 06:16:48,873] Trial 89 finished with value: 0.9025944547441829 and parameters: {'n_estimators': 2903, 'learning_rate': 0.005742830854948098, 'max_depth': 3, 'subsample': 0.9495491737508255, 'colsample_bytree': 0.9270041384395948}. Best is trial 41 with value: 0.9056844633164801.\n"
     ]
    },
    {
     "name": "stderr",
     "output_type": "stream",
     "text": [
      "/usr/local/lib/python3.12/dist-packages/xgboost/training.py:199: UserWarning: [06:16:48] WARNING: /workspace/src/learner.cc:790: \n",
      "Parameters: { \"use_label_encoder\" } are not used.\n",
      "\n",
      "  bst.update(dtrain, iteration=i, fobj=obj)\n",
      "/usr/local/lib/python3.12/dist-packages/xgboost/training.py:199: UserWarning: [06:17:23] WARNING: /workspace/src/learner.cc:790: \n",
      "Parameters: { \"use_label_encoder\" } are not used.\n",
      "\n",
      "  bst.update(dtrain, iteration=i, fobj=obj)\n",
      "/usr/local/lib/python3.12/dist-packages/xgboost/training.py:199: UserWarning: [06:17:56] WARNING: /workspace/src/learner.cc:790: \n",
      "Parameters: { \"use_label_encoder\" } are not used.\n",
      "\n",
      "  bst.update(dtrain, iteration=i, fobj=obj)\n"
     ]
    },
    {
     "name": "stdout",
     "output_type": "stream",
     "text": [
      "[I 2025-10-27 06:18:31,016] Trial 90 finished with value: 0.90272322945283 and parameters: {'n_estimators': 2841, 'learning_rate': 0.006534769430883972, 'max_depth': 3, 'subsample': 0.9680358622027669, 'colsample_bytree': 0.9428243895788471}. Best is trial 41 with value: 0.9056844633164801.\n"
     ]
    },
    {
     "name": "stderr",
     "output_type": "stream",
     "text": [
      "/usr/local/lib/python3.12/dist-packages/xgboost/training.py:199: UserWarning: [06:18:31] WARNING: /workspace/src/learner.cc:790: \n",
      "Parameters: { \"use_label_encoder\" } are not used.\n",
      "\n",
      "  bst.update(dtrain, iteration=i, fobj=obj)\n",
      "/usr/local/lib/python3.12/dist-packages/xgboost/training.py:199: UserWarning: [06:19:03] WARNING: /workspace/src/learner.cc:790: \n",
      "Parameters: { \"use_label_encoder\" } are not used.\n",
      "\n",
      "  bst.update(dtrain, iteration=i, fobj=obj)\n",
      "/usr/local/lib/python3.12/dist-packages/xgboost/training.py:199: UserWarning: [06:19:36] WARNING: /workspace/src/learner.cc:790: \n",
      "Parameters: { \"use_label_encoder\" } are not used.\n",
      "\n",
      "  bst.update(dtrain, iteration=i, fobj=obj)\n"
     ]
    },
    {
     "name": "stdout",
     "output_type": "stream",
     "text": [
      "[I 2025-10-27 06:20:09,905] Trial 91 finished with value: 0.9054269512035623 and parameters: {'n_estimators': 2998, 'learning_rate': 0.009291326295438952, 'max_depth': 3, 'subsample': 0.9581694994116232, 'colsample_bytree': 0.9226485192798933}. Best is trial 41 with value: 0.9056844633164801.\n"
     ]
    },
    {
     "name": "stderr",
     "output_type": "stream",
     "text": [
      "/usr/local/lib/python3.12/dist-packages/xgboost/training.py:199: UserWarning: [06:20:10] WARNING: /workspace/src/learner.cc:790: \n",
      "Parameters: { \"use_label_encoder\" } are not used.\n",
      "\n",
      "  bst.update(dtrain, iteration=i, fobj=obj)\n",
      "/usr/local/lib/python3.12/dist-packages/xgboost/training.py:199: UserWarning: [06:20:42] WARNING: /workspace/src/learner.cc:790: \n",
      "Parameters: { \"use_label_encoder\" } are not used.\n",
      "\n",
      "  bst.update(dtrain, iteration=i, fobj=obj)\n",
      "/usr/local/lib/python3.12/dist-packages/xgboost/training.py:199: UserWarning: [06:21:14] WARNING: /workspace/src/learner.cc:790: \n",
      "Parameters: { \"use_label_encoder\" } are not used.\n",
      "\n",
      "  bst.update(dtrain, iteration=i, fobj=obj)\n"
     ]
    },
    {
     "name": "stdout",
     "output_type": "stream",
     "text": [
      "[I 2025-10-27 06:21:48,285] Trial 92 finished with value: 0.9045256774605388 and parameters: {'n_estimators': 2997, 'learning_rate': 0.010952340235181926, 'max_depth': 3, 'subsample': 0.9588707933012008, 'colsample_bytree': 0.9214952177457346}. Best is trial 41 with value: 0.9056844633164801.\n"
     ]
    },
    {
     "name": "stderr",
     "output_type": "stream",
     "text": [
      "/usr/local/lib/python3.12/dist-packages/xgboost/training.py:199: UserWarning: [06:21:48] WARNING: /workspace/src/learner.cc:790: \n",
      "Parameters: { \"use_label_encoder\" } are not used.\n",
      "\n",
      "  bst.update(dtrain, iteration=i, fobj=obj)\n",
      "/usr/local/lib/python3.12/dist-packages/xgboost/training.py:199: UserWarning: [06:22:18] WARNING: /workspace/src/learner.cc:790: \n",
      "Parameters: { \"use_label_encoder\" } are not used.\n",
      "\n",
      "  bst.update(dtrain, iteration=i, fobj=obj)\n",
      "/usr/local/lib/python3.12/dist-packages/xgboost/training.py:199: UserWarning: [06:22:49] WARNING: /workspace/src/learner.cc:790: \n",
      "Parameters: { \"use_label_encoder\" } are not used.\n",
      "\n",
      "  bst.update(dtrain, iteration=i, fobj=obj)\n"
     ]
    },
    {
     "name": "stdout",
     "output_type": "stream",
     "text": [
      "[I 2025-10-27 06:23:18,846] Trial 93 finished with value: 0.904911976716896 and parameters: {'n_estimators': 2768, 'learning_rate': 0.009031484759937033, 'max_depth': 3, 'subsample': 0.9615639654074126, 'colsample_bytree': 0.9288955988455216}. Best is trial 41 with value: 0.9056844633164801.\n"
     ]
    },
    {
     "name": "stderr",
     "output_type": "stream",
     "text": [
      "/usr/local/lib/python3.12/dist-packages/xgboost/training.py:199: UserWarning: [06:23:18] WARNING: /workspace/src/learner.cc:790: \n",
      "Parameters: { \"use_label_encoder\" } are not used.\n",
      "\n",
      "  bst.update(dtrain, iteration=i, fobj=obj)\n",
      "/usr/local/lib/python3.12/dist-packages/xgboost/training.py:199: UserWarning: [06:23:50] WARNING: /workspace/src/learner.cc:790: \n",
      "Parameters: { \"use_label_encoder\" } are not used.\n",
      "\n",
      "  bst.update(dtrain, iteration=i, fobj=obj)\n",
      "/usr/local/lib/python3.12/dist-packages/xgboost/training.py:199: UserWarning: [06:24:24] WARNING: /workspace/src/learner.cc:790: \n",
      "Parameters: { \"use_label_encoder\" } are not used.\n",
      "\n",
      "  bst.update(dtrain, iteration=i, fobj=obj)\n"
     ]
    },
    {
     "name": "stdout",
     "output_type": "stream",
     "text": [
      "[I 2025-10-27 06:24:55,554] Trial 94 finished with value: 0.9039464399674716 and parameters: {'n_estimators': 2922, 'learning_rate': 0.007254961711286837, 'max_depth': 3, 'subsample': 0.9420161448676756, 'colsample_bytree': 0.9361160915835832}. Best is trial 41 with value: 0.9056844633164801.\n"
     ]
    },
    {
     "name": "stderr",
     "output_type": "stream",
     "text": [
      "/usr/local/lib/python3.12/dist-packages/xgboost/training.py:199: UserWarning: [06:24:55] WARNING: /workspace/src/learner.cc:790: \n",
      "Parameters: { \"use_label_encoder\" } are not used.\n",
      "\n",
      "  bst.update(dtrain, iteration=i, fobj=obj)\n",
      "/usr/local/lib/python3.12/dist-packages/xgboost/training.py:199: UserWarning: [06:25:30] WARNING: /workspace/src/learner.cc:790: \n",
      "Parameters: { \"use_label_encoder\" } are not used.\n",
      "\n",
      "  bst.update(dtrain, iteration=i, fobj=obj)\n",
      "/usr/local/lib/python3.12/dist-packages/xgboost/training.py:199: UserWarning: [06:26:00] WARNING: /workspace/src/learner.cc:790: \n",
      "Parameters: { \"use_label_encoder\" } are not used.\n",
      "\n",
      "  bst.update(dtrain, iteration=i, fobj=obj)\n"
     ]
    },
    {
     "name": "stdout",
     "output_type": "stream",
     "text": [
      "[I 2025-10-27 06:26:33,028] Trial 95 finished with value: 0.9040750530238194 and parameters: {'n_estimators': 2863, 'learning_rate': 0.012317972677414139, 'max_depth': 3, 'subsample': 0.9512575316325569, 'colsample_bytree': 0.9270914674622607}. Best is trial 41 with value: 0.9056844633164801.\n"
     ]
    },
    {
     "name": "stderr",
     "output_type": "stream",
     "text": [
      "/usr/local/lib/python3.12/dist-packages/xgboost/training.py:199: UserWarning: [06:26:33] WARNING: /workspace/src/learner.cc:790: \n",
      "Parameters: { \"use_label_encoder\" } are not used.\n",
      "\n",
      "  bst.update(dtrain, iteration=i, fobj=obj)\n",
      "/usr/local/lib/python3.12/dist-packages/xgboost/training.py:199: UserWarning: [06:27:08] WARNING: /workspace/src/learner.cc:790: \n",
      "Parameters: { \"use_label_encoder\" } are not used.\n",
      "\n",
      "  bst.update(dtrain, iteration=i, fobj=obj)\n",
      "/usr/local/lib/python3.12/dist-packages/xgboost/training.py:199: UserWarning: [06:27:41] WARNING: /workspace/src/learner.cc:790: \n",
      "Parameters: { \"use_label_encoder\" } are not used.\n",
      "\n",
      "  bst.update(dtrain, iteration=i, fobj=obj)\n"
     ]
    },
    {
     "name": "stdout",
     "output_type": "stream",
     "text": [
      "[I 2025-10-27 06:28:14,268] Trial 96 finished with value: 0.9049763640712195 and parameters: {'n_estimators': 2954, 'learning_rate': 0.010224017903342176, 'max_depth': 3, 'subsample': 0.9163988512210248, 'colsample_bytree': 0.9166050079057936}. Best is trial 41 with value: 0.9056844633164801.\n"
     ]
    },
    {
     "name": "stderr",
     "output_type": "stream",
     "text": [
      "/usr/local/lib/python3.12/dist-packages/xgboost/training.py:199: UserWarning: [06:28:14] WARNING: /workspace/src/learner.cc:790: \n",
      "Parameters: { \"use_label_encoder\" } are not used.\n",
      "\n",
      "  bst.update(dtrain, iteration=i, fobj=obj)\n",
      "/usr/local/lib/python3.12/dist-packages/xgboost/training.py:199: UserWarning: [06:28:46] WARNING: /workspace/src/learner.cc:790: \n",
      "Parameters: { \"use_label_encoder\" } are not used.\n",
      "\n",
      "  bst.update(dtrain, iteration=i, fobj=obj)\n",
      "/usr/local/lib/python3.12/dist-packages/xgboost/training.py:199: UserWarning: [06:29:16] WARNING: /workspace/src/learner.cc:790: \n",
      "Parameters: { \"use_label_encoder\" } are not used.\n",
      "\n",
      "  bst.update(dtrain, iteration=i, fobj=obj)\n"
     ]
    },
    {
     "name": "stdout",
     "output_type": "stream",
     "text": [
      "[I 2025-10-27 06:29:47,682] Trial 97 finished with value: 0.9036888159414236 and parameters: {'n_estimators': 2778, 'learning_rate': 0.015317955419555643, 'max_depth': 3, 'subsample': 0.9543285905493295, 'colsample_bytree': 0.9534546588306956}. Best is trial 41 with value: 0.9056844633164801.\n"
     ]
    },
    {
     "name": "stderr",
     "output_type": "stream",
     "text": [
      "/usr/local/lib/python3.12/dist-packages/xgboost/training.py:199: UserWarning: [06:29:47] WARNING: /workspace/src/learner.cc:790: \n",
      "Parameters: { \"use_label_encoder\" } are not used.\n",
      "\n",
      "  bst.update(dtrain, iteration=i, fobj=obj)\n",
      "/usr/local/lib/python3.12/dist-packages/xgboost/training.py:199: UserWarning: [06:30:50] WARNING: /workspace/src/learner.cc:790: \n",
      "Parameters: { \"use_label_encoder\" } are not used.\n",
      "\n",
      "  bst.update(dtrain, iteration=i, fobj=obj)\n",
      "/usr/local/lib/python3.12/dist-packages/xgboost/training.py:199: UserWarning: [06:31:51] WARNING: /workspace/src/learner.cc:790: \n",
      "Parameters: { \"use_label_encoder\" } are not used.\n",
      "\n",
      "  bst.update(dtrain, iteration=i, fobj=obj)\n"
     ]
    },
    {
     "name": "stdout",
     "output_type": "stream",
     "text": [
      "[I 2025-10-27 06:32:52,858] Trial 98 finished with value: 0.8989890240326982 and parameters: {'n_estimators': 2871, 'learning_rate': 0.017446458142657478, 'max_depth': 7, 'subsample': 0.9576198059273764, 'colsample_bytree': 0.9194016377769464}. Best is trial 41 with value: 0.9056844633164801.\n"
     ]
    },
    {
     "name": "stderr",
     "output_type": "stream",
     "text": [
      "/usr/local/lib/python3.12/dist-packages/xgboost/training.py:199: UserWarning: [06:32:52] WARNING: /workspace/src/learner.cc:790: \n",
      "Parameters: { \"use_label_encoder\" } are not used.\n",
      "\n",
      "  bst.update(dtrain, iteration=i, fobj=obj)\n",
      "/usr/local/lib/python3.12/dist-packages/xgboost/training.py:199: UserWarning: [06:33:24] WARNING: /workspace/src/learner.cc:790: \n",
      "Parameters: { \"use_label_encoder\" } are not used.\n",
      "\n",
      "  bst.update(dtrain, iteration=i, fobj=obj)\n",
      "/usr/local/lib/python3.12/dist-packages/xgboost/training.py:199: UserWarning: [06:33:57] WARNING: /workspace/src/learner.cc:790: \n",
      "Parameters: { \"use_label_encoder\" } are not used.\n",
      "\n",
      "  bst.update(dtrain, iteration=i, fobj=obj)\n"
     ]
    },
    {
     "name": "stdout",
     "output_type": "stream",
     "text": [
      "[I 2025-10-27 06:34:29,183] Trial 99 finished with value: 0.904911976716896 and parameters: {'n_estimators': 2934, 'learning_rate': 0.00924443900342312, 'max_depth': 3, 'subsample': 0.9694888178471255, 'colsample_bytree': 0.9336501013875156}. Best is trial 41 with value: 0.9056844633164801.\n"
     ]
    },
    {
     "name": "stderr",
     "output_type": "stream",
     "text": [
      "/usr/local/lib/python3.12/dist-packages/xgboost/training.py:199: UserWarning: [06:34:29] WARNING: /workspace/src/learner.cc:790: \n",
      "Parameters: { \"use_label_encoder\" } are not used.\n",
      "\n",
      "  bst.update(dtrain, iteration=i, fobj=obj)\n",
      "/usr/local/lib/python3.12/dist-packages/xgboost/training.py:199: UserWarning: [06:35:01] WARNING: /workspace/src/learner.cc:790: \n",
      "Parameters: { \"use_label_encoder\" } are not used.\n",
      "\n",
      "  bst.update(dtrain, iteration=i, fobj=obj)\n",
      "/usr/local/lib/python3.12/dist-packages/xgboost/training.py:199: UserWarning: [06:35:32] WARNING: /workspace/src/learner.cc:790: \n",
      "Parameters: { \"use_label_encoder\" } are not used.\n",
      "\n",
      "  bst.update(dtrain, iteration=i, fobj=obj)\n"
     ]
    },
    {
     "name": "stdout",
     "output_type": "stream",
     "text": [
      "[I 2025-10-27 06:36:04,854] Trial 100 finished with value: 0.9045257520692925 and parameters: {'n_estimators': 2816, 'learning_rate': 0.013833949142381409, 'max_depth': 3, 'subsample': 0.9456573522165225, 'colsample_bytree': 0.9231201297954216}. Best is trial 41 with value: 0.9056844633164801.\n"
     ]
    },
    {
     "name": "stderr",
     "output_type": "stream",
     "text": [
      "/usr/local/lib/python3.12/dist-packages/xgboost/training.py:199: UserWarning: [06:36:04] WARNING: /workspace/src/learner.cc:790: \n",
      "Parameters: { \"use_label_encoder\" } are not used.\n",
      "\n",
      "  bst.update(dtrain, iteration=i, fobj=obj)\n",
      "/usr/local/lib/python3.12/dist-packages/xgboost/training.py:199: UserWarning: [06:36:34] WARNING: /workspace/src/learner.cc:790: \n",
      "Parameters: { \"use_label_encoder\" } are not used.\n",
      "\n",
      "  bst.update(dtrain, iteration=i, fobj=obj)\n",
      "/usr/local/lib/python3.12/dist-packages/xgboost/training.py:199: UserWarning: [06:37:03] WARNING: /workspace/src/learner.cc:790: \n",
      "Parameters: { \"use_label_encoder\" } are not used.\n",
      "\n",
      "  bst.update(dtrain, iteration=i, fobj=obj)\n"
     ]
    },
    {
     "name": "stdout",
     "output_type": "stream",
     "text": [
      "[I 2025-10-27 06:37:32,809] Trial 101 finished with value: 0.9048475769277801 and parameters: {'n_estimators': 2713, 'learning_rate': 0.009708610454376921, 'max_depth': 3, 'subsample': 0.9566863473792508, 'colsample_bytree': 0.9235154926375236}. Best is trial 41 with value: 0.9056844633164801.\n"
     ]
    },
    {
     "name": "stderr",
     "output_type": "stream",
     "text": [
      "/usr/local/lib/python3.12/dist-packages/xgboost/training.py:199: UserWarning: [06:37:32] WARNING: /workspace/src/learner.cc:790: \n",
      "Parameters: { \"use_label_encoder\" } are not used.\n",
      "\n",
      "  bst.update(dtrain, iteration=i, fobj=obj)\n",
      "/usr/local/lib/python3.12/dist-packages/xgboost/training.py:199: UserWarning: [06:38:03] WARNING: /workspace/src/learner.cc:790: \n",
      "Parameters: { \"use_label_encoder\" } are not used.\n",
      "\n",
      "  bst.update(dtrain, iteration=i, fobj=obj)\n",
      "/usr/local/lib/python3.12/dist-packages/xgboost/training.py:199: UserWarning: [06:38:32] WARNING: /workspace/src/learner.cc:790: \n",
      "Parameters: { \"use_label_encoder\" } are not used.\n",
      "\n",
      "  bst.update(dtrain, iteration=i, fobj=obj)\n"
     ]
    },
    {
     "name": "stdout",
     "output_type": "stream",
     "text": [
      "[I 2025-10-27 06:39:00,766] Trial 102 finished with value: 0.9047188892626788 and parameters: {'n_estimators': 2665, 'learning_rate': 0.008423346655033463, 'max_depth': 3, 'subsample': 0.9592086881581756, 'colsample_bytree': 0.9302650317101719}. Best is trial 41 with value: 0.9056844633164801.\n"
     ]
    },
    {
     "name": "stderr",
     "output_type": "stream",
     "text": [
      "/usr/local/lib/python3.12/dist-packages/xgboost/training.py:199: UserWarning: [06:39:00] WARNING: /workspace/src/learner.cc:790: \n",
      "Parameters: { \"use_label_encoder\" } are not used.\n",
      "\n",
      "  bst.update(dtrain, iteration=i, fobj=obj)\n",
      "/usr/local/lib/python3.12/dist-packages/xgboost/training.py:199: UserWarning: [06:39:28] WARNING: /workspace/src/learner.cc:790: \n",
      "Parameters: { \"use_label_encoder\" } are not used.\n",
      "\n",
      "  bst.update(dtrain, iteration=i, fobj=obj)\n",
      "/usr/local/lib/python3.12/dist-packages/xgboost/training.py:199: UserWarning: [06:39:56] WARNING: /workspace/src/learner.cc:790: \n",
      "Parameters: { \"use_label_encoder\" } are not used.\n",
      "\n",
      "  bst.update(dtrain, iteration=i, fobj=obj)\n"
     ]
    },
    {
     "name": "stdout",
     "output_type": "stream",
     "text": [
      "[I 2025-10-27 06:40:25,640] Trial 103 finished with value: 0.9043969027518917 and parameters: {'n_estimators': 2617, 'learning_rate': 0.011549343343192872, 'max_depth': 3, 'subsample': 0.9655456257603878, 'colsample_bytree': 0.9208577773112513}. Best is trial 41 with value: 0.9056844633164801.\n"
     ]
    },
    {
     "name": "stderr",
     "output_type": "stream",
     "text": [
      "/usr/local/lib/python3.12/dist-packages/xgboost/training.py:199: UserWarning: [06:40:25] WARNING: /workspace/src/learner.cc:790: \n",
      "Parameters: { \"use_label_encoder\" } are not used.\n",
      "\n",
      "  bst.update(dtrain, iteration=i, fobj=obj)\n",
      "/usr/local/lib/python3.12/dist-packages/xgboost/training.py:199: UserWarning: [06:40:58] WARNING: /workspace/src/learner.cc:790: \n",
      "Parameters: { \"use_label_encoder\" } are not used.\n",
      "\n",
      "  bst.update(dtrain, iteration=i, fobj=obj)\n",
      "/usr/local/lib/python3.12/dist-packages/xgboost/training.py:199: UserWarning: [06:41:34] WARNING: /workspace/src/learner.cc:790: \n",
      "Parameters: { \"use_label_encoder\" } are not used.\n",
      "\n",
      "  bst.update(dtrain, iteration=i, fobj=obj)\n"
     ]
    },
    {
     "name": "stdout",
     "output_type": "stream",
     "text": [
      "[I 2025-10-27 06:42:20,734] Trial 104 finished with value: 0.9036888532458004 and parameters: {'n_estimators': 2993, 'learning_rate': 0.007178796901169754, 'max_depth': 3, 'subsample': 0.9620831362372773, 'colsample_bytree': 0.9399242440257385}. Best is trial 41 with value: 0.9056844633164801.\n"
     ]
    },
    {
     "name": "stderr",
     "output_type": "stream",
     "text": [
      "/usr/local/lib/python3.12/dist-packages/xgboost/training.py:199: UserWarning: [06:42:20] WARNING: /workspace/src/learner.cc:790: \n",
      "Parameters: { \"use_label_encoder\" } are not used.\n",
      "\n",
      "  bst.update(dtrain, iteration=i, fobj=obj)\n",
      "/usr/local/lib/python3.12/dist-packages/xgboost/training.py:199: UserWarning: [06:42:53] WARNING: /workspace/src/learner.cc:790: \n",
      "Parameters: { \"use_label_encoder\" } are not used.\n",
      "\n",
      "  bst.update(dtrain, iteration=i, fobj=obj)\n",
      "/usr/local/lib/python3.12/dist-packages/xgboost/training.py:199: UserWarning: [06:43:24] WARNING: /workspace/src/learner.cc:790: \n",
      "Parameters: { \"use_label_encoder\" } are not used.\n",
      "\n",
      "  bst.update(dtrain, iteration=i, fobj=obj)\n"
     ]
    },
    {
     "name": "stdout",
     "output_type": "stream",
     "text": [
      "[I 2025-10-27 06:43:57,385] Trial 105 finished with value: 0.9049119394125192 and parameters: {'n_estimators': 2902, 'learning_rate': 0.009264415552479078, 'max_depth': 3, 'subsample': 0.9564052476984308, 'colsample_bytree': 0.9977576189623969}. Best is trial 41 with value: 0.9056844633164801.\n"
     ]
    },
    {
     "name": "stderr",
     "output_type": "stream",
     "text": [
      "/usr/local/lib/python3.12/dist-packages/xgboost/training.py:199: UserWarning: [06:43:57] WARNING: /workspace/src/learner.cc:790: \n",
      "Parameters: { \"use_label_encoder\" } are not used.\n",
      "\n",
      "  bst.update(dtrain, iteration=i, fobj=obj)\n",
      "/usr/local/lib/python3.12/dist-packages/xgboost/training.py:199: UserWarning: [06:44:27] WARNING: /workspace/src/learner.cc:790: \n",
      "Parameters: { \"use_label_encoder\" } are not used.\n",
      "\n",
      "  bst.update(dtrain, iteration=i, fobj=obj)\n",
      "/usr/local/lib/python3.12/dist-packages/xgboost/training.py:199: UserWarning: [06:45:02] WARNING: /workspace/src/learner.cc:790: \n",
      "Parameters: { \"use_label_encoder\" } are not used.\n",
      "\n",
      "  bst.update(dtrain, iteration=i, fobj=obj)\n"
     ]
    },
    {
     "name": "stdout",
     "output_type": "stream",
     "text": [
      "[I 2025-10-27 06:45:31,733] Trial 106 finished with value: 0.9027232667572069 and parameters: {'n_estimators': 2730, 'learning_rate': 0.006406268982094987, 'max_depth': 3, 'subsample': 0.9523168234458911, 'colsample_bytree': 0.9180681796524116}. Best is trial 41 with value: 0.9056844633164801.\n"
     ]
    },
    {
     "name": "stderr",
     "output_type": "stream",
     "text": [
      "/usr/local/lib/python3.12/dist-packages/xgboost/training.py:199: UserWarning: [06:45:31] WARNING: /workspace/src/learner.cc:790: \n",
      "Parameters: { \"use_label_encoder\" } are not used.\n",
      "\n",
      "  bst.update(dtrain, iteration=i, fobj=obj)\n",
      "/usr/local/lib/python3.12/dist-packages/xgboost/training.py:199: UserWarning: [06:46:02] WARNING: /workspace/src/learner.cc:790: \n",
      "Parameters: { \"use_label_encoder\" } are not used.\n",
      "\n",
      "  bst.update(dtrain, iteration=i, fobj=obj)\n",
      "/usr/local/lib/python3.12/dist-packages/xgboost/training.py:199: UserWarning: [06:46:34] WARNING: /workspace/src/learner.cc:790: \n",
      "Parameters: { \"use_label_encoder\" } are not used.\n",
      "\n",
      "  bst.update(dtrain, iteration=i, fobj=obj)\n"
     ]
    },
    {
     "name": "stdout",
     "output_type": "stream",
     "text": [
      "[I 2025-10-27 06:47:05,209] Trial 107 finished with value: 0.9049119891516882 and parameters: {'n_estimators': 2830, 'learning_rate': 0.010360570283206512, 'max_depth': 3, 'subsample': 0.9483182033042832, 'colsample_bytree': 0.9475081217225739}. Best is trial 41 with value: 0.9056844633164801.\n"
     ]
    },
    {
     "name": "stderr",
     "output_type": "stream",
     "text": [
      "/usr/local/lib/python3.12/dist-packages/xgboost/training.py:199: UserWarning: [06:47:05] WARNING: /workspace/src/learner.cc:790: \n",
      "Parameters: { \"use_label_encoder\" } are not used.\n",
      "\n",
      "  bst.update(dtrain, iteration=i, fobj=obj)\n",
      "/usr/local/lib/python3.12/dist-packages/xgboost/training.py:199: UserWarning: [06:47:32] WARNING: /workspace/src/learner.cc:790: \n",
      "Parameters: { \"use_label_encoder\" } are not used.\n",
      "\n",
      "  bst.update(dtrain, iteration=i, fobj=obj)\n",
      "/usr/local/lib/python3.12/dist-packages/xgboost/training.py:199: UserWarning: [06:47:59] WARNING: /workspace/src/learner.cc:790: \n",
      "Parameters: { \"use_label_encoder\" } are not used.\n",
      "\n",
      "  bst.update(dtrain, iteration=i, fobj=obj)\n"
     ]
    },
    {
     "name": "stdout",
     "output_type": "stream",
     "text": [
      "[I 2025-10-27 06:48:27,956] Trial 108 finished with value: 0.904654452169186 and parameters: {'n_estimators': 1978, 'learning_rate': 0.008001128313509298, 'max_depth': 4, 'subsample': 0.905814121633009, 'colsample_bytree': 0.9242931988143447}. Best is trial 41 with value: 0.9056844633164801.\n"
     ]
    },
    {
     "name": "stderr",
     "output_type": "stream",
     "text": [
      "/usr/local/lib/python3.12/dist-packages/xgboost/training.py:199: UserWarning: [06:48:28] WARNING: /workspace/src/learner.cc:790: \n",
      "Parameters: { \"use_label_encoder\" } are not used.\n",
      "\n",
      "  bst.update(dtrain, iteration=i, fobj=obj)\n",
      "/usr/local/lib/python3.12/dist-packages/xgboost/training.py:199: UserWarning: [06:49:01] WARNING: /workspace/src/learner.cc:790: \n",
      "Parameters: { \"use_label_encoder\" } are not used.\n",
      "\n",
      "  bst.update(dtrain, iteration=i, fobj=obj)\n",
      "/usr/local/lib/python3.12/dist-packages/xgboost/training.py:199: UserWarning: [06:49:34] WARNING: /workspace/src/learner.cc:790: \n",
      "Parameters: { \"use_label_encoder\" } are not used.\n",
      "\n",
      "  bst.update(dtrain, iteration=i, fobj=obj)\n"
     ]
    },
    {
     "name": "stdout",
     "output_type": "stream",
     "text": [
      "[I 2025-10-27 06:50:06,498] Trial 109 finished with value: 0.9029807415657477 and parameters: {'n_estimators': 2959, 'learning_rate': 0.005326133893299772, 'max_depth': 3, 'subsample': 0.9123424075396553, 'colsample_bytree': 0.9266858797325925}. Best is trial 41 with value: 0.9056844633164801.\n"
     ]
    },
    {
     "name": "stderr",
     "output_type": "stream",
     "text": [
      "/usr/local/lib/python3.12/dist-packages/xgboost/training.py:199: UserWarning: [06:50:06] WARNING: /workspace/src/learner.cc:790: \n",
      "Parameters: { \"use_label_encoder\" } are not used.\n",
      "\n",
      "  bst.update(dtrain, iteration=i, fobj=obj)\n",
      "/usr/local/lib/python3.12/dist-packages/xgboost/training.py:199: UserWarning: [06:50:34] WARNING: /workspace/src/learner.cc:790: \n",
      "Parameters: { \"use_label_encoder\" } are not used.\n",
      "\n",
      "  bst.update(dtrain, iteration=i, fobj=obj)\n",
      "/usr/local/lib/python3.12/dist-packages/xgboost/training.py:199: UserWarning: [06:51:02] WARNING: /workspace/src/learner.cc:790: \n",
      "Parameters: { \"use_label_encoder\" } are not used.\n",
      "\n",
      "  bst.update(dtrain, iteration=i, fobj=obj)\n"
     ]
    },
    {
     "name": "stdout",
     "output_type": "stream",
     "text": [
      "[I 2025-10-27 06:51:30,396] Trial 110 finished with value: 0.9031738663243418 and parameters: {'n_estimators': 2535, 'learning_rate': 0.0075654773917390675, 'max_depth': 3, 'subsample': 0.9636538141251831, 'colsample_bytree': 0.9144692778467232}. Best is trial 41 with value: 0.9056844633164801.\n"
     ]
    },
    {
     "name": "stderr",
     "output_type": "stream",
     "text": [
      "/usr/local/lib/python3.12/dist-packages/xgboost/training.py:199: UserWarning: [06:51:30] WARNING: /workspace/src/learner.cc:790: \n",
      "Parameters: { \"use_label_encoder\" } are not used.\n",
      "\n",
      "  bst.update(dtrain, iteration=i, fobj=obj)\n",
      "/usr/local/lib/python3.12/dist-packages/xgboost/training.py:199: UserWarning: [06:52:05] WARNING: /workspace/src/learner.cc:790: \n",
      "Parameters: { \"use_label_encoder\" } are not used.\n",
      "\n",
      "  bst.update(dtrain, iteration=i, fobj=obj)\n",
      "/usr/local/lib/python3.12/dist-packages/xgboost/training.py:199: UserWarning: [06:52:41] WARNING: /workspace/src/learner.cc:790: \n",
      "Parameters: { \"use_label_encoder\" } are not used.\n",
      "\n",
      "  bst.update(dtrain, iteration=i, fobj=obj)\n"
     ]
    },
    {
     "name": "stdout",
     "output_type": "stream",
     "text": [
      "[I 2025-10-27 06:53:17,349] Trial 111 finished with value: 0.9050408260342969 and parameters: {'n_estimators': 2637, 'learning_rate': 0.008475862657663305, 'max_depth': 4, 'subsample': 0.9608330489126361, 'colsample_bytree': 0.912113908576085}. Best is trial 41 with value: 0.9056844633164801.\n"
     ]
    },
    {
     "name": "stderr",
     "output_type": "stream",
     "text": [
      "/usr/local/lib/python3.12/dist-packages/xgboost/training.py:199: UserWarning: [06:53:17] WARNING: /workspace/src/learner.cc:790: \n",
      "Parameters: { \"use_label_encoder\" } are not used.\n",
      "\n",
      "  bst.update(dtrain, iteration=i, fobj=obj)\n",
      "/usr/local/lib/python3.12/dist-packages/xgboost/training.py:199: UserWarning: [06:53:47] WARNING: /workspace/src/learner.cc:790: \n",
      "Parameters: { \"use_label_encoder\" } are not used.\n",
      "\n",
      "  bst.update(dtrain, iteration=i, fobj=obj)\n",
      "/usr/local/lib/python3.12/dist-packages/xgboost/training.py:199: UserWarning: [06:54:17] WARNING: /workspace/src/learner.cc:790: \n",
      "Parameters: { \"use_label_encoder\" } are not used.\n",
      "\n",
      "  bst.update(dtrain, iteration=i, fobj=obj)\n"
     ]
    },
    {
     "name": "stdout",
     "output_type": "stream",
     "text": [
      "[I 2025-10-27 06:54:50,871] Trial 112 finished with value: 0.9042681777824134 and parameters: {'n_estimators': 2766, 'learning_rate': 0.008777148379077435, 'max_depth': 3, 'subsample': 0.9601246800743158, 'colsample_bytree': 0.9094422187794466}. Best is trial 41 with value: 0.9056844633164801.\n"
     ]
    },
    {
     "name": "stderr",
     "output_type": "stream",
     "text": [
      "/usr/local/lib/python3.12/dist-packages/xgboost/training.py:199: UserWarning: [06:54:50] WARNING: /workspace/src/learner.cc:790: \n",
      "Parameters: { \"use_label_encoder\" } are not used.\n",
      "\n",
      "  bst.update(dtrain, iteration=i, fobj=obj)\n",
      "/usr/local/lib/python3.12/dist-packages/xgboost/training.py:199: UserWarning: [06:55:34] WARNING: /workspace/src/learner.cc:790: \n",
      "Parameters: { \"use_label_encoder\" } are not used.\n",
      "\n",
      "  bst.update(dtrain, iteration=i, fobj=obj)\n",
      "/usr/local/lib/python3.12/dist-packages/xgboost/training.py:199: UserWarning: [06:56:16] WARNING: /workspace/src/learner.cc:790: \n",
      "Parameters: { \"use_label_encoder\" } are not used.\n",
      "\n",
      "  bst.update(dtrain, iteration=i, fobj=obj)\n"
     ]
    },
    {
     "name": "stdout",
     "output_type": "stream",
     "text": [
      "[I 2025-10-27 06:57:00,626] Trial 113 finished with value: 0.9025943179614679 and parameters: {'n_estimators': 2645, 'learning_rate': 0.010782137405217843, 'max_depth': 5, 'subsample': 0.9552333194190123, 'colsample_bytree': 0.9160792952059602}. Best is trial 41 with value: 0.9056844633164801.\n"
     ]
    },
    {
     "name": "stderr",
     "output_type": "stream",
     "text": [
      "/usr/local/lib/python3.12/dist-packages/xgboost/training.py:199: UserWarning: [06:57:00] WARNING: /workspace/src/learner.cc:790: \n",
      "Parameters: { \"use_label_encoder\" } are not used.\n",
      "\n",
      "  bst.update(dtrain, iteration=i, fobj=obj)\n",
      "/usr/local/lib/python3.12/dist-packages/xgboost/training.py:199: UserWarning: [06:57:39] WARNING: /workspace/src/learner.cc:790: \n",
      "Parameters: { \"use_label_encoder\" } are not used.\n",
      "\n",
      "  bst.update(dtrain, iteration=i, fobj=obj)\n",
      "/usr/local/lib/python3.12/dist-packages/xgboost/training.py:199: UserWarning: [06:58:15] WARNING: /workspace/src/learner.cc:790: \n",
      "Parameters: { \"use_label_encoder\" } are not used.\n",
      "\n",
      "  bst.update(dtrain, iteration=i, fobj=obj)\n"
     ]
    },
    {
     "name": "stdout",
     "output_type": "stream",
     "text": [
      "[I 2025-10-27 06:58:54,420] Trial 114 finished with value: 0.904654452169186 and parameters: {'n_estimators': 2881, 'learning_rate': 0.009417131297188304, 'max_depth': 4, 'subsample': 0.96762452654266, 'colsample_bytree': 0.9216567580034918}. Best is trial 41 with value: 0.9056844633164801.\n"
     ]
    },
    {
     "name": "stderr",
     "output_type": "stream",
     "text": [
      "/usr/local/lib/python3.12/dist-packages/xgboost/training.py:199: UserWarning: [06:58:54] WARNING: /workspace/src/learner.cc:790: \n",
      "Parameters: { \"use_label_encoder\" } are not used.\n",
      "\n",
      "  bst.update(dtrain, iteration=i, fobj=obj)\n",
      "/usr/local/lib/python3.12/dist-packages/xgboost/training.py:199: UserWarning: [06:59:26] WARNING: /workspace/src/learner.cc:790: \n",
      "Parameters: { \"use_label_encoder\" } are not used.\n",
      "\n",
      "  bst.update(dtrain, iteration=i, fobj=obj)\n",
      "/usr/local/lib/python3.12/dist-packages/xgboost/training.py:199: UserWarning: [06:59:56] WARNING: /workspace/src/learner.cc:790: \n",
      "Parameters: { \"use_label_encoder\" } are not used.\n",
      "\n",
      "  bst.update(dtrain, iteration=i, fobj=obj)\n"
     ]
    },
    {
     "name": "stdout",
     "output_type": "stream",
     "text": [
      "[I 2025-10-27 07:00:26,548] Trial 115 finished with value: 0.9043325651367371 and parameters: {'n_estimators': 2817, 'learning_rate': 0.012226522415027759, 'max_depth': 3, 'subsample': 0.9721966946741537, 'colsample_bytree': 0.9132993210000174}. Best is trial 41 with value: 0.9056844633164801.\n"
     ]
    },
    {
     "name": "stderr",
     "output_type": "stream",
     "text": [
      "/usr/local/lib/python3.12/dist-packages/xgboost/training.py:199: UserWarning: [07:00:26] WARNING: /workspace/src/learner.cc:790: \n",
      "Parameters: { \"use_label_encoder\" } are not used.\n",
      "\n",
      "  bst.update(dtrain, iteration=i, fobj=obj)\n",
      "/usr/local/lib/python3.12/dist-packages/xgboost/training.py:199: UserWarning: [07:00:59] WARNING: /workspace/src/learner.cc:790: \n",
      "Parameters: { \"use_label_encoder\" } are not used.\n",
      "\n",
      "  bst.update(dtrain, iteration=i, fobj=obj)\n",
      "/usr/local/lib/python3.12/dist-packages/xgboost/training.py:199: UserWarning: [07:01:37] WARNING: /workspace/src/learner.cc:790: \n",
      "Parameters: { \"use_label_encoder\" } are not used.\n",
      "\n",
      "  bst.update(dtrain, iteration=i, fobj=obj)\n"
     ]
    },
    {
     "name": "stdout",
     "output_type": "stream",
     "text": [
      "[I 2025-10-27 07:02:08,599] Trial 116 finished with value: 0.9036245031958535 and parameters: {'n_estimators': 2937, 'learning_rate': 0.006571853700356023, 'max_depth': 3, 'subsample': 0.92422527726796, 'colsample_bytree': 0.9196060230394045}. Best is trial 41 with value: 0.9056844633164801.\n"
     ]
    },
    {
     "name": "stderr",
     "output_type": "stream",
     "text": [
      "/usr/local/lib/python3.12/dist-packages/xgboost/training.py:199: UserWarning: [07:02:08] WARNING: /workspace/src/learner.cc:790: \n",
      "Parameters: { \"use_label_encoder\" } are not used.\n",
      "\n",
      "  bst.update(dtrain, iteration=i, fobj=obj)\n",
      "/usr/local/lib/python3.12/dist-packages/xgboost/training.py:199: UserWarning: [07:02:58] WARNING: /workspace/src/learner.cc:790: \n",
      "Parameters: { \"use_label_encoder\" } are not used.\n",
      "\n",
      "  bst.update(dtrain, iteration=i, fobj=obj)\n",
      "/usr/local/lib/python3.12/dist-packages/xgboost/training.py:199: UserWarning: [07:03:47] WARNING: /workspace/src/learner.cc:790: \n",
      "Parameters: { \"use_label_encoder\" } are not used.\n",
      "\n",
      "  bst.update(dtrain, iteration=i, fobj=obj)\n"
     ]
    },
    {
     "name": "stdout",
     "output_type": "stream",
     "text": [
      "[I 2025-10-27 07:04:34,856] Trial 117 finished with value: 0.9018861316726619 and parameters: {'n_estimators': 3000, 'learning_rate': 0.010039620247135353, 'max_depth': 5, 'subsample': 0.9511873745421308, 'colsample_bytree': 0.9327367884191411}. Best is trial 41 with value: 0.9056844633164801.\n"
     ]
    },
    {
     "name": "stderr",
     "output_type": "stream",
     "text": [
      "/usr/local/lib/python3.12/dist-packages/xgboost/training.py:199: UserWarning: [07:04:34] WARNING: /workspace/src/learner.cc:790: \n",
      "Parameters: { \"use_label_encoder\" } are not used.\n",
      "\n",
      "  bst.update(dtrain, iteration=i, fobj=obj)\n",
      "/usr/local/lib/python3.12/dist-packages/xgboost/training.py:199: UserWarning: [07:05:05] WARNING: /workspace/src/learner.cc:790: \n",
      "Parameters: { \"use_label_encoder\" } are not used.\n",
      "\n",
      "  bst.update(dtrain, iteration=i, fobj=obj)\n",
      "/usr/local/lib/python3.12/dist-packages/xgboost/training.py:199: UserWarning: [07:05:34] WARNING: /workspace/src/learner.cc:790: \n",
      "Parameters: { \"use_label_encoder\" } are not used.\n",
      "\n",
      "  bst.update(dtrain, iteration=i, fobj=obj)\n"
     ]
    },
    {
     "name": "stdout",
     "output_type": "stream",
     "text": [
      "[I 2025-10-27 07:06:03,580] Trial 118 finished with value: 0.9043325900063216 and parameters: {'n_estimators': 2725, 'learning_rate': 0.008413040793648234, 'max_depth': 3, 'subsample': 0.9586793428831221, 'colsample_bytree': 0.9246307340210657}. Best is trial 41 with value: 0.9056844633164801.\n"
     ]
    },
    {
     "name": "stderr",
     "output_type": "stream",
     "text": [
      "/usr/local/lib/python3.12/dist-packages/xgboost/training.py:199: UserWarning: [07:06:03] WARNING: /workspace/src/learner.cc:790: \n",
      "Parameters: { \"use_label_encoder\" } are not used.\n",
      "\n",
      "  bst.update(dtrain, iteration=i, fobj=obj)\n",
      "/usr/local/lib/python3.12/dist-packages/xgboost/training.py:199: UserWarning: [07:06:41] WARNING: /workspace/src/learner.cc:790: \n",
      "Parameters: { \"use_label_encoder\" } are not used.\n",
      "\n",
      "  bst.update(dtrain, iteration=i, fobj=obj)\n",
      "/usr/local/lib/python3.12/dist-packages/xgboost/training.py:199: UserWarning: [07:07:20] WARNING: /workspace/src/learner.cc:790: \n",
      "Parameters: { \"use_label_encoder\" } are not used.\n",
      "\n",
      "  bst.update(dtrain, iteration=i, fobj=obj)\n"
     ]
    },
    {
     "name": "stdout",
     "output_type": "stream",
     "text": [
      "[I 2025-10-27 07:07:58,432] Trial 119 finished with value: 0.9051695385689826 and parameters: {'n_estimators': 2873, 'learning_rate': 0.007458357454330173, 'max_depth': 4, 'subsample': 0.9631164448001504, 'colsample_bytree': 0.9287217616247507}. Best is trial 41 with value: 0.9056844633164801.\n"
     ]
    },
    {
     "name": "stderr",
     "output_type": "stream",
     "text": [
      "/usr/local/lib/python3.12/dist-packages/xgboost/training.py:199: UserWarning: [07:07:58] WARNING: /workspace/src/learner.cc:790: \n",
      "Parameters: { \"use_label_encoder\" } are not used.\n",
      "\n",
      "  bst.update(dtrain, iteration=i, fobj=obj)\n",
      "/usr/local/lib/python3.12/dist-packages/xgboost/training.py:199: UserWarning: [07:08:38] WARNING: /workspace/src/learner.cc:790: \n",
      "Parameters: { \"use_label_encoder\" } are not used.\n",
      "\n",
      "  bst.update(dtrain, iteration=i, fobj=obj)\n",
      "/usr/local/lib/python3.12/dist-packages/xgboost/training.py:199: UserWarning: [07:09:18] WARNING: /workspace/src/learner.cc:790: \n",
      "Parameters: { \"use_label_encoder\" } are not used.\n",
      "\n",
      "  bst.update(dtrain, iteration=i, fobj=obj)\n"
     ]
    },
    {
     "name": "stdout",
     "output_type": "stream",
     "text": [
      "[I 2025-10-27 07:09:57,407] Trial 120 finished with value: 0.9047188395235097 and parameters: {'n_estimators': 2891, 'learning_rate': 0.006084704022850243, 'max_depth': 4, 'subsample': 0.9648102656146011, 'colsample_bytree': 0.9283850950327373}. Best is trial 41 with value: 0.9056844633164801.\n"
     ]
    },
    {
     "name": "stderr",
     "output_type": "stream",
     "text": [
      "/usr/local/lib/python3.12/dist-packages/xgboost/training.py:199: UserWarning: [07:09:57] WARNING: /workspace/src/learner.cc:790: \n",
      "Parameters: { \"use_label_encoder\" } are not used.\n",
      "\n",
      "  bst.update(dtrain, iteration=i, fobj=obj)\n",
      "/usr/local/lib/python3.12/dist-packages/xgboost/training.py:199: UserWarning: [07:10:35] WARNING: /workspace/src/learner.cc:790: \n",
      "Parameters: { \"use_label_encoder\" } are not used.\n",
      "\n",
      "  bst.update(dtrain, iteration=i, fobj=obj)\n",
      "/usr/local/lib/python3.12/dist-packages/xgboost/training.py:199: UserWarning: [07:11:13] WARNING: /workspace/src/learner.cc:790: \n",
      "Parameters: { \"use_label_encoder\" } are not used.\n",
      "\n",
      "  bst.update(dtrain, iteration=i, fobj=obj)\n"
     ]
    },
    {
     "name": "stdout",
     "output_type": "stream",
     "text": [
      "[I 2025-10-27 07:11:49,935] Trial 121 finished with value: 0.9050407514255432 and parameters: {'n_estimators': 2827, 'learning_rate': 0.007576977623932511, 'max_depth': 4, 'subsample': 0.9624602721704575, 'colsample_bytree': 0.9307889034335778}. Best is trial 41 with value: 0.9056844633164801.\n"
     ]
    },
    {
     "name": "stderr",
     "output_type": "stream",
     "text": [
      "/usr/local/lib/python3.12/dist-packages/xgboost/training.py:199: UserWarning: [07:11:50] WARNING: /workspace/src/learner.cc:790: \n",
      "Parameters: { \"use_label_encoder\" } are not used.\n",
      "\n",
      "  bst.update(dtrain, iteration=i, fobj=obj)\n",
      "/usr/local/lib/python3.12/dist-packages/xgboost/training.py:199: UserWarning: [07:12:25] WARNING: /workspace/src/learner.cc:790: \n",
      "Parameters: { \"use_label_encoder\" } are not used.\n",
      "\n",
      "  bst.update(dtrain, iteration=i, fobj=obj)\n",
      "/usr/local/lib/python3.12/dist-packages/xgboost/training.py:199: UserWarning: [07:13:02] WARNING: /workspace/src/learner.cc:790: \n",
      "Parameters: { \"use_label_encoder\" } are not used.\n",
      "\n",
      "  bst.update(dtrain, iteration=i, fobj=obj)\n"
     ]
    },
    {
     "name": "stdout",
     "output_type": "stream",
     "text": [
      "[I 2025-10-27 07:13:41,122] Trial 122 finished with value: 0.9047188643930942 and parameters: {'n_estimators': 2840, 'learning_rate': 0.007682942737530612, 'max_depth': 4, 'subsample': 0.9606856814280988, 'colsample_bytree': 0.9395750803572794}. Best is trial 41 with value: 0.9056844633164801.\n"
     ]
    },
    {
     "name": "stderr",
     "output_type": "stream",
     "text": [
      "/usr/local/lib/python3.12/dist-packages/xgboost/training.py:199: UserWarning: [07:13:41] WARNING: /workspace/src/learner.cc:790: \n",
      "Parameters: { \"use_label_encoder\" } are not used.\n",
      "\n",
      "  bst.update(dtrain, iteration=i, fobj=obj)\n",
      "/usr/local/lib/python3.12/dist-packages/xgboost/training.py:199: UserWarning: [07:14:19] WARNING: /workspace/src/learner.cc:790: \n",
      "Parameters: { \"use_label_encoder\" } are not used.\n",
      "\n",
      "  bst.update(dtrain, iteration=i, fobj=obj)\n",
      "/usr/local/lib/python3.12/dist-packages/xgboost/training.py:199: UserWarning: [07:14:58] WARNING: /workspace/src/learner.cc:790: \n",
      "Parameters: { \"use_label_encoder\" } are not used.\n",
      "\n",
      "  bst.update(dtrain, iteration=i, fobj=obj)\n"
     ]
    },
    {
     "name": "stdout",
     "output_type": "stream",
     "text": [
      "[I 2025-10-27 07:15:37,541] Trial 123 finished with value: 0.9047188395235097 and parameters: {'n_estimators': 2947, 'learning_rate': 0.006991185288024786, 'max_depth': 4, 'subsample': 0.962994344397766, 'colsample_bytree': 0.9325572035545525}. Best is trial 41 with value: 0.9056844633164801.\n"
     ]
    },
    {
     "name": "stderr",
     "output_type": "stream",
     "text": [
      "/usr/local/lib/python3.12/dist-packages/xgboost/training.py:199: UserWarning: [07:15:37] WARNING: /workspace/src/learner.cc:790: \n",
      "Parameters: { \"use_label_encoder\" } are not used.\n",
      "\n",
      "  bst.update(dtrain, iteration=i, fobj=obj)\n",
      "/usr/local/lib/python3.12/dist-packages/xgboost/training.py:199: UserWarning: [07:16:14] WARNING: /workspace/src/learner.cc:790: \n",
      "Parameters: { \"use_label_encoder\" } are not used.\n",
      "\n",
      "  bst.update(dtrain, iteration=i, fobj=obj)\n",
      "/usr/local/lib/python3.12/dist-packages/xgboost/training.py:199: UserWarning: [07:16:50] WARNING: /workspace/src/learner.cc:790: \n",
      "Parameters: { \"use_label_encoder\" } are not used.\n",
      "\n",
      "  bst.update(dtrain, iteration=i, fobj=obj)\n"
     ]
    },
    {
     "name": "stdout",
     "output_type": "stream",
     "text": [
      "[I 2025-10-27 07:17:26,279] Trial 124 finished with value: 0.9049120388908573 and parameters: {'n_estimators': 2785, 'learning_rate': 0.008525404032038164, 'max_depth': 4, 'subsample': 0.9656441049266254, 'colsample_bytree': 0.9305880518307091}. Best is trial 41 with value: 0.9056844633164801.\n"
     ]
    },
    {
     "name": "stderr",
     "output_type": "stream",
     "text": [
      "/usr/local/lib/python3.12/dist-packages/xgboost/training.py:199: UserWarning: [07:17:26] WARNING: /workspace/src/learner.cc:790: \n",
      "Parameters: { \"use_label_encoder\" } are not used.\n",
      "\n",
      "  bst.update(dtrain, iteration=i, fobj=obj)\n",
      "/usr/local/lib/python3.12/dist-packages/xgboost/training.py:199: UserWarning: [07:18:03] WARNING: /workspace/src/learner.cc:790: \n",
      "Parameters: { \"use_label_encoder\" } are not used.\n",
      "\n",
      "  bst.update(dtrain, iteration=i, fobj=obj)\n",
      "/usr/local/lib/python3.12/dist-packages/xgboost/training.py:199: UserWarning: [07:18:52] WARNING: /workspace/src/learner.cc:790: \n",
      "Parameters: { \"use_label_encoder\" } are not used.\n",
      "\n",
      "  bst.update(dtrain, iteration=i, fobj=obj)\n"
     ]
    },
    {
     "name": "stdout",
     "output_type": "stream",
     "text": [
      "[I 2025-10-27 07:19:30,579] Trial 125 finished with value: 0.9052338761841373 and parameters: {'n_estimators': 2893, 'learning_rate': 0.005625458045187976, 'max_depth': 4, 'subsample': 0.9287962538457749, 'colsample_bytree': 0.9266064967879812}. Best is trial 41 with value: 0.9056844633164801.\n"
     ]
    },
    {
     "name": "stderr",
     "output_type": "stream",
     "text": [
      "/usr/local/lib/python3.12/dist-packages/xgboost/training.py:199: UserWarning: [07:19:30] WARNING: /workspace/src/learner.cc:790: \n",
      "Parameters: { \"use_label_encoder\" } are not used.\n",
      "\n",
      "  bst.update(dtrain, iteration=i, fobj=obj)\n",
      "/usr/local/lib/python3.12/dist-packages/xgboost/training.py:199: UserWarning: [07:20:09] WARNING: /workspace/src/learner.cc:790: \n",
      "Parameters: { \"use_label_encoder\" } are not used.\n",
      "\n",
      "  bst.update(dtrain, iteration=i, fobj=obj)\n",
      "/usr/local/lib/python3.12/dist-packages/xgboost/training.py:199: UserWarning: [07:20:49] WARNING: /workspace/src/learner.cc:790: \n",
      "Parameters: { \"use_label_encoder\" } are not used.\n",
      "\n",
      "  bst.update(dtrain, iteration=i, fobj=obj)\n"
     ]
    },
    {
     "name": "stdout",
     "output_type": "stream",
     "text": [
      "[I 2025-10-27 07:21:29,061] Trial 126 finished with value: 0.9053626135884077 and parameters: {'n_estimators': 2903, 'learning_rate': 0.006142583617234526, 'max_depth': 4, 'subsample': 0.9192623683988675, 'colsample_bytree': 0.9264752753419719}. Best is trial 41 with value: 0.9056844633164801.\n"
     ]
    },
    {
     "name": "stderr",
     "output_type": "stream",
     "text": [
      "/usr/local/lib/python3.12/dist-packages/xgboost/training.py:199: UserWarning: [07:21:29] WARNING: /workspace/src/learner.cc:790: \n",
      "Parameters: { \"use_label_encoder\" } are not used.\n",
      "\n",
      "  bst.update(dtrain, iteration=i, fobj=obj)\n",
      "/usr/local/lib/python3.12/dist-packages/xgboost/training.py:199: UserWarning: [07:22:08] WARNING: /workspace/src/learner.cc:790: \n",
      "Parameters: { \"use_label_encoder\" } are not used.\n",
      "\n",
      "  bst.update(dtrain, iteration=i, fobj=obj)\n",
      "/usr/local/lib/python3.12/dist-packages/xgboost/training.py:199: UserWarning: [07:22:47] WARNING: /workspace/src/learner.cc:790: \n",
      "Parameters: { \"use_label_encoder\" } are not used.\n",
      "\n",
      "  bst.update(dtrain, iteration=i, fobj=obj)\n"
     ]
    },
    {
     "name": "stdout",
     "output_type": "stream",
     "text": [
      "[I 2025-10-27 07:23:27,169] Trial 127 finished with value: 0.9050407514255432 and parameters: {'n_estimators': 2940, 'learning_rate': 0.005678143051496711, 'max_depth': 4, 'subsample': 0.9202631055588948, 'colsample_bytree': 0.9265176264054532}. Best is trial 41 with value: 0.9056844633164801.\n"
     ]
    },
    {
     "name": "stderr",
     "output_type": "stream",
     "text": [
      "/usr/local/lib/python3.12/dist-packages/xgboost/training.py:199: UserWarning: [07:23:27] WARNING: /workspace/src/learner.cc:790: \n",
      "Parameters: { \"use_label_encoder\" } are not used.\n",
      "\n",
      "  bst.update(dtrain, iteration=i, fobj=obj)\n",
      "/usr/local/lib/python3.12/dist-packages/xgboost/training.py:199: UserWarning: [07:24:07] WARNING: /workspace/src/learner.cc:790: \n",
      "Parameters: { \"use_label_encoder\" } are not used.\n",
      "\n",
      "  bst.update(dtrain, iteration=i, fobj=obj)\n",
      "/usr/local/lib/python3.12/dist-packages/xgboost/training.py:199: UserWarning: [07:24:48] WARNING: /workspace/src/learner.cc:790: \n",
      "Parameters: { \"use_label_encoder\" } are not used.\n",
      "\n",
      "  bst.update(dtrain, iteration=i, fobj=obj)\n"
     ]
    },
    {
     "name": "stdout",
     "output_type": "stream",
     "text": [
      "[I 2025-10-27 07:25:29,179] Trial 128 finished with value: 0.9048476142321569 and parameters: {'n_estimators': 2999, 'learning_rate': 0.0054908172660170385, 'max_depth': 4, 'subsample': 0.9300306587366891, 'colsample_bytree': 0.9356702030452436}. Best is trial 41 with value: 0.9056844633164801.\n"
     ]
    },
    {
     "name": "stderr",
     "output_type": "stream",
     "text": [
      "/usr/local/lib/python3.12/dist-packages/xgboost/training.py:199: UserWarning: [07:25:29] WARNING: /workspace/src/learner.cc:790: \n",
      "Parameters: { \"use_label_encoder\" } are not used.\n",
      "\n",
      "  bst.update(dtrain, iteration=i, fobj=obj)\n",
      "/usr/local/lib/python3.12/dist-packages/xgboost/training.py:199: UserWarning: [07:26:08] WARNING: /workspace/src/learner.cc:790: \n",
      "Parameters: { \"use_label_encoder\" } are not used.\n",
      "\n",
      "  bst.update(dtrain, iteration=i, fobj=obj)\n",
      "/usr/local/lib/python3.12/dist-packages/xgboost/training.py:199: UserWarning: [07:26:46] WARNING: /workspace/src/learner.cc:790: \n",
      "Parameters: { \"use_label_encoder\" } are not used.\n",
      "\n",
      "  bst.update(dtrain, iteration=i, fobj=obj)\n"
     ]
    },
    {
     "name": "stdout",
     "output_type": "stream",
     "text": [
      "[I 2025-10-27 07:27:25,288] Trial 129 finished with value: 0.9050407514255433 and parameters: {'n_estimators': 2894, 'learning_rate': 0.0062460490528478355, 'max_depth': 4, 'subsample': 0.9097904122224564, 'colsample_bytree': 0.9219639094473682}. Best is trial 41 with value: 0.9056844633164801.\n",
      "\n",
      "===== Optuna Optimization Results =====\n",
      "Best CV Accuracy: 0.9057\n",
      "Best Parameters Found:\n",
      "  n_estimators: 2950\n",
      "  learning_rate: 0.009315057916276525\n",
      "  max_depth: 3\n",
      "  subsample: 0.9558414636269361\n",
      "  colsample_bytree: 0.9257045475188785\n",
      "\n",
      "===== Using Best Parameters for Final Training =====\n",
      "{'n_estimators': 2950, 'learning_rate': 0.009315057916276525, 'max_depth': 3, 'subsample': 0.9558414636269361, 'colsample_bytree': 0.9257045475188785, 'random_state': 42, 'use_label_encoder': False, 'eval_metric': 'mlogloss', 'n_jobs': -1}\n",
      "\n",
      "===== Fold 1 =====\n"
     ]
    },
    {
     "name": "stderr",
     "output_type": "stream",
     "text": [
      "/usr/local/lib/python3.12/dist-packages/xgboost/training.py:199: UserWarning: [07:27:25] WARNING: /workspace/src/learner.cc:790: \n",
      "Parameters: { \"use_label_encoder\" } are not used.\n",
      "\n",
      "  bst.update(dtrain, iteration=i, fobj=obj)\n"
     ]
    },
    {
     "name": "stdout",
     "output_type": "stream",
     "text": [
      "Validation Accuracy: 0.9028\n",
      "\n",
      "===== Fold 2 =====\n"
     ]
    },
    {
     "name": "stderr",
     "output_type": "stream",
     "text": [
      "/usr/local/lib/python3.12/dist-packages/xgboost/training.py:199: UserWarning: [07:28:14] WARNING: /workspace/src/learner.cc:790: \n",
      "Parameters: { \"use_label_encoder\" } are not used.\n",
      "\n",
      "  bst.update(dtrain, iteration=i, fobj=obj)\n"
     ]
    },
    {
     "name": "stdout",
     "output_type": "stream",
     "text": [
      "Validation Accuracy: 0.9038\n",
      "\n",
      "===== Fold 3 =====\n"
     ]
    },
    {
     "name": "stderr",
     "output_type": "stream",
     "text": [
      "/usr/local/lib/python3.12/dist-packages/xgboost/training.py:199: UserWarning: [07:29:01] WARNING: /workspace/src/learner.cc:790: \n",
      "Parameters: { \"use_label_encoder\" } are not used.\n",
      "\n",
      "  bst.update(dtrain, iteration=i, fobj=obj)\n"
     ]
    },
    {
     "name": "stdout",
     "output_type": "stream",
     "text": [
      "Validation Accuracy: 0.9034\n",
      "\n",
      "===== Fold 4 =====\n"
     ]
    },
    {
     "name": "stderr",
     "output_type": "stream",
     "text": [
      "/usr/local/lib/python3.12/dist-packages/xgboost/training.py:199: UserWarning: [07:29:47] WARNING: /workspace/src/learner.cc:790: \n",
      "Parameters: { \"use_label_encoder\" } are not used.\n",
      "\n",
      "  bst.update(dtrain, iteration=i, fobj=obj)\n"
     ]
    },
    {
     "name": "stdout",
     "output_type": "stream",
     "text": [
      "Validation Accuracy: 0.9076\n",
      "\n",
      "===== Fold 5 =====\n"
     ]
    },
    {
     "name": "stderr",
     "output_type": "stream",
     "text": [
      "/usr/local/lib/python3.12/dist-packages/xgboost/training.py:199: UserWarning: [07:30:31] WARNING: /workspace/src/learner.cc:790: \n",
      "Parameters: { \"use_label_encoder\" } are not used.\n",
      "\n",
      "  bst.update(dtrain, iteration=i, fobj=obj)\n"
     ]
    },
    {
     "name": "stdout",
     "output_type": "stream",
     "text": [
      "Validation Accuracy: 0.9053\n",
      "\n",
      "===== Final Results =====\n",
      "Mean CV Accuracy: 0.9046\n",
      "Std Dev: 0.0017\n",
      "\n",
      " Prediction Preview:\n",
      "      id       WeightCategory\n",
      "0  15533     Obesity_Type_III\n",
      "1  15534   Overweight_Level_I\n",
      "2  15535  Overweight_Level_II\n",
      "3  15536      Obesity_Type_II\n",
      "4  15537        Normal_Weight\n",
      "\n",
      "Total rows: 5225\n",
      "\n",
      " Saved 'predictions.csv' — ready for Kaggle upload!\n"
     ]
    }
   ],
   "source": [
    "# =====================================================\n",
    "# XGBoost Model with Optuna Hyperparameter Optimization\n",
    "# =====================================================\n",
    "\n",
    "import pandas as pd\n",
    "import numpy as np\n",
    "from sklearn.preprocessing import LabelEncoder, OneHotEncoder\n",
    "from sklearn.model_selection import StratifiedKFold, cross_val_score\n",
    "from sklearn.metrics import accuracy_score, make_scorer\n",
    "from xgboost.callback import EarlyStopping\n",
    "from xgboost import XGBClassifier\n",
    "from scipy.stats import mode\n",
    "import optuna\n",
    "\n",
    "# ======================\n",
    "# 1. Load Data\n",
    "# ======================\n",
    "train = pd.read_csv(\"train.csv\")\n",
    "test = pd.read_csv(\"test.csv\")\n",
    "\n",
    "print(\"Train Shape:\", train.shape)\n",
    "print(\"Test Shape:\", test.shape)\n",
    "\n",
    "# Drop id if exists\n",
    "if 'id' in train.columns:\n",
    "    train.drop('id', axis=1, inplace=True)\n",
    "if 'id' in test.columns:\n",
    "    test_id = test['id']\n",
    "    test.drop('id', axis=1, inplace=True)\n",
    "else:\n",
    "    test_id = pd.Series(range(len(test)), name='id')\n",
    "\n",
    "# Split target and features\n",
    "X_train = train.drop('WeightCategory', axis=1)\n",
    "y_train = train['WeightCategory']\n",
    "X_test = test\n",
    "\n",
    "# ======================\n",
    "# 2. One-Hot Encode categorical columns\n",
    "# ======================\n",
    "categorical_cols = X_train.select_dtypes(include='object').columns.tolist()\n",
    "numeric_cols = X_train.select_dtypes(exclude='object').columns.tolist()\n",
    "\n",
    "ohe = OneHotEncoder(drop=None, sparse_output=False, handle_unknown='ignore')\n",
    "\n",
    "X_train_cat_encoded = ohe.fit_transform(X_train[categorical_cols])\n",
    "X_test_cat_encoded = ohe.transform(X_test[categorical_cols])\n",
    "\n",
    "X_train_cat_encoded = pd.DataFrame(\n",
    "    X_train_cat_encoded,\n",
    "    columns=ohe.get_feature_names_out(categorical_cols),\n",
    "    index=X_train.index\n",
    ")\n",
    "X_test_cat_encoded = pd.DataFrame(\n",
    "    X_test_cat_encoded,\n",
    "    columns=ohe.get_feature_names_out(categorical_cols),\n",
    "    index=X_test.index\n",
    ")\n",
    "\n",
    "X_train_encoded = pd.concat([X_train[numeric_cols], X_train_cat_encoded], axis=1)\n",
    "X_test_encoded = pd.concat([X_test[numeric_cols], X_test_cat_encoded], axis=1)\n",
    "\n",
    "# ======================\n",
    "# 3. Encode target labels\n",
    "# ======================\n",
    "label_encoder = LabelEncoder()\n",
    "y_train_encoded = label_encoder.fit_transform(y_train)\n",
    "\n",
    "print(f\"\\nEncoded Train Shape: {X_train_encoded.shape}\")\n",
    "print(f\"Encoded Test Shape: {X_test_encoded.shape}\")\n",
    "\n",
    "# ======================\n",
    "# 4. Define Optuna Objective\n",
    "# ======================\n",
    "def objective(trial):\n",
    "    params = {\n",
    "        \"n_estimators\": trial.suggest_int(\"n_estimators\", 500, 3000),\n",
    "        \"learning_rate\": trial.suggest_float(\"learning_rate\", 0.005, 0.5, log=True),\n",
    "        \"max_depth\": trial.suggest_int(\"max_depth\", 3, 8),\n",
    "        \"subsample\": trial.suggest_float(\"subsample\", 0.9, 1.0),\n",
    "        \"colsample_bytree\": trial.suggest_float(\"colsample_bytree\", 0.9, 1.0),\n",
    "        \"random_state\": 42,\n",
    "        \"use_label_encoder\": False,\n",
    "        \"eval_metric\": \"mlogloss\",\n",
    "        \"n_jobs\": -1,\n",
    "    }\n",
    "\n",
    "    kf = StratifiedKFold(n_splits=3, shuffle=True, random_state=42)\n",
    "    model = XGBClassifier(**params)\n",
    "\n",
    "    scores = cross_val_score(model, X_train_encoded, y_train_encoded,\n",
    "                             cv=kf, scoring=make_scorer(accuracy_score))\n",
    "    return scores.mean()\n",
    "\n",
    "# ======================\n",
    "# 5. Run Optuna Study\n",
    "# ======================\n",
    "print(\"\\n Running Optuna optimization (this may take a few minutes)...\")\n",
    "opt = optuna.create_study(direction=\"maximize\")\n",
    "opt.optimize(objective, n_trials=130, show_progress_bar=True)\n",
    "\n",
    "print(\"\\n===== Optuna Optimization Results =====\")\n",
    "print(f\"Best CV Accuracy: {opt.best_value:.4f}\")\n",
    "print(\"Best Parameters Found:\")\n",
    "for k, v in opt.best_params.items():\n",
    "    print(f\"  {k}: {v}\")\n",
    "\n",
    "# ======================\n",
    "# 6. Use Best Parameters\n",
    "# ======================\n",
    "best_params = opt.best_params\n",
    "best_params.update({\n",
    "    \"random_state\": 42,\n",
    "    \"use_label_encoder\": False,\n",
    "    \"eval_metric\": \"mlogloss\",\n",
    "    \"n_jobs\": -1\n",
    "})\n",
    "\n",
    "print(\"\\n===== Using Best Parameters for Final Training =====\")\n",
    "print(best_params)\n",
    "\n",
    "# ======================\n",
    "# 7. 5-Fold Cross Validation Training\n",
    "# ======================\n",
    "kf = StratifiedKFold(n_splits=5, shuffle=True, random_state=42)\n",
    "test_preds = np.zeros((X_test_encoded.shape[0], kf.n_splits))\n",
    "val_scores = []\n",
    "\n",
    "for fold, (train_idx, val_idx) in enumerate(kf.split(X_train_encoded, y_train_encoded)):\n",
    "    print(f\"\\n===== Fold {fold + 1} =====\")\n",
    "    X_tr, X_val = X_train_encoded.iloc[train_idx], X_train_encoded.iloc[val_idx]\n",
    "    y_tr, y_val = y_train_encoded[train_idx], y_train_encoded[val_idx]\n",
    "\n",
    "    model = XGBClassifier(**best_params)\n",
    "    model.fit(X_tr, y_tr, eval_set=[(X_val, y_val)], verbose=False)\n",
    "\n",
    "    val_pred = model.predict(X_val)\n",
    "    acc = accuracy_score(y_val, val_pred)\n",
    "    val_scores.append(acc)\n",
    "    print(f\"Validation Accuracy: {acc:.4f}\")\n",
    "\n",
    "    test_preds[:, fold] = model.predict(X_test_encoded)\n",
    "\n",
    "# ======================\n",
    "# 8. Ensemble Test Predictions\n",
    "# ======================\n",
    "if len(np.unique(y_train_encoded)) > 2:\n",
    "    final_preds = mode(test_preds, axis=1)[0].astype(int).ravel()\n",
    "else:\n",
    "    final_preds = np.round(test_preds.mean(axis=1)).astype(int)\n",
    "\n",
    "print(\"\\n===== Final Results =====\")\n",
    "print(f\"Mean CV Accuracy: {np.mean(val_scores):.4f}\")\n",
    "print(f\"Std Dev: {np.std(val_scores):.4f}\")\n",
    "\n",
    "# Decode predictions\n",
    "final_labels = label_encoder.inverse_transform(final_preds)\n",
    "\n",
    "# ======================\n",
    "# 9. Create Submission File\n",
    "# ======================\n",
    "submission = pd.DataFrame({\n",
    "    'id': test_id,\n",
    "    'WeightCategory': final_labels\n",
    "})\n",
    "\n",
    "print(\"\\n Prediction Preview:\")\n",
    "print(submission.head())\n",
    "print(f\"\\nTotal rows: {len(submission)}\")\n",
    "\n",
    "submission.to_csv(\"predictions.csv\", index=False)\n",
    "print(\"\\n Saved 'predictions.csv' — ready for Kaggle upload!\")\n"
   ]
  }
 ],
 "metadata": {
  "language_info": {
   "name": "python"
  }
 },
 "nbformat": 4,
 "nbformat_minor": 0
}
